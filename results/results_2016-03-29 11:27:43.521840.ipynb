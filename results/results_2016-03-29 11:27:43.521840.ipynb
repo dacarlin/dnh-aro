{
 "metadata": {},
 "nbformat": 3,
 "nbformat_minor": 0,
 "worksheets": [
  {
   "cells": [
    {
     "cell_type": "markdown",
     "metadata": {},
     "source": [
      "# Design notes\n",
      "\n",
      " 8 designs"
     ]
    },
    {
     "cell_type": "markdown",
     "metadata": {},
     "source": [
      "### UM_13_Y90D9_1_1b9b_11_hydratase_1_0001_0001\n",
      "**Scaffold**: 1b9b\n",
      "\n",
      "**Mutations**: N9D+C41A+I92A+S96N+I124G+C126G+V163D+A165G+Y166V+E167G+I172S+L209Y+G211S+L232G+G234E\n",
      "\n",
      "  + `total_score`: -72.6\n",
      "  + Tyrosine `total_score`: -1.21\n",
      "  + Glu/Asp `total_score`: -1.22\n",
      "  + Ligand `total_score`: -1.21\n",
      "\n",
      "**Notes**: \n",
      "\n",
      " --- \n"
     ]
    },
    {
     "cell_type": "markdown",
     "metadata": {},
     "source": [
      "### UM_14_Y102D146_1_1ghp_11_hydratase_1_0002_0001\n",
      "**Scaffold**: 1ghp\n",
      "\n",
      "**Mutations**: Y37M+A38S+S41G+K42A+I44L+N45A+N102Y+K116Q+R118V+L119A+T127S+P129A+L136A+F153A\n",
      "\n",
      "  + `total_score`: -360.43\n",
      "  + Tyrosine `total_score`: -1.31\n",
      "  + Glu/Asp `total_score`: -1.74\n",
      "  + Ligand `total_score`: -1.31\n",
      "\n",
      "**Notes**: \n",
      "\n",
      " --- \n"
     ]
    },
    {
     "cell_type": "markdown",
     "metadata": {},
     "source": [
      "### UM_21_Y93D143_1_1r5l_11_hydratase_1_0002_0001\n",
      "**Scaffold**: 1r5l\n",
      "\n",
      "**Mutations**: L71A+Y76S+I95A+W98G+V108G+F109M+Q140K+H143D\n",
      "\n",
      "  + `total_score`: -415.76\n",
      "  + Tyrosine `total_score`: -1.6\n",
      "  + Glu/Asp `total_score`: -1.63\n",
      "  + Ligand `total_score`: -1.6\n",
      "\n",
      "**Notes**: \n",
      "\n",
      " --- \n"
     ]
    },
    {
     "cell_type": "markdown",
     "metadata": {},
     "source": [
      "### UM_50_Y147D206_1_1abe_11_hydratase_1_0003_0001\n",
      "**Scaffold**: 1abe\n",
      "\n",
      "**Mutations**: K9S+Q10H+E13N+F16A+D89L+A147Y+N176P+M203G+N204A+S206D+T207I\n",
      "\n",
      "  + `total_score`: -374.16\n",
      "  + Tyrosine `total_score`: -1.31\n",
      "  + Glu/Asp `total_score`: -1.28\n",
      "  + Ligand `total_score`: -1.31\n",
      "\n",
      "**Notes**: \n",
      "\n",
      " --- \n"
     ]
    },
    {
     "cell_type": "markdown",
     "metadata": {},
     "source": [
      "### UM_50_Y66D6_1_1tuv_11_hydratase_1_0002_0001\n",
      "**Scaffold**: 1tuv\n",
      "\n",
      "**Mutations**: A6D+F24L+I27M+V31W+E34L+C37V+Y40N+P42A+E64A+W66Y+H75A+H80A+M81A+I97R\n",
      "\n",
      "  + `total_score`: -152.49\n",
      "  + Tyrosine `total_score`: -2.96\n",
      "  + Glu/Asp `total_score`: -1.68\n",
      "  + Ligand `total_score`: -2.96\n",
      "\n",
      "**Notes**: \n",
      "\n",
      " --- \n"
     ]
    },
    {
     "cell_type": "markdown",
     "metadata": {},
     "source": [
      "### UM_63_Y73E90_1_1j3f_11_hydratase_1_0000_0001\n",
      "**Scaffold**: 1j3f\n",
      "\n",
      "**Mutations**: K43A+V69L+G72K+L73Y+L90E+S93N+H94A\n",
      "\n",
      "  + `total_score`: -328.59\n",
      "  + Tyrosine `total_score`: -1.02\n",
      "  + Glu/Asp `total_score`: -1.37\n",
      "  + Ligand `total_score`: -1.02\n",
      "\n",
      "**Notes**: \n",
      "\n",
      " --- \n"
     ]
    },
    {
     "cell_type": "markdown",
     "metadata": {},
     "source": [
      "### UM_69_Y144D111_1_1cjw_11_hydratase_1_0004_0001\n",
      "**Scaffold**: 1cjw\n",
      "\n",
      "**Mutations**: I65R+H91M+L95G+L111D+Y114A+H117M+F144Y\n",
      "\n",
      "  + `total_score`: -322.52\n",
      "  + Tyrosine `total_score`: -2.92\n",
      "  + Glu/Asp `total_score`: -1.16\n",
      "  + Ligand `total_score`: -2.92\n",
      "\n",
      "**Notes**: \n",
      "\n",
      " --- \n"
     ]
    },
    {
     "cell_type": "markdown",
     "metadata": {},
     "source": [
      "### UM_71_Y153D114_1_1tt8_11_hydratase_1_0003_0001\n",
      "**Scaffold**: 1tt8\n",
      "\n",
      "**Mutations**: T92I+E103N+L106Q+L109A+L114D+R116S+F119A+L146W+L151A+L153Y\n",
      "\n",
      "  + `total_score`: -349.02\n",
      "  + Tyrosine `total_score`: -2.01\n",
      "  + Glu/Asp `total_score`: -1.4\n",
      "  + Ligand `total_score`: -2.01\n",
      "\n",
      "**Notes**: \n",
      "\n",
      " --- \n"
     ]
    }
   ],
   "metadata": {}
  }
 ]
}