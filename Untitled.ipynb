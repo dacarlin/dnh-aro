{
 "cells": [
  {
   "cell_type": "markdown",
   "metadata": {},
   "source": [
    "# *De novo* design of an allyl hydratase\n",
    "\n",
    "In this repo, we're designing for a large, aromatic substrate, 2-allylphenol. If we can show that we can get activity on that substrate (and if it's soluble), we'll move on to ethylene. "
   ]
  },
  {
   "cell_type": "markdown",
   "metadata": {},
   "source": [
    "## Input file prep \n",
    "\n",
    "We prepped our scaffold set, wrote constraint file, and generated ligand params file. \n",
    "\n",
    "## Match the theozyme into our scaffold set \n",
    "\n",
    "### Prep input files "
   ]
  },
  {
   "cell_type": "code",
   "execution_count": 135,
   "metadata": {
    "collapsed": false
   },
   "outputs": [],
   "source": [
    "# make a list of input structures \n",
    "from glob import glob \n",
    "runs = [ '-s {} -match:scaffold_active_site_residues {}'.format( s[6:], s[6:].replace( 'pdb', 'pos' ) ) for s in glob( 'match/scaffold_set/*pdb' ) ] \n",
    "with open( 'match/list', 'w' ) as fn:\n",
    "    fn.write( '\\n'.join( runs ) )"
   ]
  },
  {
   "cell_type": "markdown",
   "metadata": {},
   "source": [
    "### RosettaMatch run on scaffold set (207 proteins)"
   ]
  },
  {
   "cell_type": "code",
   "execution_count": 41,
   "metadata": {
    "collapsed": false
   },
   "outputs": [
    {
     "name": "stdout",
     "output_type": "stream",
     "text": [
      "40 runs\n",
      "Submitted batch job 741482\n"
     ]
    }
   ],
   "source": [
    "%%bash \n",
    "\n",
    "#cat out_of_mem_list > match/list\n",
    "runs=$( wc -l match/list | cut -d\" \" -f1 )\n",
    "echo $runs runs\n",
    "\n",
    "cd match && sbatch --array=1-$runs sub.sh"
   ]
  },
  {
   "cell_type": "code",
   "execution_count": 48,
   "metadata": {
    "collapsed": true
   },
   "outputs": [],
   "source": [
    "# 40 redos that failed with 8 GB \n",
    "# resubmitted with 16 GB \n",
    "# job ID 741482"
   ]
  },
  {
   "cell_type": "markdown",
   "metadata": {},
   "source": [
    "### Match results \n",
    "\n",
    "Using the classic match algorithm for both catalytic residues"
   ]
  },
  {
   "cell_type": "code",
   "execution_count": 143,
   "metadata": {
    "collapsed": false
   },
   "outputs": [
    {
     "name": "stdout",
     "output_type": "stream",
     "text": [
      "match/logs/slurm-741482_11.err\r\n"
     ]
    }
   ],
   "source": [
    "# the ones that still fail at 16 GB\n",
    "! grep -i memory match/logs/slurm-741482_{1..40}.err | cut -d: -f1 | sort | uniq "
   ]
  },
  {
   "cell_type": "markdown",
   "metadata": {},
   "source": [
    "Some of the jobs crash with only 8 GB of RAM, so we will collect those and run them again, bumping up the RAM per core to 16 GB "
   ]
  },
  {
   "cell_type": "code",
   "execution_count": 144,
   "metadata": {
    "collapsed": false
   },
   "outputs": [],
   "source": [
    "# 8GB match jobs 740932_1 through 740932_206"
   ]
  },
  {
   "cell_type": "code",
   "execution_count": 145,
   "metadata": {
    "collapsed": false,
    "scrolled": false
   },
   "outputs": [
    {
     "name": "stdout",
     "output_type": "stream",
     "text": [
      "10446\n",
      "0\n"
     ]
    }
   ],
   "source": [
    "! ls -1 match/UM*pdb | wc -l #number of matches \n",
    "! squeue -u carlin | grep match | wc -l \n",
    "#! grep CANCELLED match/logs/*740932* | grep . | wc -l "
   ]
  },
  {
   "cell_type": "code",
   "execution_count": null,
   "metadata": {
    "collapsed": false
   },
   "outputs": [],
   "source": [
    "! grep -i memory match/logs/slurm-740932_{1..206}.err | cut -d: -f1 | sort | uniq > out_of_mem \n",
    "! ( for i in \"$( cat out_of_mem )\"; do head -2 ${i/err/out} | tail -n 1 | cut -d@ -f2 | cut -c 7-; done ) > out_of_mem_list"
   ]
  },
  {
   "cell_type": "markdown",
   "metadata": {},
   "source": [
    "## Submit matches to enzyme design \n",
    "\n",
    "Now that we have matched the active site residues and the ligand into various positions in the protein backbones of our scaffold set, we'll use an enzyme design protocol to optimize the ligand placement and shape complementarity with the protein "
   ]
  },
  {
   "cell_type": "code",
   "execution_count": 297,
   "metadata": {
    "collapsed": false
   },
   "outputs": [],
   "source": [
    "from glob import glob\n",
    "nstruct = 5 \n",
    "\n",
    "runs = [ \n",
    "    '-s ../{} -suffix _{:04d}\\n'.format( i, j ) \n",
    "    for j in range( nstruct ) \n",
    "    for i in glob( 'match/UM*pdb' ) \n",
    "]\n",
    "\n",
    "with open( 'enzdes/list', 'w' ) as fn:\n",
    "    fn.write( ''.join( runs ) )"
   ]
  },
  {
   "cell_type": "code",
   "execution_count": 298,
   "metadata": {
    "collapsed": false
   },
   "outputs": [
    {
     "name": "stdout",
     "output_type": "stream",
     "text": [
      "52230 enzdes/list\n",
      "-s ../match/UM_8_Y80E52_1_1lbf_11_hydratase_1.pdb -suffix _0004\n",
      "-s ../match/UM_30_Y189E247_1_1fp2_11_hydratase_1.pdb -suffix _0004\n",
      "-s ../match/UM_85_Y137D99_1_1h1a_11_hydratase_1.pdb -suffix _0004\n",
      "-s ../match/UM_56_Y177E109_1_1igs_11_hydratase_1.pdb -suffix _0004\n",
      "-s ../match/UM_26_Y44E163_1_1ukb_11_hydratase_1.pdb -suffix _0004\n",
      "-s ../match/UM_44_Y147E231_1_1abe_11_hydratase_1.pdb -suffix _0004\n",
      "-s ../match/UM_19_Y69E241_1_1ls6_11_hydratase_1.pdb -suffix _0004\n",
      "-s ../match/UM_33_Y263E304_1_1cgz_11_hydratase_1.pdb -suffix _0004\n",
      "-s ../match/UM_12_Y74E114_1_1tt8_11_hydratase_1.pdb -suffix _0004\n",
      "-s ../match/UM_24_Y61D172_1_1re8_11_hydratase_1.pdb -suffix _0004\n"
     ]
    }
   ],
   "source": [
    "! wc -l enzdes/list\n",
    "! tail enzdes/list"
   ]
  },
  {
   "cell_type": "code",
   "execution_count": 299,
   "metadata": {
    "collapsed": false
   },
   "outputs": [
    {
     "name": "stdout",
     "output_type": "stream",
     "text": [
      "Submitted batch job 744446\n"
     ]
    }
   ],
   "source": [
    "%%bash\n",
    "\n",
    "#rm enzdes/logs/* \n",
    "cd enzdes && sbatch --array=1-52230 sub.sh \n",
    "\n",
    "# now the rest \n",
    "# cd enzdes && sbatch --array=101-$( wc -l list | cut -d\" \" -f1 ) sub.sh \n",
    "\n",
    "# now the real\n",
    "# cd enzdes && sbatch --array=1-$( wc -l list | cut -d\" \" -f1 ) sub.sh "
   ]
  },
  {
   "cell_type": "code",
   "execution_count": 300,
   "metadata": {
    "collapsed": true
   },
   "outputs": [],
   "source": [
    "# batch job 744446 submitted Sunday, March 26, with 52230 runs"
   ]
  },
  {
   "cell_type": "code",
   "execution_count": 301,
   "metadata": {
    "collapsed": false,
    "scrolled": true
   },
   "outputs": [
    {
     "name": "stdout",
     "output_type": "stream",
     "text": [
      "             JOBID PARTITION     NAME     USER ST       TIME  NODES NODELIST(REASON)\n",
      " 744446_[338-52230        gc   design   carlin PD       0:00      1 (None)\n",
      "        744446_148        gc   design   carlin  R       0:08      1 c4-3.hpc.genomecenter.ucdavis.edu\n",
      "        744446_149        gc   design   carlin  R       0:08      1 c4-3.hpc.genomecenter.ucdavis.edu\n",
      "        744446_150        gc   design   carlin  R       0:08      1 c4-3.hpc.genomecenter.ucdavis.edu\n",
      "        744446_151        gc   design   carlin  R       0:08      1 c4-3.hpc.genomecenter.ucdavis.edu\n",
      "        744446_152        gc   design   carlin  R       0:08      1 c4-3.hpc.genomecenter.ucdavis.edu\n",
      "        744446_153        gc   design   carlin  R       0:08      1 c4-3.hpc.genomecenter.ucdavis.edu\n",
      "        744446_154        gc   design   carlin  R       0:08      1 c4-3.hpc.genomecenter.ucdavis.edu\n",
      "        744446_155        gc   design   carlin  R       0:08      1 c4-3.hpc.genomecenter.ucdavis.edu\n",
      "        744446_156        gc   design   carlin  R       0:08      1 c4-3.hpc.genomecenter.ucdavis.edu\n",
      "        744446_157        gc   design   carlin  R       0:08      1 c4-3.hpc.genomecenter.ucdavis.edu\n",
      "        744446_158        gc   design   carlin  R       0:08      1 c4-3.hpc.genomecenter.ucdavis.edu\n",
      "        744446_159        gc   design   carlin  R       0:08      1 c4-3.hpc.genomecenter.ucdavis.edu\n",
      "        744446_160        gc   design   carlin  R       0:08      1 c4-3.hpc.genomecenter.ucdavis.edu\n",
      "        744446_161        gc   design   carlin  R       0:08      1 c4-3.hpc.genomecenter.ucdavis.edu\n",
      "        744446_162        gc   design   carlin  R       0:08      1 c4-3.hpc.genomecenter.ucdavis.edu\n",
      "        744446_163        gc   design   carlin  R       0:08      1 c4-3.hpc.genomecenter.ucdavis.edu\n",
      "        744446_164        gc   design   carlin  R       0:08      1 c4-3.hpc.genomecenter.ucdavis.edu\n",
      "        744446_165        gc   design   carlin  R       0:08      1 c4-3.hpc.genomecenter.ucdavis.edu\n",
      "        744446_166        gc   design   carlin  R       0:08      1 c4-3.hpc.genomecenter.ucdavis.edu\n",
      "        744446_167        gc   design   carlin  R       0:08      1 c4-3.hpc.genomecenter.ucdavis.edu\n",
      "        744446_168        gc   design   carlin  R       0:08      1 c4-3.hpc.genomecenter.ucdavis.edu\n",
      "        744446_169        gc   design   carlin  R       0:08      1 c4-3.hpc.genomecenter.ucdavis.edu\n",
      "        744446_170        gc   design   carlin  R       0:08      1 c4-3.hpc.genomecenter.ucdavis.edu\n",
      "        744446_171        gc   design   carlin  R       0:08      1 c4-3.hpc.genomecenter.ucdavis.edu\n",
      "        744446_172        gc   design   carlin  R       0:08      1 c4-3.hpc.genomecenter.ucdavis.edu\n",
      "        744446_173        gc   design   carlin  R       0:08      1 c4-3.hpc.genomecenter.ucdavis.edu\n",
      "        744446_174        gc   design   carlin  R       0:08      1 c4-3.hpc.genomecenter.ucdavis.edu\n",
      "        744446_175        gc   design   carlin  R       0:08      1 c4-3.hpc.genomecenter.ucdavis.edu\n",
      "        744446_176        gc   design   carlin  R       0:08      1 c4-3.hpc.genomecenter.ucdavis.edu\n",
      "        744446_177        gc   design   carlin  R       0:08      1 c4-3.hpc.genomecenter.ucdavis.edu\n",
      "        744446_178        gc   design   carlin  R       0:08      1 c4-3.hpc.genomecenter.ucdavis.edu\n",
      "        744446_179        gc   design   carlin  R       0:08      1 c4-3.hpc.genomecenter.ucdavis.edu\n",
      "        744446_180        gc   design   carlin  R       0:08      1 c4-3.hpc.genomecenter.ucdavis.edu\n",
      "        744446_181        gc   design   carlin  R       0:08      1 c4-3.hpc.genomecenter.ucdavis.edu\n",
      "        744446_182        gc   design   carlin  R       0:08      1 c4-3.hpc.genomecenter.ucdavis.edu\n",
      "        744446_183        gc   design   carlin  R       0:08      1 c4-3.hpc.genomecenter.ucdavis.edu\n",
      "        744446_184        gc   design   carlin  R       0:08      1 c4-3.hpc.genomecenter.ucdavis.edu\n",
      "        744446_185        gc   design   carlin  R       0:08      1 c4-3.hpc.genomecenter.ucdavis.edu\n",
      "        744446_186        gc   design   carlin  R       0:08      1 c6-18.hpc.genomecenter.ucdavis.edu\n",
      "        744446_187        gc   design   carlin  R       0:08      1 c6-18.hpc.genomecenter.ucdavis.edu\n",
      "        744446_188        gc   design   carlin  R       0:08      1 c6-18.hpc.genomecenter.ucdavis.edu\n",
      "        744446_189        gc   design   carlin  R       0:08      1 c6-18.hpc.genomecenter.ucdavis.edu\n",
      "        744446_190        gc   design   carlin  R       0:08      1 c6-18.hpc.genomecenter.ucdavis.edu\n",
      "        744446_191        gc   design   carlin  R       0:08      1 c6-18.hpc.genomecenter.ucdavis.edu\n",
      "        744446_192        gc   design   carlin  R       0:08      1 c6-18.hpc.genomecenter.ucdavis.edu\n",
      "        744446_193        gc   design   carlin  R       0:08      1 c6-18.hpc.genomecenter.ucdavis.edu\n",
      "        744446_194        gc   design   carlin  R       0:08      1 c6-18.hpc.genomecenter.ucdavis.edu\n",
      "        744446_195        gc   design   carlin  R       0:08      1 c6-18.hpc.genomecenter.ucdavis.edu\n",
      "        744446_196        gc   design   carlin  R       0:08      1 c6-18.hpc.genomecenter.ucdavis.edu\n",
      "        744446_197        gc   design   carlin  R       0:08      1 c6-18.hpc.genomecenter.ucdavis.edu\n",
      "        744446_198        gc   design   carlin  R       0:08      1 c6-18.hpc.genomecenter.ucdavis.edu\n",
      "        744446_199        gc   design   carlin  R       0:08      1 c6-18.hpc.genomecenter.ucdavis.edu\n",
      "        744446_200        gc   design   carlin  R       0:08      1 c6-18.hpc.genomecenter.ucdavis.edu\n",
      "        744446_201        gc   design   carlin  R       0:08      1 c6-18.hpc.genomecenter.ucdavis.edu\n",
      "        744446_202        gc   design   carlin  R       0:08      1 c6-19.hpc.genomecenter.ucdavis.edu\n",
      "        744446_203        gc   design   carlin  R       0:08      1 c6-19.hpc.genomecenter.ucdavis.edu\n",
      "        744446_204        gc   design   carlin  R       0:08      1 c6-19.hpc.genomecenter.ucdavis.edu\n",
      "        744446_205        gc   design   carlin  R       0:08      1 c6-19.hpc.genomecenter.ucdavis.edu\n",
      "        744446_206        gc   design   carlin  R       0:08      1 c6-19.hpc.genomecenter.ucdavis.edu\n",
      "        744446_207        gc   design   carlin  R       0:08      1 c6-19.hpc.genomecenter.ucdavis.edu\n",
      "        744446_208        gc   design   carlin  R       0:08      1 c6-19.hpc.genomecenter.ucdavis.edu\n",
      "        744446_209        gc   design   carlin  R       0:08      1 c6-19.hpc.genomecenter.ucdavis.edu\n",
      "        744446_210        gc   design   carlin  R       0:08      1 c6-19.hpc.genomecenter.ucdavis.edu\n",
      "        744446_211        gc   design   carlin  R       0:08      1 c6-19.hpc.genomecenter.ucdavis.edu\n",
      "        744446_212        gc   design   carlin  R       0:08      1 c6-19.hpc.genomecenter.ucdavis.edu\n",
      "        744446_213        gc   design   carlin  R       0:08      1 c6-19.hpc.genomecenter.ucdavis.edu\n",
      "        744446_214        gc   design   carlin  R       0:08      1 c6-19.hpc.genomecenter.ucdavis.edu\n",
      "        744446_215        gc   design   carlin  R       0:08      1 c6-19.hpc.genomecenter.ucdavis.edu\n",
      "        744446_216        gc   design   carlin  R       0:08      1 c6-19.hpc.genomecenter.ucdavis.edu\n",
      "        744446_217        gc   design   carlin  R       0:08      1 c6-19.hpc.genomecenter.ucdavis.edu\n",
      "        744446_218        gc   design   carlin  R       0:08      1 c6-20.hpc.genomecenter.ucdavis.edu\n",
      "        744446_219        gc   design   carlin  R       0:08      1 c6-20.hpc.genomecenter.ucdavis.edu\n",
      "        744446_220        gc   design   carlin  R       0:08      1 c6-20.hpc.genomecenter.ucdavis.edu\n",
      "        744446_221        gc   design   carlin  R       0:08      1 c6-20.hpc.genomecenter.ucdavis.edu\n",
      "        744446_222        gc   design   carlin  R       0:08      1 c6-20.hpc.genomecenter.ucdavis.edu\n",
      "        744446_223        gc   design   carlin  R       0:08      1 c6-20.hpc.genomecenter.ucdavis.edu\n",
      "        744446_224        gc   design   carlin  R       0:08      1 c6-20.hpc.genomecenter.ucdavis.edu\n",
      "        744446_225        gc   design   carlin  R       0:08      1 c6-20.hpc.genomecenter.ucdavis.edu\n",
      "        744446_226        gc   design   carlin  R       0:08      1 c6-20.hpc.genomecenter.ucdavis.edu\n",
      "        744446_227        gc   design   carlin  R       0:08      1 c6-20.hpc.genomecenter.ucdavis.edu\n",
      "        744446_228        gc   design   carlin  R       0:08      1 c6-20.hpc.genomecenter.ucdavis.edu\n",
      "        744446_229        gc   design   carlin  R       0:08      1 c6-20.hpc.genomecenter.ucdavis.edu\n",
      "        744446_230        gc   design   carlin  R       0:08      1 c6-20.hpc.genomecenter.ucdavis.edu\n",
      "        744446_231        gc   design   carlin  R       0:08      1 c6-20.hpc.genomecenter.ucdavis.edu\n",
      "        744446_232        gc   design   carlin  R       0:08      1 c6-20.hpc.genomecenter.ucdavis.edu\n",
      "        744446_233        gc   design   carlin  R       0:08      1 c6-20.hpc.genomecenter.ucdavis.edu\n",
      "        744446_234        gc   design   carlin  R       0:08      1 c7-6.hpc.genomecenter.ucdavis.edu\n",
      "        744446_235        gc   design   carlin  R       0:08      1 c7-6.hpc.genomecenter.ucdavis.edu\n",
      "        744446_236        gc   design   carlin  R       0:08      1 c7-6.hpc.genomecenter.ucdavis.edu\n",
      "        744446_237        gc   design   carlin  R       0:08      1 c7-6.hpc.genomecenter.ucdavis.edu\n",
      "        744446_238        gc   design   carlin  R       0:08      1 c7-6.hpc.genomecenter.ucdavis.edu\n",
      "        744446_239        gc   design   carlin  R       0:08      1 c7-6.hpc.genomecenter.ucdavis.edu\n",
      "        744446_240        gc   design   carlin  R       0:08      1 c7-6.hpc.genomecenter.ucdavis.edu\n",
      "        744446_241        gc   design   carlin  R       0:08      1 c7-6.hpc.genomecenter.ucdavis.edu\n",
      "        744446_242        gc   design   carlin  R       0:08      1 c7-6.hpc.genomecenter.ucdavis.edu\n",
      "        744446_243        gc   design   carlin  R       0:08      1 c7-6.hpc.genomecenter.ucdavis.edu\n",
      "        744446_244        gc   design   carlin  R       0:08      1 c7-6.hpc.genomecenter.ucdavis.edu\n",
      "        744446_245        gc   design   carlin  R       0:08      1 c7-6.hpc.genomecenter.ucdavis.edu\n",
      "        744446_246        gc   design   carlin  R       0:08      1 c7-6.hpc.genomecenter.ucdavis.edu\n",
      "        744446_247        gc   design   carlin  R       0:08      1 c7-6.hpc.genomecenter.ucdavis.edu\n",
      "        744446_248        gc   design   carlin  R       0:08      1 c7-6.hpc.genomecenter.ucdavis.edu\n",
      "        744446_249        gc   design   carlin  R       0:08      1 c7-6.hpc.genomecenter.ucdavis.edu\n",
      "        744446_250        gc   design   carlin  R       0:08      1 c7-3.hpc.genomecenter.ucdavis.edu\n",
      "        744446_251        gc   design   carlin  R       0:08      1 c7-3.hpc.genomecenter.ucdavis.edu\n",
      "        744446_252        gc   design   carlin  R       0:08      1 c7-3.hpc.genomecenter.ucdavis.edu\n",
      "        744446_253        gc   design   carlin  R       0:08      1 c7-3.hpc.genomecenter.ucdavis.edu\n",
      "        744446_254        gc   design   carlin  R       0:08      1 c7-3.hpc.genomecenter.ucdavis.edu\n",
      "        744446_255        gc   design   carlin  R       0:08      1 c7-3.hpc.genomecenter.ucdavis.edu\n",
      "        744446_256        gc   design   carlin  R       0:08      1 c7-3.hpc.genomecenter.ucdavis.edu\n",
      "        744446_257        gc   design   carlin  R       0:08      1 c7-3.hpc.genomecenter.ucdavis.edu\n",
      "        744446_258        gc   design   carlin  R       0:08      1 c7-3.hpc.genomecenter.ucdavis.edu\n",
      "        744446_259        gc   design   carlin  R       0:08      1 c7-3.hpc.genomecenter.ucdavis.edu\n",
      "        744446_260        gc   design   carlin  R       0:08      1 c7-3.hpc.genomecenter.ucdavis.edu\n",
      "        744446_261        gc   design   carlin  R       0:08      1 c7-3.hpc.genomecenter.ucdavis.edu\n",
      "        744446_262        gc   design   carlin  R       0:08      1 c7-3.hpc.genomecenter.ucdavis.edu\n",
      "        744446_263        gc   design   carlin  R       0:08      1 c7-3.hpc.genomecenter.ucdavis.edu\n",
      "        744446_264        gc   design   carlin  R       0:08      1 c7-3.hpc.genomecenter.ucdavis.edu\n",
      "        744446_265        gc   design   carlin  R       0:08      1 c7-3.hpc.genomecenter.ucdavis.edu\n",
      "        744446_266        gc   design   carlin  R       0:08      1 c7-3.hpc.genomecenter.ucdavis.edu\n",
      "        744446_267        gc   design   carlin  R       0:08      1 c7-3.hpc.genomecenter.ucdavis.edu\n",
      "        744446_268        gc   design   carlin  R       0:08      1 c7-3.hpc.genomecenter.ucdavis.edu\n",
      "        744446_269        gc   design   carlin  R       0:08      1 c7-3.hpc.genomecenter.ucdavis.edu\n",
      "        744446_270        gc   design   carlin  R       0:08      1 c7-3.hpc.genomecenter.ucdavis.edu\n",
      "        744446_271        gc   design   carlin  R       0:08      1 c7-3.hpc.genomecenter.ucdavis.edu\n",
      "        744446_272        gc   design   carlin  R       0:08      1 c7-3.hpc.genomecenter.ucdavis.edu\n",
      "        744446_273        gc   design   carlin  R       0:08      1 c7-3.hpc.genomecenter.ucdavis.edu\n",
      "        744446_274        gc   design   carlin  R       0:08      1 c7-3.hpc.genomecenter.ucdavis.edu\n",
      "        744446_275        gc   design   carlin  R       0:08      1 c7-3.hpc.genomecenter.ucdavis.edu\n",
      "        744446_276        gc   design   carlin  R       0:08      1 c7-3.hpc.genomecenter.ucdavis.edu\n",
      "        744446_277        gc   design   carlin  R       0:08      1 c7-3.hpc.genomecenter.ucdavis.edu\n",
      "        744446_278        gc   design   carlin  R       0:08      1 c7-3.hpc.genomecenter.ucdavis.edu\n",
      "        744446_279        gc   design   carlin  R       0:08      1 c7-3.hpc.genomecenter.ucdavis.edu\n",
      "        744446_280        gc   design   carlin  R       0:08      1 c7-3.hpc.genomecenter.ucdavis.edu\n",
      "        744446_281        gc   design   carlin  R       0:08      1 c7-3.hpc.genomecenter.ucdavis.edu\n",
      "        744446_282        gc   design   carlin  R       0:08      1 c7-4.hpc.genomecenter.ucdavis.edu\n",
      "        744446_283        gc   design   carlin  R       0:08      1 c7-4.hpc.genomecenter.ucdavis.edu\n",
      "        744446_284        gc   design   carlin  R       0:08      1 c7-4.hpc.genomecenter.ucdavis.edu\n",
      "        744446_285        gc   design   carlin  R       0:08      1 c7-4.hpc.genomecenter.ucdavis.edu\n",
      "        744446_286        gc   design   carlin  R       0:08      1 c7-4.hpc.genomecenter.ucdavis.edu\n",
      "        744446_287        gc   design   carlin  R       0:08      1 c7-4.hpc.genomecenter.ucdavis.edu\n",
      "        744446_288        gc   design   carlin  R       0:08      1 c7-4.hpc.genomecenter.ucdavis.edu\n",
      "        744446_289        gc   design   carlin  R       0:08      1 c7-4.hpc.genomecenter.ucdavis.edu\n",
      "        744446_290        gc   design   carlin  R       0:08      1 c7-4.hpc.genomecenter.ucdavis.edu\n",
      "        744446_291        gc   design   carlin  R       0:08      1 c7-4.hpc.genomecenter.ucdavis.edu\n",
      "        744446_292        gc   design   carlin  R       0:08      1 c7-4.hpc.genomecenter.ucdavis.edu\n",
      "        744446_293        gc   design   carlin  R       0:08      1 c7-4.hpc.genomecenter.ucdavis.edu\n",
      "        744446_294        gc   design   carlin  R       0:08      1 c7-4.hpc.genomecenter.ucdavis.edu\n",
      "        744446_295        gc   design   carlin  R       0:08      1 c7-4.hpc.genomecenter.ucdavis.edu\n",
      "        744446_296        gc   design   carlin  R       0:08      1 c7-4.hpc.genomecenter.ucdavis.edu\n",
      "        744446_297        gc   design   carlin  R       0:08      1 c7-4.hpc.genomecenter.ucdavis.edu\n",
      "        744446_298        gc   design   carlin  R       0:08      1 c7-4.hpc.genomecenter.ucdavis.edu\n",
      "        744446_299        gc   design   carlin  R       0:08      1 c7-4.hpc.genomecenter.ucdavis.edu\n",
      "        744446_300        gc   design   carlin  R       0:08      1 c7-4.hpc.genomecenter.ucdavis.edu\n",
      "        744446_301        gc   design   carlin  R       0:08      1 c7-4.hpc.genomecenter.ucdavis.edu\n",
      "        744446_302        gc   design   carlin  R       0:08      1 c7-4.hpc.genomecenter.ucdavis.edu\n",
      "        744446_303        gc   design   carlin  R       0:08      1 c7-4.hpc.genomecenter.ucdavis.edu\n",
      "        744446_304        gc   design   carlin  R       0:08      1 c7-4.hpc.genomecenter.ucdavis.edu\n",
      "        744446_305        gc   design   carlin  R       0:08      1 c7-4.hpc.genomecenter.ucdavis.edu\n",
      "        744446_306        gc   design   carlin  R       0:08      1 c7-4.hpc.genomecenter.ucdavis.edu\n",
      "        744446_307        gc   design   carlin  R       0:08      1 c7-4.hpc.genomecenter.ucdavis.edu\n",
      "        744446_308        gc   design   carlin  R       0:08      1 c7-4.hpc.genomecenter.ucdavis.edu\n",
      "        744446_309        gc   design   carlin  R       0:08      1 c7-4.hpc.genomecenter.ucdavis.edu\n",
      "        744446_310        gc   design   carlin  R       0:08      1 c7-4.hpc.genomecenter.ucdavis.edu\n",
      "        744446_311        gc   design   carlin  R       0:08      1 c7-4.hpc.genomecenter.ucdavis.edu\n",
      "        744446_312        gc   design   carlin  R       0:08      1 c7-4.hpc.genomecenter.ucdavis.edu\n",
      "        744446_313        gc   design   carlin  R       0:08      1 c7-4.hpc.genomecenter.ucdavis.edu\n",
      "        744446_314        gc   design   carlin  R       0:08      1 c7-5.hpc.genomecenter.ucdavis.edu\n",
      "        744446_315        gc   design   carlin  R       0:08      1 c7-5.hpc.genomecenter.ucdavis.edu\n",
      "        744446_316        gc   design   carlin  R       0:08      1 c7-5.hpc.genomecenter.ucdavis.edu\n",
      "        744446_317        gc   design   carlin  R       0:08      1 c7-5.hpc.genomecenter.ucdavis.edu\n",
      "        744446_318        gc   design   carlin  R       0:08      1 c7-5.hpc.genomecenter.ucdavis.edu\n",
      "        744446_319        gc   design   carlin  R       0:08      1 c7-5.hpc.genomecenter.ucdavis.edu\n",
      "        744446_320        gc   design   carlin  R       0:08      1 c7-5.hpc.genomecenter.ucdavis.edu\n",
      "        744446_321        gc   design   carlin  R       0:08      1 c7-5.hpc.genomecenter.ucdavis.edu\n",
      "        744446_322        gc   design   carlin  R       0:08      1 c7-5.hpc.genomecenter.ucdavis.edu\n",
      "        744446_323        gc   design   carlin  R       0:08      1 c7-5.hpc.genomecenter.ucdavis.edu\n",
      "        744446_324        gc   design   carlin  R       0:08      1 c7-5.hpc.genomecenter.ucdavis.edu\n",
      "        744446_325        gc   design   carlin  R       0:08      1 c7-5.hpc.genomecenter.ucdavis.edu\n",
      "        744446_326        gc   design   carlin  R       0:08      1 c7-5.hpc.genomecenter.ucdavis.edu\n",
      "        744446_327        gc   design   carlin  R       0:08      1 c7-5.hpc.genomecenter.ucdavis.edu\n",
      "        744446_328        gc   design   carlin  R       0:08      1 c7-5.hpc.genomecenter.ucdavis.edu\n",
      "        744446_329        gc   design   carlin  R       0:08      1 c7-5.hpc.genomecenter.ucdavis.edu\n",
      "        744446_330        gc   design   carlin  R       0:08      1 c7-5.hpc.genomecenter.ucdavis.edu\n",
      "        744446_331        gc   design   carlin  R       0:08      1 c7-5.hpc.genomecenter.ucdavis.edu\n",
      "        744446_332        gc   design   carlin  R       0:08      1 c7-5.hpc.genomecenter.ucdavis.edu\n",
      "        744446_333        gc   design   carlin  R       0:08      1 c7-5.hpc.genomecenter.ucdavis.edu\n",
      "        744446_334        gc   design   carlin  R       0:08      1 c7-5.hpc.genomecenter.ucdavis.edu\n",
      "        744446_335        gc   design   carlin  R       0:08      1 c7-5.hpc.genomecenter.ucdavis.edu\n",
      "        744446_336        gc   design   carlin  R       0:08      1 c7-5.hpc.genomecenter.ucdavis.edu\n",
      "        744446_337        gc   design   carlin  R       0:08      1 c7-5.hpc.genomecenter.ucdavis.edu\n",
      "          744446_1        gc   design   carlin  R       0:09      1 c6-13.hpc.genomecenter.ucdavis.edu\n",
      "          744446_2        gc   design   carlin  R       0:09      1 c6-11.hpc.genomecenter.ucdavis.edu\n",
      "          744446_3        gc   design   carlin  R       0:09      1 c6-11.hpc.genomecenter.ucdavis.edu\n",
      "          744446_4        gc   design   carlin  R       0:09      1 c6-12.hpc.genomecenter.ucdavis.edu\n",
      "          744446_5        gc   design   carlin  R       0:09      1 c6-12.hpc.genomecenter.ucdavis.edu\n",
      "          744446_6        gc   design   carlin  R       0:09      1 c6-12.hpc.genomecenter.ucdavis.edu\n",
      "          744446_7        gc   design   carlin  R       0:09      1 c6-14.hpc.genomecenter.ucdavis.edu\n",
      "          744446_8        gc   design   carlin  R       0:09      1 c6-15.hpc.genomecenter.ucdavis.edu\n",
      "          744446_9        gc   design   carlin  R       0:09      1 c6-15.hpc.genomecenter.ucdavis.edu\n",
      "         744446_10        gc   design   carlin  R       0:09      1 c6-15.hpc.genomecenter.ucdavis.edu\n",
      "         744446_11        gc   design   carlin  R       0:09      1 c6-15.hpc.genomecenter.ucdavis.edu\n",
      "         744446_12        gc   design   carlin  R       0:09      1 c6-15.hpc.genomecenter.ucdavis.edu\n",
      "         744446_13        gc   design   carlin  R       0:09      1 c0-19.hpc.genomecenter.ucdavis.edu\n",
      "         744446_14        gc   design   carlin  R       0:09      1 c0-19.hpc.genomecenter.ucdavis.edu\n",
      "         744446_15        gc   design   carlin  R       0:09      1 c0-19.hpc.genomecenter.ucdavis.edu\n",
      "         744446_16        gc   design   carlin  R       0:09      1 c0-19.hpc.genomecenter.ucdavis.edu\n",
      "         744446_17        gc   design   carlin  R       0:09      1 c0-19.hpc.genomecenter.ucdavis.edu\n",
      "         744446_18        gc   design   carlin  R       0:09      1 c0-19.hpc.genomecenter.ucdavis.edu\n",
      "         744446_19        gc   design   carlin  R       0:09      1 c0-19.hpc.genomecenter.ucdavis.edu\n",
      "         744446_20        gc   design   carlin  R       0:09      1 c0-19.hpc.genomecenter.ucdavis.edu\n",
      "         744446_21        gc   design   carlin  R       0:09      1 c0-19.hpc.genomecenter.ucdavis.edu\n",
      "         744446_22        gc   design   carlin  R       0:09      1 c0-19.hpc.genomecenter.ucdavis.edu\n",
      "         744446_23        gc   design   carlin  R       0:09      1 c0-19.hpc.genomecenter.ucdavis.edu\n",
      "         744446_24        gc   design   carlin  R       0:09      1 c0-19.hpc.genomecenter.ucdavis.edu\n",
      "         744446_25        gc   design   carlin  R       0:09      1 c0-19.hpc.genomecenter.ucdavis.edu\n",
      "         744446_26        gc   design   carlin  R       0:09      1 c0-19.hpc.genomecenter.ucdavis.edu\n",
      "         744446_27        gc   design   carlin  R       0:09      1 c0-19.hpc.genomecenter.ucdavis.edu\n",
      "         744446_28        gc   design   carlin  R       0:09      1 c0-19.hpc.genomecenter.ucdavis.edu\n",
      "         744446_29        gc   design   carlin  R       0:09      1 c0-19.hpc.genomecenter.ucdavis.edu\n",
      "         744446_30        gc   design   carlin  R       0:09      1 c0-19.hpc.genomecenter.ucdavis.edu\n",
      "         744446_31        gc   design   carlin  R       0:09      1 c0-19.hpc.genomecenter.ucdavis.edu\n",
      "         744446_32        gc   design   carlin  R       0:09      1 c0-19.hpc.genomecenter.ucdavis.edu\n",
      "         744446_33        gc   design   carlin  R       0:09      1 c0-19.hpc.genomecenter.ucdavis.edu\n",
      "         744446_34        gc   design   carlin  R       0:09      1 c0-19.hpc.genomecenter.ucdavis.edu\n",
      "         744446_35        gc   design   carlin  R       0:09      1 c0-19.hpc.genomecenter.ucdavis.edu\n",
      "         744446_36        gc   design   carlin  R       0:09      1 c0-19.hpc.genomecenter.ucdavis.edu\n",
      "         744446_37        gc   design   carlin  R       0:09      1 c4-0.hpc.genomecenter.ucdavis.edu\n",
      "         744446_38        gc   design   carlin  R       0:09      1 c4-0.hpc.genomecenter.ucdavis.edu\n",
      "         744446_39        gc   design   carlin  R       0:09      1 c4-0.hpc.genomecenter.ucdavis.edu\n",
      "         744446_40        gc   design   carlin  R       0:09      1 c4-0.hpc.genomecenter.ucdavis.edu\n",
      "         744446_41        gc   design   carlin  R       0:09      1 c4-0.hpc.genomecenter.ucdavis.edu\n",
      "         744446_42        gc   design   carlin  R       0:09      1 c4-0.hpc.genomecenter.ucdavis.edu\n",
      "         744446_43        gc   design   carlin  R       0:09      1 c4-0.hpc.genomecenter.ucdavis.edu\n",
      "         744446_44        gc   design   carlin  R       0:09      1 c4-0.hpc.genomecenter.ucdavis.edu\n",
      "         744446_45        gc   design   carlin  R       0:09      1 c4-0.hpc.genomecenter.ucdavis.edu\n",
      "         744446_46        gc   design   carlin  R       0:09      1 c4-0.hpc.genomecenter.ucdavis.edu\n",
      "         744446_47        gc   design   carlin  R       0:09      1 c4-0.hpc.genomecenter.ucdavis.edu\n",
      "         744446_48        gc   design   carlin  R       0:09      1 c4-0.hpc.genomecenter.ucdavis.edu\n",
      "         744446_49        gc   design   carlin  R       0:09      1 c4-0.hpc.genomecenter.ucdavis.edu\n",
      "         744446_50        gc   design   carlin  R       0:09      1 c4-0.hpc.genomecenter.ucdavis.edu\n",
      "         744446_51        gc   design   carlin  R       0:09      1 c4-0.hpc.genomecenter.ucdavis.edu\n",
      "         744446_52        gc   design   carlin  R       0:09      1 c4-0.hpc.genomecenter.ucdavis.edu\n",
      "         744446_53        gc   design   carlin  R       0:09      1 c4-0.hpc.genomecenter.ucdavis.edu\n",
      "         744446_54        gc   design   carlin  R       0:09      1 c4-0.hpc.genomecenter.ucdavis.edu\n",
      "         744446_55        gc   design   carlin  R       0:09      1 c4-0.hpc.genomecenter.ucdavis.edu\n",
      "         744446_56        gc   design   carlin  R       0:09      1 c4-0.hpc.genomecenter.ucdavis.edu\n",
      "         744446_57        gc   design   carlin  R       0:09      1 c4-0.hpc.genomecenter.ucdavis.edu\n",
      "         744446_58        gc   design   carlin  R       0:09      1 c4-0.hpc.genomecenter.ucdavis.edu\n",
      "         744446_59        gc   design   carlin  R       0:09      1 c4-0.hpc.genomecenter.ucdavis.edu\n",
      "         744446_60        gc   design   carlin  R       0:09      1 c4-0.hpc.genomecenter.ucdavis.edu\n",
      "         744446_61        gc   design   carlin  R       0:09      1 c4-0.hpc.genomecenter.ucdavis.edu\n",
      "         744446_62        gc   design   carlin  R       0:09      1 c4-0.hpc.genomecenter.ucdavis.edu\n",
      "         744446_63        gc   design   carlin  R       0:09      1 c4-0.hpc.genomecenter.ucdavis.edu\n",
      "         744446_64        gc   design   carlin  R       0:09      1 c4-1.hpc.genomecenter.ucdavis.edu\n",
      "         744446_65        gc   design   carlin  R       0:09      1 c4-1.hpc.genomecenter.ucdavis.edu\n",
      "         744446_66        gc   design   carlin  R       0:09      1 c4-1.hpc.genomecenter.ucdavis.edu\n",
      "         744446_67        gc   design   carlin  R       0:09      1 c4-1.hpc.genomecenter.ucdavis.edu\n",
      "         744446_68        gc   design   carlin  R       0:09      1 c4-1.hpc.genomecenter.ucdavis.edu\n",
      "         744446_69        gc   design   carlin  R       0:09      1 c4-1.hpc.genomecenter.ucdavis.edu\n",
      "         744446_70        gc   design   carlin  R       0:09      1 c4-1.hpc.genomecenter.ucdavis.edu\n",
      "         744446_71        gc   design   carlin  R       0:09      1 c4-1.hpc.genomecenter.ucdavis.edu\n",
      "         744446_72        gc   design   carlin  R       0:09      1 c4-1.hpc.genomecenter.ucdavis.edu\n",
      "         744446_73        gc   design   carlin  R       0:09      1 c4-1.hpc.genomecenter.ucdavis.edu\n",
      "         744446_74        gc   design   carlin  R       0:09      1 c4-1.hpc.genomecenter.ucdavis.edu\n",
      "         744446_75        gc   design   carlin  R       0:09      1 c4-1.hpc.genomecenter.ucdavis.edu\n",
      "         744446_76        gc   design   carlin  R       0:09      1 c4-1.hpc.genomecenter.ucdavis.edu\n",
      "         744446_77        gc   design   carlin  R       0:09      1 c4-1.hpc.genomecenter.ucdavis.edu\n",
      "         744446_78        gc   design   carlin  R       0:09      1 c4-1.hpc.genomecenter.ucdavis.edu\n",
      "         744446_79        gc   design   carlin  R       0:09      1 c4-1.hpc.genomecenter.ucdavis.edu\n",
      "         744446_80        gc   design   carlin  R       0:09      1 c4-1.hpc.genomecenter.ucdavis.edu\n",
      "         744446_81        gc   design   carlin  R       0:09      1 c4-1.hpc.genomecenter.ucdavis.edu\n",
      "         744446_82        gc   design   carlin  R       0:09      1 c4-1.hpc.genomecenter.ucdavis.edu\n",
      "         744446_83        gc   design   carlin  R       0:09      1 c4-1.hpc.genomecenter.ucdavis.edu\n",
      "         744446_84        gc   design   carlin  R       0:09      1 c4-1.hpc.genomecenter.ucdavis.edu\n",
      "         744446_85        gc   design   carlin  R       0:09      1 c4-1.hpc.genomecenter.ucdavis.edu\n",
      "         744446_86        gc   design   carlin  R       0:09      1 c4-1.hpc.genomecenter.ucdavis.edu\n",
      "         744446_87        gc   design   carlin  R       0:09      1 c4-1.hpc.genomecenter.ucdavis.edu\n",
      "         744446_88        gc   design   carlin  R       0:09      1 c4-1.hpc.genomecenter.ucdavis.edu\n",
      "         744446_89        gc   design   carlin  R       0:09      1 c4-1.hpc.genomecenter.ucdavis.edu\n",
      "         744446_90        gc   design   carlin  R       0:09      1 c4-1.hpc.genomecenter.ucdavis.edu\n",
      "         744446_91        gc   design   carlin  R       0:09      1 c4-1.hpc.genomecenter.ucdavis.edu\n",
      "         744446_92        gc   design   carlin  R       0:09      1 c4-1.hpc.genomecenter.ucdavis.edu\n",
      "         744446_93        gc   design   carlin  R       0:09      1 c4-2.hpc.genomecenter.ucdavis.edu\n",
      "         744446_94        gc   design   carlin  R       0:09      1 c4-2.hpc.genomecenter.ucdavis.edu\n",
      "         744446_95        gc   design   carlin  R       0:09      1 c4-2.hpc.genomecenter.ucdavis.edu\n",
      "         744446_96        gc   design   carlin  R       0:09      1 c4-2.hpc.genomecenter.ucdavis.edu\n",
      "         744446_97        gc   design   carlin  R       0:09      1 c4-2.hpc.genomecenter.ucdavis.edu\n",
      "         744446_98        gc   design   carlin  R       0:09      1 c4-2.hpc.genomecenter.ucdavis.edu\n",
      "         744446_99        gc   design   carlin  R       0:09      1 c4-2.hpc.genomecenter.ucdavis.edu\n",
      "        744446_100        gc   design   carlin  R       0:09      1 c4-2.hpc.genomecenter.ucdavis.edu\n",
      "        744446_101        gc   design   carlin  R       0:09      1 c4-2.hpc.genomecenter.ucdavis.edu\n",
      "        744446_102        gc   design   carlin  R       0:09      1 c4-2.hpc.genomecenter.ucdavis.edu\n",
      "        744446_103        gc   design   carlin  R       0:09      1 c4-2.hpc.genomecenter.ucdavis.edu\n",
      "        744446_104        gc   design   carlin  R       0:09      1 c4-2.hpc.genomecenter.ucdavis.edu\n",
      "        744446_105        gc   design   carlin  R       0:09      1 c4-2.hpc.genomecenter.ucdavis.edu\n",
      "        744446_106        gc   design   carlin  R       0:09      1 c4-2.hpc.genomecenter.ucdavis.edu\n",
      "        744446_107        gc   design   carlin  R       0:09      1 c4-2.hpc.genomecenter.ucdavis.edu\n",
      "        744446_108        gc   design   carlin  R       0:09      1 c4-2.hpc.genomecenter.ucdavis.edu\n",
      "        744446_109        gc   design   carlin  R       0:09      1 c4-2.hpc.genomecenter.ucdavis.edu\n",
      "        744446_110        gc   design   carlin  R       0:09      1 c4-2.hpc.genomecenter.ucdavis.edu\n",
      "        744446_111        gc   design   carlin  R       0:09      1 c4-2.hpc.genomecenter.ucdavis.edu\n",
      "        744446_112        gc   design   carlin  R       0:09      1 c4-2.hpc.genomecenter.ucdavis.edu\n",
      "        744446_113        gc   design   carlin  R       0:09      1 c4-2.hpc.genomecenter.ucdavis.edu\n",
      "        744446_114        gc   design   carlin  R       0:09      1 c4-2.hpc.genomecenter.ucdavis.edu\n",
      "        744446_115        gc   design   carlin  R       0:09      1 c4-2.hpc.genomecenter.ucdavis.edu\n",
      "        744446_116        gc   design   carlin  R       0:09      1 c4-2.hpc.genomecenter.ucdavis.edu\n",
      "        744446_117        gc   design   carlin  R       0:09      1 c4-2.hpc.genomecenter.ucdavis.edu\n",
      "        744446_118        gc   design   carlin  R       0:09      1 c4-2.hpc.genomecenter.ucdavis.edu\n",
      "        744446_119        gc   design   carlin  R       0:09      1 c4-2.hpc.genomecenter.ucdavis.edu\n",
      "        744446_120        gc   design   carlin  R       0:09      1 c4-2.hpc.genomecenter.ucdavis.edu\n",
      "        744446_121        gc   design   carlin  R       0:09      1 c4-2.hpc.genomecenter.ucdavis.edu\n",
      "        744446_122        gc   design   carlin  R       0:09      1 c4-2.hpc.genomecenter.ucdavis.edu\n",
      "        744446_123        gc   design   carlin  R       0:09      1 c4-2.hpc.genomecenter.ucdavis.edu\n",
      "        744446_124        gc   design   carlin  R       0:09      1 c4-2.hpc.genomecenter.ucdavis.edu\n",
      "        744446_125        gc   design   carlin  R       0:09      1 c4-2.hpc.genomecenter.ucdavis.edu\n",
      "        744446_126        gc   design   carlin  R       0:09      1 c4-2.hpc.genomecenter.ucdavis.edu\n",
      "        744446_127        gc   design   carlin  R       0:09      1 c4-2.hpc.genomecenter.ucdavis.edu\n",
      "        744446_128        gc   design   carlin  R       0:09      1 c4-2.hpc.genomecenter.ucdavis.edu\n",
      "        744446_129        gc   design   carlin  R       0:09      1 c4-2.hpc.genomecenter.ucdavis.edu\n",
      "        744446_130        gc   design   carlin  R       0:09      1 c4-2.hpc.genomecenter.ucdavis.edu\n",
      "        744446_131        gc   design   carlin  R       0:09      1 c4-2.hpc.genomecenter.ucdavis.edu\n",
      "        744446_132        gc   design   carlin  R       0:09      1 c4-2.hpc.genomecenter.ucdavis.edu\n",
      "        744446_133        gc   design   carlin  R       0:09      1 c4-2.hpc.genomecenter.ucdavis.edu\n",
      "        744446_134        gc   design   carlin  R       0:09      1 c4-2.hpc.genomecenter.ucdavis.edu\n",
      "        744446_135        gc   design   carlin  R       0:09      1 c4-2.hpc.genomecenter.ucdavis.edu\n",
      "        744446_136        gc   design   carlin  R       0:09      1 c4-2.hpc.genomecenter.ucdavis.edu\n",
      "        744446_137        gc   design   carlin  R       0:09      1 c4-2.hpc.genomecenter.ucdavis.edu\n",
      "        744446_138        gc   design   carlin  R       0:09      1 c4-3.hpc.genomecenter.ucdavis.edu\n",
      "        744446_139        gc   design   carlin  R       0:09      1 c4-3.hpc.genomecenter.ucdavis.edu\n",
      "        744446_140        gc   design   carlin  R       0:09      1 c4-3.hpc.genomecenter.ucdavis.edu\n",
      "        744446_141        gc   design   carlin  R       0:09      1 c4-3.hpc.genomecenter.ucdavis.edu\n",
      "        744446_142        gc   design   carlin  R       0:09      1 c4-3.hpc.genomecenter.ucdavis.edu\n",
      "        744446_143        gc   design   carlin  R       0:09      1 c4-3.hpc.genomecenter.ucdavis.edu\n",
      "        744446_144        gc   design   carlin  R       0:09      1 c4-3.hpc.genomecenter.ucdavis.edu\n",
      "        744446_145        gc   design   carlin  R       0:09      1 c4-3.hpc.genomecenter.ucdavis.edu\n",
      "        744446_146        gc   design   carlin  R       0:09      1 c4-3.hpc.genomecenter.ucdavis.edu\n",
      "        744446_147        gc   design   carlin  R       0:09      1 c4-3.hpc.genomecenter.ucdavis.edu\n",
      "       744442_9966        gc   design   carlin  R      16:46      1 c4-2.hpc.genomecenter.ucdavis.edu\n",
      "       744442_9967        gc   design   carlin  R      16:46      1 c4-2.hpc.genomecenter.ucdavis.edu\n",
      "       744442_9969        gc   design   carlin  R      16:46      1 c4-2.hpc.genomecenter.ucdavis.edu\n"
     ]
    }
   ],
   "source": [
    "! squeue -u carlin "
   ]
  },
  {
   "cell_type": "code",
   "execution_count": 302,
   "metadata": {
    "collapsed": false
   },
   "outputs": [
    {
     "name": "stdout",
     "output_type": "stream",
     "text": [
      "     0 enzdes/logs/slurm-744442_9966.err\n",
      "     0 enzdes/logs/slurm-744442_9966.out\n",
      "     0 enzdes/logs/slurm-744442_9967.err\n",
      "     0 enzdes/logs/slurm-744442_9967.out\n",
      "     0 enzdes/logs/slurm-744442_9968.err\n",
      "  1240 enzdes/logs/slurm-744442_9968.out\n",
      "     0 enzdes/logs/slurm-744442_9969.err\n",
      "     0 enzdes/logs/slurm-744442_9969.out\n",
      "     0 enzdes/logs/slurm-744446_100.err\n",
      "     0 enzdes/logs/slurm-744446_100.out\n",
      "     0 enzdes/logs/slurm-744446_101.err\n",
      "     0 enzdes/logs/slurm-744446_101.out\n",
      "     0 enzdes/logs/slurm-744446_102.err\n",
      "     0 enzdes/logs/slurm-744446_102.out\n",
      "     0 enzdes/logs/slurm-744446_103.err\n",
      "     0 enzdes/logs/slurm-744446_103.out\n",
      "     0 enzdes/logs/slurm-744446_104.err\n",
      "     0 enzdes/logs/slurm-744446_104.out\n",
      "     0 enzdes/logs/slurm-744446_105.err\n",
      "     0 enzdes/logs/slurm-744446_105.out\n",
      "     0 enzdes/logs/slurm-744446_106.err\n",
      "     0 enzdes/logs/slurm-744446_106.out\n",
      "     0 enzdes/logs/slurm-744446_107.err\n",
      "     0 enzdes/logs/slurm-744446_107.out\n",
      "     0 enzdes/logs/slurm-744446_108.err\n",
      "     0 enzdes/logs/slurm-744446_108.out\n",
      "     0 enzdes/logs/slurm-744446_109.err\n",
      "     0 enzdes/logs/slurm-744446_109.out\n",
      "     0 enzdes/logs/slurm-744446_10.err\n",
      "     0 enzdes/logs/slurm-744446_10.out\n",
      "     0 enzdes/logs/slurm-744446_110.err\n",
      "     0 enzdes/logs/slurm-744446_110.out\n",
      "     0 enzdes/logs/slurm-744446_111.err\n",
      "     0 enzdes/logs/slurm-744446_111.out\n",
      "     0 enzdes/logs/slurm-744446_112.err\n",
      "     0 enzdes/logs/slurm-744446_112.out\n",
      "     0 enzdes/logs/slurm-744446_113.err\n",
      "     0 enzdes/logs/slurm-744446_113.out\n",
      "     0 enzdes/logs/slurm-744446_114.err\n",
      "     0 enzdes/logs/slurm-744446_114.out\n",
      "     0 enzdes/logs/slurm-744446_115.err\n",
      "     0 enzdes/logs/slurm-744446_115.out\n",
      "     0 enzdes/logs/slurm-744446_116.err\n",
      "     0 enzdes/logs/slurm-744446_116.out\n",
      "     0 enzdes/logs/slurm-744446_117.err\n",
      "     0 enzdes/logs/slurm-744446_117.out\n",
      "     0 enzdes/logs/slurm-744446_118.err\n",
      "^C\n"
     ]
    }
   ],
   "source": [
    "! wc -l enzdes/logs/*"
   ]
  },
  {
   "cell_type": "code",
   "execution_count": null,
   "metadata": {
    "collapsed": false,
    "scrolled": false
   },
   "outputs": [],
   "source": [
    "! # action\n",
    "! tail enzdes/logs/*"
   ]
  },
  {
   "cell_type": "code",
   "execution_count": 294,
   "metadata": {
    "collapsed": false
   },
   "outputs": [
    {
     "name": "stdout",
     "output_type": "stream",
     "text": [
      "score_0000.sc  UM_11_Y75D89_1_1gwl_11_hydratase_1_0000_0001.pdb\r\n"
     ]
    }
   ],
   "source": [
    "! ls enzdes/out/"
   ]
  },
  {
   "cell_type": "markdown",
   "metadata": {},
   "source": [
    "## Results \n",
    "\n",
    "### Filter the RosettaScripts enzyme design output \n",
    "\n",
    "Let's start by looking at histograms of the `total_score` of each of the catalytic residues. Because we're looking at a big ligand, let's also check out the interface energy score. "
   ]
  },
  {
   "cell_type": "code",
   "execution_count": 65,
   "metadata": {
    "collapsed": false
   },
   "outputs": [
    {
     "name": "stdout",
     "output_type": "stream",
     "text": [
      "ssh: Could not resolve hostname : Name or service not known\r",
      "\r\n",
      "rsync: connection unexpectedly closed (0 bytes received so far) [Receiver]\r\n",
      "rsync error: unexplained error (code 255) at io.c(226) [Receiver=3.1.0]\r\n"
     ]
    }
   ],
   "source": [
    "# download scorefiles from cluster \n",
    "! rsync -avz $ep:/share/work/alex/dnh_aro/enzdes/out/*sc designs/"
   ]
  },
  {
   "cell_type": "code",
   "execution_count": 66,
   "metadata": {
    "collapsed": false
   },
   "outputs": [
    {
     "name": "stdout",
     "output_type": "stream",
     "text": [
      "3005 enzdes out\n",
      "159 scaffolds\n",
      "2413 unique matches\n"
     ]
    }
   ],
   "source": [
    "%matplotlib inline\n",
    "import matplotlib.pyplot as plt\n",
    "import pandas\n",
    "from glob import glob \n",
    "\n",
    "dfs = [ pandas.read_csv( i, sep='\\s+' ) for i in glob( 'enzdes/out/*sc' ) ]\n",
    "df = pandas.concat( dfs ).dropna()\n",
    "df['scaffold'] = df.description.str.split( '_' ).str.get( 4 ) \n",
    "df['match'] = df.description.str.split( '_11' ).str[0]\n",
    "\n",
    "print len( df ), 'enzdes out'\n",
    "print len( df.scaffold.unique() ), 'scaffolds'\n",
    "print len( df.match.unique() ), 'unique matches'\n",
    "\n",
    "# sf = pandas.read_csv( 'enzdes/out/score.sc', sep='\\s+' )\n",
    "# sf.index = sf.description\n",
    "# sf['scaffold'] = sf.index.str.split( '_' ).str[4]\n",
    "# sf['match'] = sf.index.str.split( '_11' ).str[0]\n",
    "# sf.sample( 3 )\n",
    "\n",
    "# print len( sf ), 'enzdes out'\n",
    "# print len( sf.scaffold.unique() ), 'scaffolds'\n",
    "# print len( sf.match.unique() ), 'unique matches'"
   ]
  },
  {
   "cell_type": "code",
   "execution_count": 67,
   "metadata": {
    "collapsed": false
   },
   "outputs": [
    {
     "name": "stdout",
     "output_type": "stream",
     "text": [
      "2413 lowest from nstruct groups (should equal number of matches)\n"
     ]
    }
   ],
   "source": [
    "# get lowest 1 of each nstruct \n",
    "\n",
    "def lowest( df ):\n",
    "    return df.sort( 'total_score' ).head( 1 )\n",
    "\n",
    "grouped = df.groupby( 'match' ).apply( lowest )\n",
    "print len( grouped ), 'lowest from nstruct groups (should equal number of matches)'"
   ]
  },
  {
   "cell_type": "code",
   "execution_count": 68,
   "metadata": {
    "collapsed": false
   },
   "outputs": [
    {
     "name": "stdout",
     "output_type": "stream",
     "text": [
      "46 structures meet critera\n"
     ]
    }
   ],
   "source": [
    "filtered = grouped[ \n",
    "    ( grouped.all_cst < 1 ) & \n",
    "    ( grouped.SR_1_total_score < 0 ) & \n",
    "    ( grouped.SR_2_total_score < 0 ) & \n",
    "    ( grouped.SR_3_total_score < 0 ) & \n",
    "    ( grouped.SR_3_dsasa_1_2 > 0.9 ) \n",
    "]\n",
    "\n",
    "print len( filtered ), 'structures meet critera'\n",
    "filtered.to_csv( 'results/filtered.csv' )"
   ]
  },
  {
   "cell_type": "markdown",
   "metadata": {},
   "source": [
    "Histograms of all the columns in the scorefile "
   ]
  },
  {
   "cell_type": "code",
   "execution_count": null,
   "metadata": {
    "collapsed": false,
    "scrolled": false
   },
   "outputs": [],
   "source": [
    "#sf.hist( linewidth=0, color='k', figsize=( 12, 120 ), bins=50, layout=(41,1) )"
   ]
  },
  {
   "cell_type": "markdown",
   "metadata": {},
   "source": [
    "Per-scaffold histograms! (Why?)"
   ]
  },
  {
   "cell_type": "code",
   "execution_count": null,
   "metadata": {
    "collapsed": false,
    "scrolled": false
   },
   "outputs": [],
   "source": [
    "#sf.total_score.hist(by=df.scaffold, figsize=(21,21), color='k', linewidth=0 )\n",
    "#plt.tight_layout()"
   ]
  },
  {
   "cell_type": "code",
   "execution_count": null,
   "metadata": {
    "collapsed": false
   },
   "outputs": [],
   "source": [
    "filtered.sample( 5 )"
   ]
  },
  {
   "cell_type": "code",
   "execution_count": null,
   "metadata": {
    "collapsed": false
   },
   "outputs": [],
   "source": [
    "# use this when working on the cluster \n",
    "\n",
    "# from subprocess import call \n",
    "\n",
    "# tar_list = [ 'dnh_aro/enzdes/out/{}.pdb'.format( i ) for i in filtered.description ]\n",
    "# cmd = [ 'tar', '--create', '--verbose', '--file', 'filtered.tar' ] + tar_list \n",
    "# #call( cmd )"
   ]
  },
  {
   "cell_type": "code",
   "execution_count": null,
   "metadata": {
    "collapsed": true
   },
   "outputs": [],
   "source": [
    "# use this when working on local machine \n",
    "\n",
    "pull_list = [ 'dnh_aro/enzdes/out/{}.pdb'.format( i ) for i in filtered.description ]\n",
    "with open( 'results/pull_list', 'w' ) as fn:\n",
    "    fn.write( '\\n'.join( pull_list ) )\n",
    "\n",
    "#! head pull_list   \n",
    "! rsync -avz --files-from=pull_list $ep:. results/"
   ]
  },
  {
   "cell_type": "markdown",
   "metadata": {
    "collapsed": false
   },
   "source": [
    "## Manual curation of structures \n",
    "\n",
    "Now that we have run Rosetta simulations and picked a set of design critera to fiter by, it's time for manual curation of the structures. We'll download the 50 or so that look the best, and pick some designs to order. \n",
    "\n",
    "One thing that I really like to see when looking at a design is the mutations that were made when compared to the wild type enzyme. Let's diff the designs against their wild types (only those in the filtered list though)."
   ]
  },
  {
   "cell_type": "markdown",
   "metadata": {
    "collapsed": true
   },
   "source": [
    "Here, let's try to automate the curation step. Let's write a function that\n",
    "\n",
    "+ takes a design PDB file name in enzdes/out\n",
    "\n",
    "and makes a nice PyMOL session with \n",
    "\n",
    "+ the wild type loaded and overlayed \n",
    "+ mutations colored "
   ]
  },
  {
   "cell_type": "code",
   "execution_count": null,
   "metadata": {
    "collapsed": false,
    "scrolled": true
   },
   "outputs": [],
   "source": [
    "import os\n",
    "from Bio.PDB.Polypeptide import PPBuilder\n",
    "from Bio.PDB import PDBParser\n",
    "import string \n",
    "\n",
    "def return_seq( pdb ):\n",
    "    '''\n",
    "    Utility function to get a FASTA-like sequence from a PDB file \n",
    "    '''\n",
    "    parser = PDBParser()\n",
    "    structure = parser.get_structure( pdb[:-4], pdb )\n",
    "    ppb = PPBuilder() # lol why don't these have PDBParser( 'XZY1.pdb' )-style constructors? \n",
    "    for pp in ppb.build_peptides( structure ):\n",
    "        sequence = pp.get_sequence()\n",
    "        return sequence \n",
    "\n",
    "def my_map( design ):\n",
    "    '''\n",
    "    Utility function that will fetch the design and WT PDBs from disk, diff them, \n",
    "    as well as generate a nice PyMOL script for looking at them later \n",
    "    '''\n",
    "    wild_type_pdb = 'scaffold_set/{}_11.pdb'.format( design.split( '_' )[4] )\n",
    "    design_pdb = 'results/dnh_aro/enzdes/out/{}.pdb'.format( design )\n",
    "    #print os.path.isfile( wild_type_pdb ), wild_type_pdb, os.path.isfile( design_pdb ), design_pdb\n",
    "    wt_seq = return_seq( wild_type_pdb )\n",
    "    des_seq = return_seq( design_pdb )\n",
    "    diff = [ '{}{}{}'.format( i, n+1, j ) for n, (i, j) in enumerate( zip( wt_seq, des_seq ) ) if i != j ]\n",
    "    string_rep = '+'.join( diff )\n",
    "    \n",
    "    with open( 'results/{}.pml'.format( design ), 'w' ) as fn:\n",
    "        filestring = \"\"\"\n",
    "load ~/Documents/dnh-aro/{0}, wt; load ~/Documents/dnh-aro/{1}, design;  \n",
    "clean; orient resn LG1; stored.design_ca = []; stored.wt_ca = []; \n",
    "iterate obj design and name ca, stored.design_ca.append( resn ); \n",
    "iterate obj wt and name ca, stored.wt_ca.append( resn ) ; \n",
    "select muts, resi {2} and obj design; util.cbaw muts; util.cnc; \n",
    "        \"\"\".format( \n",
    "            wild_type_pdb, \n",
    "            design_pdb, \n",
    "            string_rep.translate( None, string.letters )\n",
    "        )\n",
    "        fn.write( filestring )\n",
    "    \n",
    "    # print out some nice markdown we can use in a the next cell lol \n",
    "#     print '### {}\\n'.format( design ) \n",
    "#     print '**Scaffold**: {} \\n\\n **Mutations**: {}\\n'.format( design.split( '_' )[4], string_rep )\n",
    "#     match_series = filtered.loc[ design.split( '_11' )[0] ]\n",
    "#     print '  + total_score: {}\\n'.format( match_series.total_score.values[0] )\n",
    "#     print '  + Tyrosine score: {}\\n'.format( match_series.SR_1_total_score.values[0] )\n",
    "#     print '  + Glu/Asp score: {}\\n'.format( match_series.SR_2_total_score.values[0] )\n",
    "#     print '  + Ligand score: {}\\n'.format( match_series.SR_3_total_score.values[0] )\n",
    "#     print '**Notes**: \\n'\n",
    "#     print '---'\n",
    "#     print ''\n",
    "    \n",
    "    return string_rep\n",
    "    \n",
    "filtered['mutations'] = filtered.description.map( my_map )"
   ]
  },
  {
   "cell_type": "markdown",
   "metadata": {},
   "source": [
    "## Create a new notebook with design data that can be used to keep notes \n",
    "\n",
    "Use this if you want to make a new notebook with seperate cells for each design "
   ]
  },
  {
   "cell_type": "code",
   "execution_count": null,
   "metadata": {
    "collapsed": false
   },
   "outputs": [],
   "source": [
    "from nbformat import current as nbf\n",
    "\n",
    "nb = nbf.new_notebook()\n",
    "\n",
    "header_cell = nbf.new_text_cell( 'markdown', '# Design notes\\n\\n {} designs'.format( len( filtered ) ) )\n",
    "\n",
    "cells = [ header_cell ]\n",
    "\n",
    "for i, series in filtered.iterrows():\n",
    "    \n",
    "    info = [ \n",
    "        '### {}'.format( series.description ), \n",
    "        '**Scaffold**: {}\\n'.format( series.scaffold ), \n",
    "        '**Mutations**: {}\\n'.format( series.mutations ),\n",
    "        '  + `total_score`: {}'.format( series.total_score ),\n",
    "        '  + Tyrosine `total_score`: {}'.format( series.SR_1_total_score ),\n",
    "        '  + Glu/Asp `total_score`: {}'.format( series.SR_2_total_score ),\n",
    "        '  + Ligand `total_score`: {}\\n'.format( series.SR_1_total_score ),\n",
    "        '**Notes**: \\n\\n --- \\n' \n",
    "    ]\n",
    "    \n",
    "    cell = nbf.new_text_cell( 'markdown', '\\n'.join( info ) )\n",
    "    cells.append( cell ) \n",
    "\n",
    "nb['worksheets'].append(nbf.new_worksheet(cells=cells))\n",
    "\n",
    "from datetime import datetime \n",
    "\n",
    "with open( 'results/results_{}.ipynb'.format( datetime.now() ), 'w') as f:\n",
    "    nbf.write(nb, f, 'ipynb')"
   ]
  },
  {
   "cell_type": "code",
   "execution_count": null,
   "metadata": {
    "collapsed": true
   },
   "outputs": [],
   "source": []
  }
 ],
 "metadata": {
  "kernelspec": {
   "display_name": "Python 2",
   "language": "python",
   "name": "python2"
  },
  "language_info": {
   "codemirror_mode": {
    "name": "ipython",
    "version": 2
   },
   "file_extension": ".py",
   "mimetype": "text/x-python",
   "name": "python",
   "nbconvert_exporter": "python",
   "pygments_lexer": "ipython2",
   "version": "2.7.10"
  }
 },
 "nbformat": 4,
 "nbformat_minor": 0
}
