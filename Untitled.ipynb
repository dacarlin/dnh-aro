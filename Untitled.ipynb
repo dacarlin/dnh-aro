{
 "cells": [
  {
   "cell_type": "markdown",
   "metadata": {},
   "source": [
    "# *De novo* design of an allyl hydratase\n",
    "\n",
    "In this repo, we're designing for a large, aromatic substrate, 2-allylphenol. If we can show that we can get activity on that substrate (and if it's soluble), we'll move on to ethylene. "
   ]
  },
  {
   "cell_type": "markdown",
   "metadata": {},
   "source": [
    "## Input file prep \n",
    "\n",
    "We prepped our scaffold set, wrote constraint file, and generated ligand params file. \n",
    "\n",
    "## Match the theozyme into our scaffold set \n",
    "\n",
    "### Prep input files "
   ]
  },
  {
   "cell_type": "code",
   "execution_count": 135,
   "metadata": {
    "collapsed": false
   },
   "outputs": [],
   "source": [
    "# make a list of input structures \n",
    "from glob import glob \n",
    "runs = [ '-s {} -match:scaffold_active_site_residues {}'.format( s[6:], s[6:].replace( 'pdb', 'pos' ) ) for s in glob( 'match/scaffold_set/*pdb' ) ] \n",
    "with open( 'match/list', 'w' ) as fn:\n",
    "    fn.write( '\\n'.join( runs ) )"
   ]
  },
  {
   "cell_type": "markdown",
   "metadata": {},
   "source": [
    "### RosettaMatch run on scaffold set (207 proteins)"
   ]
  },
  {
   "cell_type": "code",
   "execution_count": 41,
   "metadata": {
    "collapsed": false
   },
   "outputs": [
    {
     "name": "stdout",
     "output_type": "stream",
     "text": [
      "40 runs\n",
      "Submitted batch job 741482\n"
     ]
    }
   ],
   "source": [
    "%%bash \n",
    "\n",
    "#cat out_of_mem_list > match/list\n",
    "runs=$( wc -l match/list | cut -d\" \" -f1 )\n",
    "echo $runs runs\n",
    "\n",
    "cd match && sbatch --array=1-$runs sub.sh"
   ]
  },
  {
   "cell_type": "code",
   "execution_count": 48,
   "metadata": {
    "collapsed": true
   },
   "outputs": [],
   "source": [
    "# 40 redos that failed with 8 GB \n",
    "# resubmitted with 16 GB \n",
    "# job ID 741482"
   ]
  },
  {
   "cell_type": "markdown",
   "metadata": {},
   "source": [
    "### Match results \n",
    "\n",
    "Using the classic match algorithm for both catalytic residues"
   ]
  },
  {
   "cell_type": "code",
   "execution_count": 143,
   "metadata": {
    "collapsed": false
   },
   "outputs": [
    {
     "name": "stdout",
     "output_type": "stream",
     "text": [
      "match/logs/slurm-741482_11.err\r\n"
     ]
    }
   ],
   "source": [
    "# the ones that still fail at 16 GB\n",
    "! grep -i memory match/logs/slurm-741482_{1..40}.err | cut -d: -f1 | sort | uniq "
   ]
  },
  {
   "cell_type": "markdown",
   "metadata": {},
   "source": [
    "Some of the jobs crash with only 8 GB of RAM, so we will collect those and run them again, bumping up the RAM per core to 16 GB "
   ]
  },
  {
   "cell_type": "code",
   "execution_count": 144,
   "metadata": {
    "collapsed": false
   },
   "outputs": [],
   "source": [
    "# 8GB match jobs 740932_1 through 740932_206"
   ]
  },
  {
   "cell_type": "code",
   "execution_count": 145,
   "metadata": {
    "collapsed": false,
    "scrolled": false
   },
   "outputs": [
    {
     "name": "stdout",
     "output_type": "stream",
     "text": [
      "10446\n",
      "0\n"
     ]
    }
   ],
   "source": [
    "! ls -1 match/UM*pdb | wc -l #number of matches \n",
    "! squeue -u carlin | grep match | wc -l \n",
    "#! grep CANCELLED match/logs/*740932* | grep . | wc -l "
   ]
  },
  {
   "cell_type": "code",
   "execution_count": null,
   "metadata": {
    "collapsed": false
   },
   "outputs": [],
   "source": [
    "! grep -i memory match/logs/slurm-740932_{1..206}.err | cut -d: -f1 | sort | uniq > out_of_mem \n",
    "! ( for i in \"$( cat out_of_mem )\"; do head -2 ${i/err/out} | tail -n 1 | cut -d@ -f2 | cut -c 7-; done ) > out_of_mem_list"
   ]
  },
  {
   "cell_type": "markdown",
   "metadata": {},
   "source": [
    "## Submit matches to enzyme design \n",
    "\n",
    "Now that we have matched the active site residues and the ligand into various positions in the protein backbones of our scaffold set, we'll use an enzyme design protocol to optimize the ligand placement and shape complementarity with the protein "
   ]
  },
  {
   "cell_type": "code",
   "execution_count": 297,
   "metadata": {
    "collapsed": false
   },
   "outputs": [],
   "source": [
    "from glob import glob\n",
    "nstruct = 5 \n",
    "\n",
    "runs = [ \n",
    "    '-s ../{} -suffix _{:04d}\\n'.format( i, j ) \n",
    "    for j in range( nstruct ) \n",
    "    for i in glob( 'match/UM*pdb' ) \n",
    "]\n",
    "\n",
    "with open( 'enzdes/list', 'w' ) as fn:\n",
    "    fn.write( ''.join( runs ) )"
   ]
  },
  {
   "cell_type": "code",
   "execution_count": 298,
   "metadata": {
    "collapsed": false
   },
   "outputs": [
    {
     "name": "stdout",
     "output_type": "stream",
     "text": [
      "52230 enzdes/list\n",
      "-s ../match/UM_8_Y80E52_1_1lbf_11_hydratase_1.pdb -suffix _0004\n",
      "-s ../match/UM_30_Y189E247_1_1fp2_11_hydratase_1.pdb -suffix _0004\n",
      "-s ../match/UM_85_Y137D99_1_1h1a_11_hydratase_1.pdb -suffix _0004\n",
      "-s ../match/UM_56_Y177E109_1_1igs_11_hydratase_1.pdb -suffix _0004\n",
      "-s ../match/UM_26_Y44E163_1_1ukb_11_hydratase_1.pdb -suffix _0004\n",
      "-s ../match/UM_44_Y147E231_1_1abe_11_hydratase_1.pdb -suffix _0004\n",
      "-s ../match/UM_19_Y69E241_1_1ls6_11_hydratase_1.pdb -suffix _0004\n",
      "-s ../match/UM_33_Y263E304_1_1cgz_11_hydratase_1.pdb -suffix _0004\n",
      "-s ../match/UM_12_Y74E114_1_1tt8_11_hydratase_1.pdb -suffix _0004\n",
      "-s ../match/UM_24_Y61D172_1_1re8_11_hydratase_1.pdb -suffix _0004\n"
     ]
    }
   ],
   "source": [
    "! wc -l enzdes/list\n",
    "! tail enzdes/list"
   ]
  },
  {
   "cell_type": "code",
   "execution_count": 303,
   "metadata": {
    "collapsed": false
   },
   "outputs": [
    {
     "name": "stdout",
     "output_type": "stream",
     "text": [
      "sbatch -p gc128 --array=1-52230 sub.sh\n"
     ]
    }
   ],
   "source": [
    "%%bash\n",
    "\n",
    "#rm enzdes/logs/* \n",
    "cd enzdes && echo sbatch -p gc128 --array=1-$( wc -l list | cut -d\" \" -f1 ) sub.sh \n",
    "\n",
    "# now the rest \n",
    "# cd enzdes && sbatch --array=101-$( wc -l list | cut -d\" \" -f1 ) sub.sh \n",
    "\n",
    "# now the real\n",
    "# cd enzdes && sbatch --array=1-$( wc -l list | cut -d\" \" -f1 ) sub.sh "
   ]
  },
  {
   "cell_type": "code",
   "execution_count": 304,
   "metadata": {
    "collapsed": false,
    "scrolled": true
   },
   "outputs": [
    {
     "name": "stdout",
     "output_type": "stream",
     "text": [
      "             JOBID PARTITION     NAME     USER ST       TIME  NODES NODELIST(REASON)\n",
      " 796740_[986-1111,     gc128   design   carlin PD       0:00      1 (Resources)\n",
      "       796740_1700     gc128   design   carlin  R       0:10      1 c0-14.hpc.genomecenter.ucdavis.edu\n",
      "       796740_1701     gc128   design   carlin  R       0:10      1 c7-5.hpc.genomecenter.ucdavis.edu\n",
      "       796740_1696     gc128   design   carlin  R       0:25      1 c0-9.hpc.genomecenter.ucdavis.edu\n",
      "       796740_1698     gc128   design   carlin  R       0:25      1 c0-19.hpc.genomecenter.ucdavis.edu\n",
      "       796740_1567     gc128   design   carlin  R       2:10      1 c7-4.hpc.genomecenter.ucdavis.edu\n",
      "       796740_1562     gc128   design   carlin  R       3:16      1 c7-4.hpc.genomecenter.ucdavis.edu\n",
      "       796740_1563     gc128   design   carlin  R       3:16      1 c0-7.hpc.genomecenter.ucdavis.edu\n",
      "       796740_1564     gc128   design   carlin  R       3:16      1 c0-7.hpc.genomecenter.ucdavis.edu\n",
      "       796740_1565     gc128   design   carlin  R       3:16      1 c0-19.hpc.genomecenter.ucdavis.edu\n",
      "       796740_1566     gc128   design   carlin  R       3:16      1 c0-19.hpc.genomecenter.ucdavis.edu\n",
      "       796740_1561     gc128   design   carlin  R       4:10      1 c0-0.hpc.genomecenter.ucdavis.edu\n",
      "       796740_1558     gc128   design   carlin  R       4:20      1 c0-3.hpc.genomecenter.ucdavis.edu\n",
      "       796740_1559     gc128   design   carlin  R       4:20      1 c0-14.hpc.genomecenter.ucdavis.edu\n",
      "       796740_1560     gc128   design   carlin  R       4:20      1 c7-3.hpc.genomecenter.ucdavis.edu\n",
      "       796740_1555     gc128   design   carlin  R       5:10      1 c0-6.hpc.genomecenter.ucdavis.edu\n",
      "       796740_1556     gc128   design   carlin  R       5:10      1 c0-7.hpc.genomecenter.ucdavis.edu\n",
      "       796740_1551     gc128   design   carlin  R       6:10      1 c7-3.hpc.genomecenter.ucdavis.edu\n",
      "       796740_1421     gc128   design   carlin  R       6:32      1 c0-2.hpc.genomecenter.ucdavis.edu\n",
      "       796740_1422     gc128   design   carlin  R       6:32      1 c0-19.hpc.genomecenter.ucdavis.edu\n",
      "       796740_1417     gc128   design   carlin  R       7:10      1 c0-6.hpc.genomecenter.ucdavis.edu\n",
      "       796740_1418     gc128   design   carlin  R       7:10      1 c0-9.hpc.genomecenter.ucdavis.edu\n",
      "       796740_1420     gc128   design   carlin  R       7:10      1 c7-6.hpc.genomecenter.ucdavis.edu\n",
      "       796740_1413     gc128   design   carlin  R       7:34      1 c0-2.hpc.genomecenter.ucdavis.edu\n",
      "       796740_1416     gc128   design   carlin  R       7:34      1 c0-6.hpc.genomecenter.ucdavis.edu\n",
      "       796740_1412     gc128   design   carlin  R       8:10      1 c0-9.hpc.genomecenter.ucdavis.edu\n",
      "       796740_1407     gc128   design   carlin  R       9:10      1 c0-3.hpc.genomecenter.ucdavis.edu\n",
      "       796740_1408     gc128   design   carlin  R       9:10      1 c0-8.hpc.genomecenter.ucdavis.edu\n",
      "       796740_1409     gc128   design   carlin  R       9:10      1 c0-14.hpc.genomecenter.ucdavis.edu\n",
      "       796740_1405     gc128   design   carlin  R       9:54      1 c7-5.hpc.genomecenter.ucdavis.edu\n",
      "       796740_1406     gc128   design   carlin  R       9:54      1 c7-6.hpc.genomecenter.ucdavis.edu\n",
      "       796740_1402     gc128   design   carlin  R      10:10      1 c7-3.hpc.genomecenter.ucdavis.edu\n",
      "       796740_1400     gc128   design   carlin  R      10:58      1 c0-7.hpc.genomecenter.ucdavis.edu\n",
      "       796740_1401     gc128   design   carlin  R      10:58      1 c0-7.hpc.genomecenter.ucdavis.edu\n",
      "       796740_1397     gc128   design   carlin  R      11:10      1 c0-18.hpc.genomecenter.ucdavis.edu\n",
      "       796740_1398     gc128   design   carlin  R      11:10      1 c0-6.hpc.genomecenter.ucdavis.edu\n",
      "       796740_1265     gc128   design   carlin  R      12:20      1 c0-14.hpc.genomecenter.ucdavis.edu\n",
      "       796740_1266     gc128   design   carlin  R      12:20      1 c7-3.hpc.genomecenter.ucdavis.edu\n",
      "       796740_1267     gc128   design   carlin  R      12:20      1 c0-6.hpc.genomecenter.ucdavis.edu\n",
      "       796740_1268     gc128   design   carlin  R      12:20      1 c0-7.hpc.genomecenter.ucdavis.edu\n",
      "       796740_1269     gc128   design   carlin  R      12:20      1 c0-8.hpc.genomecenter.ucdavis.edu\n",
      "       796740_1246     gc128   design   carlin  R      13:28      1 c7-4.hpc.genomecenter.ucdavis.edu\n",
      "       796740_1247     gc128   design   carlin  R      13:28      1 c0-19.hpc.genomecenter.ucdavis.edu\n",
      "       796740_1250     gc128   design   carlin  R      13:28      1 c0-19.hpc.genomecenter.ucdavis.edu\n",
      "       796740_1251     gc128   design   carlin  R      13:28      1 c0-19.hpc.genomecenter.ucdavis.edu\n",
      "       796740_1252     gc128   design   carlin  R      13:28      1 c0-19.hpc.genomecenter.ucdavis.edu\n",
      "       796740_1253     gc128   design   carlin  R      13:28      1 c0-19.hpc.genomecenter.ucdavis.edu\n",
      "       796740_1254     gc128   design   carlin  R      13:28      1 c0-19.hpc.genomecenter.ucdavis.edu\n",
      "       796740_1255     gc128   design   carlin  R      13:28      1 c0-19.hpc.genomecenter.ucdavis.edu\n",
      "       796740_1256     gc128   design   carlin  R      13:28      1 c0-19.hpc.genomecenter.ucdavis.edu\n",
      "       796740_1257     gc128   design   carlin  R      13:28      1 c0-19.hpc.genomecenter.ucdavis.edu\n",
      "       796740_1258     gc128   design   carlin  R      13:28      1 c0-19.hpc.genomecenter.ucdavis.edu\n",
      "       796740_1259     gc128   design   carlin  R      13:28      1 c0-19.hpc.genomecenter.ucdavis.edu\n",
      "       796740_1260     gc128   design   carlin  R      13:28      1 c0-19.hpc.genomecenter.ucdavis.edu\n",
      "       796740_1262     gc128   design   carlin  R      13:28      1 c0-19.hpc.genomecenter.ucdavis.edu\n",
      "       796740_1243     gc128   design   carlin  R      15:24      1 c0-4.hpc.genomecenter.ucdavis.edu\n",
      "       796740_1244     gc128   design   carlin  R      15:24      1 c0-5.hpc.genomecenter.ucdavis.edu\n",
      "       796740_1241     gc128   design   carlin  R      16:14      1 c0-14.hpc.genomecenter.ucdavis.edu\n",
      "       796740_1242     gc128   design   carlin  R      16:14      1 c7-5.hpc.genomecenter.ucdavis.edu\n",
      "       796740_1122     gc128   design   carlin  R      16:28      1 c0-2.hpc.genomecenter.ucdavis.edu\n",
      "       796740_1120     gc128   design   carlin  R      17:14      1 c0-2.hpc.genomecenter.ucdavis.edu\n",
      "       796740_1121     gc128   design   carlin  R      17:14      1 c0-8.hpc.genomecenter.ucdavis.edu\n",
      "       796740_1118     gc128   design   carlin  R      17:30      1 c0-6.hpc.genomecenter.ucdavis.edu\n",
      "       796740_1117     gc128   design   carlin  R      18:14      1 c0-14.hpc.genomecenter.ucdavis.edu\n",
      "       796740_1112     gc128   design   carlin  R      20:14      1 c7-4.hpc.genomecenter.ucdavis.edu\n",
      "       796740_1113     gc128   design   carlin  R      20:14      1 c7-6.hpc.genomecenter.ucdavis.edu\n",
      "        796740_985     gc128   design   carlin  R      22:16      1 c7-3.hpc.genomecenter.ucdavis.edu\n",
      "        796740_984     gc128   design   carlin  R      22:24      1 c7-4.hpc.genomecenter.ucdavis.edu\n",
      "        796740_974     gc128   design   carlin  R      23:16      1 c0-7.hpc.genomecenter.ucdavis.edu\n",
      "        796740_975     gc128   design   carlin  R      23:16      1 c0-8.hpc.genomecenter.ucdavis.edu\n",
      "        796740_976     gc128   design   carlin  R      23:16      1 c0-2.hpc.genomecenter.ucdavis.edu\n",
      "        796740_977     gc128   design   carlin  R      23:16      1 c0-2.hpc.genomecenter.ucdavis.edu\n",
      "        796740_978     gc128   design   carlin  R      23:16      1 c0-2.hpc.genomecenter.ucdavis.edu\n",
      "        796740_981     gc128   design   carlin  R      23:16      1 c7-3.hpc.genomecenter.ucdavis.edu\n",
      "        796740_932     gc128   design   carlin  R      23:28      1 c0-19.hpc.genomecenter.ucdavis.edu\n",
      "        796740_934     gc128   design   carlin  R      23:28      1 c0-18.hpc.genomecenter.ucdavis.edu\n",
      "        796740_935     gc128   design   carlin  R      23:28      1 c0-3.hpc.genomecenter.ucdavis.edu\n",
      "        796740_939     gc128   design   carlin  R      23:28      1 c0-2.hpc.genomecenter.ucdavis.edu\n",
      "        796740_940     gc128   design   carlin  R      23:28      1 c0-7.hpc.genomecenter.ucdavis.edu\n",
      "        796740_942     gc128   design   carlin  R      23:28      1 c0-9.hpc.genomecenter.ucdavis.edu\n",
      "        796740_943     gc128   design   carlin  R      23:28      1 c0-9.hpc.genomecenter.ucdavis.edu\n",
      "        796740_944     gc128   design   carlin  R      23:28      1 c0-9.hpc.genomecenter.ucdavis.edu\n",
      "        796740_946     gc128   design   carlin  R      23:28      1 c0-8.hpc.genomecenter.ucdavis.edu\n",
      "        796740_947     gc128   design   carlin  R      23:28      1 c0-8.hpc.genomecenter.ucdavis.edu\n",
      "        796740_948     gc128   design   carlin  R      23:28      1 c0-8.hpc.genomecenter.ucdavis.edu\n",
      "        796740_949     gc128   design   carlin  R      23:28      1 c0-8.hpc.genomecenter.ucdavis.edu\n",
      "        796740_950     gc128   design   carlin  R      23:28      1 c0-8.hpc.genomecenter.ucdavis.edu\n",
      "        796740_951     gc128   design   carlin  R      23:28      1 c7-5.hpc.genomecenter.ucdavis.edu\n",
      "        796740_954     gc128   design   carlin  R      23:28      1 c7-5.hpc.genomecenter.ucdavis.edu\n",
      "        796740_955     gc128   design   carlin  R      23:28      1 c7-3.hpc.genomecenter.ucdavis.edu\n",
      "        796740_959     gc128   design   carlin  R      23:28      1 c7-3.hpc.genomecenter.ucdavis.edu\n",
      "        796740_961     gc128   design   carlin  R      23:28      1 c7-3.hpc.genomecenter.ucdavis.edu\n",
      "        796740_962     gc128   design   carlin  R      23:28      1 c7-3.hpc.genomecenter.ucdavis.edu\n",
      "        796740_963     gc128   design   carlin  R      23:28      1 c7-4.hpc.genomecenter.ucdavis.edu\n",
      "        796740_964     gc128   design   carlin  R      23:28      1 c7-4.hpc.genomecenter.ucdavis.edu\n",
      "        796740_965     gc128   design   carlin  R      23:28      1 c7-4.hpc.genomecenter.ucdavis.edu\n",
      "        796740_967     gc128   design   carlin  R      23:28      1 c7-4.hpc.genomecenter.ucdavis.edu\n",
      "        796740_968     gc128   design   carlin  R      23:28      1 c7-4.hpc.genomecenter.ucdavis.edu\n",
      "        796740_969     gc128   design   carlin  R      23:28      1 c7-4.hpc.genomecenter.ucdavis.edu\n",
      "        796740_970     gc128   design   carlin  R      23:28      1 c7-4.hpc.genomecenter.ucdavis.edu\n",
      "        796740_971     gc128   design   carlin  R      23:28      1 c7-4.hpc.genomecenter.ucdavis.edu\n",
      "        796740_898     gc128   design   carlin  R      24:16      1 c7-4.hpc.genomecenter.ucdavis.edu\n",
      "        796740_899     gc128   design   carlin  R      24:16      1 c7-4.hpc.genomecenter.ucdavis.edu\n",
      "        796740_900     gc128   design   carlin  R      24:16      1 c7-4.hpc.genomecenter.ucdavis.edu\n",
      "        796740_901     gc128   design   carlin  R      24:16      1 c7-4.hpc.genomecenter.ucdavis.edu\n",
      "        796740_902     gc128   design   carlin  R      24:16      1 c7-4.hpc.genomecenter.ucdavis.edu\n",
      "        796740_903     gc128   design   carlin  R      24:16      1 c7-4.hpc.genomecenter.ucdavis.edu\n",
      "        796740_904     gc128   design   carlin  R      24:16      1 c0-4.hpc.genomecenter.ucdavis.edu\n",
      "        796740_905     gc128   design   carlin  R      24:16      1 c0-3.hpc.genomecenter.ucdavis.edu\n",
      "        796740_906     gc128   design   carlin  R      24:16      1 c0-3.hpc.genomecenter.ucdavis.edu\n",
      "        796740_908     gc128   design   carlin  R      24:16      1 c0-3.hpc.genomecenter.ucdavis.edu\n",
      "        796740_909     gc128   design   carlin  R      24:16      1 c0-5.hpc.genomecenter.ucdavis.edu\n",
      "        796740_910     gc128   design   carlin  R      24:16      1 c0-6.hpc.genomecenter.ucdavis.edu\n",
      "        796740_911     gc128   design   carlin  R      24:16      1 c0-6.hpc.genomecenter.ucdavis.edu\n",
      "        796740_912     gc128   design   carlin  R      24:16      1 c0-7.hpc.genomecenter.ucdavis.edu\n",
      "        796740_913     gc128   design   carlin  R      24:16      1 c0-7.hpc.genomecenter.ucdavis.edu\n",
      "        796740_915     gc128   design   carlin  R      24:16      1 c0-7.hpc.genomecenter.ucdavis.edu\n",
      "        796740_916     gc128   design   carlin  R      24:16      1 c0-18.hpc.genomecenter.ucdavis.edu\n",
      "        796740_917     gc128   design   carlin  R      24:16      1 c0-18.hpc.genomecenter.ucdavis.edu\n",
      "        796740_918     gc128   design   carlin  R      24:16      1 c0-18.hpc.genomecenter.ucdavis.edu\n",
      "        796740_920     gc128   design   carlin  R      24:16      1 c0-18.hpc.genomecenter.ucdavis.edu\n",
      "        796740_921     gc128   design   carlin  R      24:16      1 c0-18.hpc.genomecenter.ucdavis.edu\n",
      "        796740_923     gc128   design   carlin  R      24:16      1 c0-18.hpc.genomecenter.ucdavis.edu\n",
      "        796740_924     gc128   design   carlin  R      24:16      1 c0-19.hpc.genomecenter.ucdavis.edu\n",
      "        796740_925     gc128   design   carlin  R      24:16      1 c0-19.hpc.genomecenter.ucdavis.edu\n",
      "        796740_927     gc128   design   carlin  R      24:16      1 c0-19.hpc.genomecenter.ucdavis.edu\n",
      "        796740_928     gc128   design   carlin  R      24:16      1 c0-19.hpc.genomecenter.ucdavis.edu\n",
      "        796740_930     gc128   design   carlin  R      24:16      1 c0-19.hpc.genomecenter.ucdavis.edu\n",
      "        796740_931     gc128   design   carlin  R      24:16      1 c0-19.hpc.genomecenter.ucdavis.edu\n",
      "        796740_821     gc128   design   carlin  R      24:28      1 c0-6.hpc.genomecenter.ucdavis.edu\n",
      "        796740_822     gc128   design   carlin  R      24:28      1 c0-6.hpc.genomecenter.ucdavis.edu\n",
      "        796740_824     gc128   design   carlin  R      24:28      1 c0-7.hpc.genomecenter.ucdavis.edu\n",
      "        796740_825     gc128   design   carlin  R      24:28      1 c0-7.hpc.genomecenter.ucdavis.edu\n",
      "        796740_827     gc128   design   carlin  R      24:28      1 c0-7.hpc.genomecenter.ucdavis.edu\n",
      "        796740_832     gc128   design   carlin  R      24:28      1 c0-7.hpc.genomecenter.ucdavis.edu\n",
      "        796740_833     gc128   design   carlin  R      24:28      1 c0-7.hpc.genomecenter.ucdavis.edu\n",
      "        796740_837     gc128   design   carlin  R      24:28      1 c0-7.hpc.genomecenter.ucdavis.edu\n",
      "        796740_839     gc128   design   carlin  R      24:28      1 c0-7.hpc.genomecenter.ucdavis.edu\n",
      "        796740_840     gc128   design   carlin  R      24:28      1 c0-7.hpc.genomecenter.ucdavis.edu\n",
      "        796740_841     gc128   design   carlin  R      24:28      1 c0-7.hpc.genomecenter.ucdavis.edu\n",
      "        796740_842     gc128   design   carlin  R      24:28      1 c0-7.hpc.genomecenter.ucdavis.edu\n",
      "        796740_843     gc128   design   carlin  R      24:28      1 c0-7.hpc.genomecenter.ucdavis.edu\n",
      "        796740_846     gc128   design   carlin  R      24:28      1 c0-7.hpc.genomecenter.ucdavis.edu\n",
      "        796740_847     gc128   design   carlin  R      24:28      1 c0-7.hpc.genomecenter.ucdavis.edu\n",
      "        796740_850     gc128   design   carlin  R      24:28      1 c0-8.hpc.genomecenter.ucdavis.edu\n",
      "        796740_852     gc128   design   carlin  R      24:28      1 c0-8.hpc.genomecenter.ucdavis.edu\n",
      "        796740_853     gc128   design   carlin  R      24:28      1 c0-8.hpc.genomecenter.ucdavis.edu\n",
      "        796740_854     gc128   design   carlin  R      24:28      1 c0-8.hpc.genomecenter.ucdavis.edu\n",
      "        796740_856     gc128   design   carlin  R      24:28      1 c0-8.hpc.genomecenter.ucdavis.edu\n",
      "        796740_858     gc128   design   carlin  R      24:28      1 c0-8.hpc.genomecenter.ucdavis.edu\n",
      "        796740_859     gc128   design   carlin  R      24:28      1 c0-8.hpc.genomecenter.ucdavis.edu\n",
      "        796740_860     gc128   design   carlin  R      24:28      1 c0-8.hpc.genomecenter.ucdavis.edu\n",
      "        796740_861     gc128   design   carlin  R      24:28      1 c0-8.hpc.genomecenter.ucdavis.edu\n",
      "        796740_863     gc128   design   carlin  R      24:28      1 c0-8.hpc.genomecenter.ucdavis.edu\n",
      "        796740_865     gc128   design   carlin  R      24:28      1 c0-8.hpc.genomecenter.ucdavis.edu\n",
      "        796740_866     gc128   design   carlin  R      24:28      1 c0-8.hpc.genomecenter.ucdavis.edu\n",
      "        796740_869     gc128   design   carlin  R      24:28      1 c0-8.hpc.genomecenter.ucdavis.edu\n",
      "        796740_870     gc128   design   carlin  R      24:28      1 c0-8.hpc.genomecenter.ucdavis.edu\n",
      "        796740_871     gc128   design   carlin  R      24:28      1 c0-8.hpc.genomecenter.ucdavis.edu\n",
      "        796740_872     gc128   design   carlin  R      24:28      1 c0-9.hpc.genomecenter.ucdavis.edu\n",
      "        796740_873     gc128   design   carlin  R      24:28      1 c0-9.hpc.genomecenter.ucdavis.edu\n",
      "        796740_874     gc128   design   carlin  R      24:28      1 c0-9.hpc.genomecenter.ucdavis.edu\n",
      "        796740_875     gc128   design   carlin  R      24:28      1 c0-9.hpc.genomecenter.ucdavis.edu\n",
      "        796740_877     gc128   design   carlin  R      24:28      1 c0-9.hpc.genomecenter.ucdavis.edu\n",
      "        796740_878     gc128   design   carlin  R      24:28      1 c0-9.hpc.genomecenter.ucdavis.edu\n",
      "        796740_880     gc128   design   carlin  R      24:28      1 c0-9.hpc.genomecenter.ucdavis.edu\n",
      "        796740_881     gc128   design   carlin  R      24:28      1 c0-9.hpc.genomecenter.ucdavis.edu\n",
      "        796740_882     gc128   design   carlin  R      24:28      1 c0-9.hpc.genomecenter.ucdavis.edu\n",
      "        796740_883     gc128   design   carlin  R      24:28      1 c0-9.hpc.genomecenter.ucdavis.edu\n",
      "        796740_884     gc128   design   carlin  R      24:28      1 c0-9.hpc.genomecenter.ucdavis.edu\n",
      "        796740_885     gc128   design   carlin  R      24:28      1 c0-9.hpc.genomecenter.ucdavis.edu\n",
      "        796740_887     gc128   design   carlin  R      24:28      1 c0-9.hpc.genomecenter.ucdavis.edu\n",
      "        796740_888     gc128   design   carlin  R      24:28      1 c0-9.hpc.genomecenter.ucdavis.edu\n",
      "        796740_889     gc128   design   carlin  R      24:28      1 c0-9.hpc.genomecenter.ucdavis.edu\n",
      "        796740_892     gc128   design   carlin  R      24:28      1 c0-9.hpc.genomecenter.ucdavis.edu\n",
      "        796740_893     gc128   design   carlin  R      24:28      1 c0-9.hpc.genomecenter.ucdavis.edu\n",
      "        796740_895     gc128   design   carlin  R      24:28      1 c0-9.hpc.genomecenter.ucdavis.edu\n",
      "        796740_817     gc128   design   carlin  R      24:29      1 c0-6.hpc.genomecenter.ucdavis.edu\n",
      "        796740_638     gc128   design   carlin  R      24:30      1 c0-18.hpc.genomecenter.ucdavis.edu\n",
      "        796740_639     gc128   design   carlin  R      24:30      1 c0-18.hpc.genomecenter.ucdavis.edu\n",
      "        796740_641     gc128   design   carlin  R      24:30      1 c0-18.hpc.genomecenter.ucdavis.edu\n",
      "        796740_642     gc128   design   carlin  R      24:30      1 c0-18.hpc.genomecenter.ucdavis.edu\n",
      "        796740_643     gc128   design   carlin  R      24:30      1 c7-6.hpc.genomecenter.ucdavis.edu\n",
      "        796740_644     gc128   design   carlin  R      24:30      1 c7-6.hpc.genomecenter.ucdavis.edu\n",
      "        796740_645     gc128   design   carlin  R      24:30      1 c7-6.hpc.genomecenter.ucdavis.edu\n",
      "        796740_646     gc128   design   carlin  R      24:30      1 c7-6.hpc.genomecenter.ucdavis.edu\n",
      "        796740_647     gc128   design   carlin  R      24:30      1 c7-6.hpc.genomecenter.ucdavis.edu\n",
      "        796740_648     gc128   design   carlin  R      24:30      1 c7-6.hpc.genomecenter.ucdavis.edu\n",
      "        796740_650     gc128   design   carlin  R      24:30      1 c7-6.hpc.genomecenter.ucdavis.edu\n",
      "        796740_652     gc128   design   carlin  R      24:30      1 c7-6.hpc.genomecenter.ucdavis.edu\n",
      "        796740_653     gc128   design   carlin  R      24:30      1 c7-6.hpc.genomecenter.ucdavis.edu\n",
      "        796740_654     gc128   design   carlin  R      24:30      1 c7-6.hpc.genomecenter.ucdavis.edu\n",
      "        796740_655     gc128   design   carlin  R      24:30      1 c7-6.hpc.genomecenter.ucdavis.edu\n",
      "        796740_657     gc128   design   carlin  R      24:30      1 c7-6.hpc.genomecenter.ucdavis.edu\n",
      "        796740_658     gc128   design   carlin  R      24:30      1 c7-6.hpc.genomecenter.ucdavis.edu\n",
      "        796740_660     gc128   design   carlin  R      24:30      1 c7-3.hpc.genomecenter.ucdavis.edu\n",
      "        796740_661     gc128   design   carlin  R      24:30      1 c7-3.hpc.genomecenter.ucdavis.edu\n",
      "        796740_662     gc128   design   carlin  R      24:30      1 c7-3.hpc.genomecenter.ucdavis.edu\n",
      "        796740_663     gc128   design   carlin  R      24:30      1 c7-3.hpc.genomecenter.ucdavis.edu\n",
      "        796740_664     gc128   design   carlin  R      24:30      1 c7-3.hpc.genomecenter.ucdavis.edu\n",
      "        796740_665     gc128   design   carlin  R      24:30      1 c7-3.hpc.genomecenter.ucdavis.edu\n",
      "        796740_666     gc128   design   carlin  R      24:30      1 c7-3.hpc.genomecenter.ucdavis.edu\n",
      "        796740_667     gc128   design   carlin  R      24:30      1 c7-3.hpc.genomecenter.ucdavis.edu\n",
      "        796740_668     gc128   design   carlin  R      24:30      1 c7-3.hpc.genomecenter.ucdavis.edu\n",
      "        796740_669     gc128   design   carlin  R      24:30      1 c7-3.hpc.genomecenter.ucdavis.edu\n",
      "        796740_670     gc128   design   carlin  R      24:30      1 c7-3.hpc.genomecenter.ucdavis.edu\n",
      "        796740_672     gc128   design   carlin  R      24:30      1 c7-3.hpc.genomecenter.ucdavis.edu\n",
      "        796740_674     gc128   design   carlin  R      24:30      1 c7-3.hpc.genomecenter.ucdavis.edu\n",
      "        796740_675     gc128   design   carlin  R      24:30      1 c7-3.hpc.genomecenter.ucdavis.edu\n",
      "        796740_676     gc128   design   carlin  R      24:30      1 c7-3.hpc.genomecenter.ucdavis.edu\n",
      "        796740_677     gc128   design   carlin  R      24:30      1 c7-3.hpc.genomecenter.ucdavis.edu\n",
      "        796740_678     gc128   design   carlin  R      24:30      1 c7-3.hpc.genomecenter.ucdavis.edu\n",
      "        796740_680     gc128   design   carlin  R      24:30      1 c7-3.hpc.genomecenter.ucdavis.edu\n",
      "        796740_681     gc128   design   carlin  R      24:30      1 c7-3.hpc.genomecenter.ucdavis.edu\n",
      "        796740_683     gc128   design   carlin  R      24:30      1 c7-3.hpc.genomecenter.ucdavis.edu\n",
      "        796740_684     gc128   design   carlin  R      24:30      1 c7-3.hpc.genomecenter.ucdavis.edu\n",
      "        796740_685     gc128   design   carlin  R      24:30      1 c7-3.hpc.genomecenter.ucdavis.edu\n",
      "        796740_701     gc128   design   carlin  R      24:30      1 c7-4.hpc.genomecenter.ucdavis.edu\n",
      "        796740_702     gc128   design   carlin  R      24:30      1 c7-4.hpc.genomecenter.ucdavis.edu\n",
      "        796740_703     gc128   design   carlin  R      24:30      1 c7-4.hpc.genomecenter.ucdavis.edu\n",
      "        796740_705     gc128   design   carlin  R      24:30      1 c7-4.hpc.genomecenter.ucdavis.edu\n",
      "        796740_706     gc128   design   carlin  R      24:30      1 c7-4.hpc.genomecenter.ucdavis.edu\n",
      "        796740_707     gc128   design   carlin  R      24:30      1 c7-4.hpc.genomecenter.ucdavis.edu\n",
      "        796740_708     gc128   design   carlin  R      24:30      1 c7-4.hpc.genomecenter.ucdavis.edu\n",
      "        796740_709     gc128   design   carlin  R      24:30      1 c7-4.hpc.genomecenter.ucdavis.edu\n",
      "        796740_710     gc128   design   carlin  R      24:30      1 c7-4.hpc.genomecenter.ucdavis.edu\n",
      "        796740_711     gc128   design   carlin  R      24:30      1 c7-4.hpc.genomecenter.ucdavis.edu\n",
      "        796740_712     gc128   design   carlin  R      24:30      1 c7-4.hpc.genomecenter.ucdavis.edu\n",
      "        796740_718     gc128   design   carlin  R      24:30      1 c7-4.hpc.genomecenter.ucdavis.edu\n",
      "        796740_720     gc128   design   carlin  R      24:30      1 c7-4.hpc.genomecenter.ucdavis.edu\n",
      "        796740_723     gc128   design   carlin  R      24:30      1 c7-5.hpc.genomecenter.ucdavis.edu\n",
      "        796740_724     gc128   design   carlin  R      24:30      1 c7-5.hpc.genomecenter.ucdavis.edu\n",
      "        796740_725     gc128   design   carlin  R      24:30      1 c7-5.hpc.genomecenter.ucdavis.edu\n",
      "        796740_726     gc128   design   carlin  R      24:30      1 c7-5.hpc.genomecenter.ucdavis.edu\n",
      "        796740_727     gc128   design   carlin  R      24:30      1 c7-5.hpc.genomecenter.ucdavis.edu\n",
      "        796740_728     gc128   design   carlin  R      24:30      1 c7-5.hpc.genomecenter.ucdavis.edu\n",
      "        796740_729     gc128   design   carlin  R      24:30      1 c7-5.hpc.genomecenter.ucdavis.edu\n",
      "        796740_730     gc128   design   carlin  R      24:30      1 c7-5.hpc.genomecenter.ucdavis.edu\n",
      "        796740_731     gc128   design   carlin  R      24:30      1 c7-5.hpc.genomecenter.ucdavis.edu\n",
      "        796740_732     gc128   design   carlin  R      24:30      1 c7-5.hpc.genomecenter.ucdavis.edu\n",
      "        796740_733     gc128   design   carlin  R      24:30      1 c7-5.hpc.genomecenter.ucdavis.edu\n",
      "        796740_734     gc128   design   carlin  R      24:30      1 c7-5.hpc.genomecenter.ucdavis.edu\n",
      "        796740_735     gc128   design   carlin  R      24:30      1 c7-5.hpc.genomecenter.ucdavis.edu\n",
      "        796740_737     gc128   design   carlin  R      24:30      1 c7-5.hpc.genomecenter.ucdavis.edu\n",
      "        796740_738     gc128   design   carlin  R      24:30      1 c7-5.hpc.genomecenter.ucdavis.edu\n",
      "        796740_742     gc128   design   carlin  R      24:30      1 c7-5.hpc.genomecenter.ucdavis.edu\n",
      "        796740_743     gc128   design   carlin  R      24:30      1 c7-5.hpc.genomecenter.ucdavis.edu\n",
      "        796740_744     gc128   design   carlin  R      24:30      1 c7-5.hpc.genomecenter.ucdavis.edu\n",
      "        796740_745     gc128   design   carlin  R      24:30      1 c7-5.hpc.genomecenter.ucdavis.edu\n",
      "        796740_746     gc128   design   carlin  R      24:30      1 c7-5.hpc.genomecenter.ucdavis.edu\n",
      "        796740_747     gc128   design   carlin  R      24:30      1 c7-5.hpc.genomecenter.ucdavis.edu\n",
      "        796740_748     gc128   design   carlin  R      24:30      1 c7-5.hpc.genomecenter.ucdavis.edu\n",
      "        796740_750     gc128   design   carlin  R      24:30      1 c7-5.hpc.genomecenter.ucdavis.edu\n",
      "        796740_751     gc128   design   carlin  R      24:30      1 c7-5.hpc.genomecenter.ucdavis.edu\n",
      "        796740_752     gc128   design   carlin  R      24:30      1 c7-5.hpc.genomecenter.ucdavis.edu\n",
      "        796740_753     gc128   design   carlin  R      24:30      1 c7-5.hpc.genomecenter.ucdavis.edu\n",
      "        796740_754     gc128   design   carlin  R      24:30      1 c7-5.hpc.genomecenter.ucdavis.edu\n",
      "        796740_756     gc128   design   carlin  R      24:30      1 c0-4.hpc.genomecenter.ucdavis.edu\n",
      "        796740_758     gc128   design   carlin  R      24:30      1 c0-3.hpc.genomecenter.ucdavis.edu\n",
      "        796740_759     gc128   design   carlin  R      24:30      1 c0-3.hpc.genomecenter.ucdavis.edu\n",
      "        796740_760     gc128   design   carlin  R      24:30      1 c0-3.hpc.genomecenter.ucdavis.edu\n",
      "        796740_761     gc128   design   carlin  R      24:30      1 c0-3.hpc.genomecenter.ucdavis.edu\n",
      "        796740_762     gc128   design   carlin  R      24:30      1 c0-3.hpc.genomecenter.ucdavis.edu\n",
      "        796740_763     gc128   design   carlin  R      24:30      1 c0-3.hpc.genomecenter.ucdavis.edu\n",
      "        796740_764     gc128   design   carlin  R      24:30      1 c0-3.hpc.genomecenter.ucdavis.edu\n",
      "        796740_765     gc128   design   carlin  R      24:30      1 c0-3.hpc.genomecenter.ucdavis.edu\n",
      "        796740_770     gc128   design   carlin  R      24:30      1 c0-3.hpc.genomecenter.ucdavis.edu\n",
      "        796740_771     gc128   design   carlin  R      24:30      1 c0-3.hpc.genomecenter.ucdavis.edu\n",
      "        796740_772     gc128   design   carlin  R      24:30      1 c0-3.hpc.genomecenter.ucdavis.edu\n",
      "        796740_773     gc128   design   carlin  R      24:30      1 c0-3.hpc.genomecenter.ucdavis.edu\n",
      "        796740_774     gc128   design   carlin  R      24:30      1 c0-3.hpc.genomecenter.ucdavis.edu\n",
      "        796740_775     gc128   design   carlin  R      24:30      1 c0-3.hpc.genomecenter.ucdavis.edu\n",
      "        796740_776     gc128   design   carlin  R      24:30      1 c0-2.hpc.genomecenter.ucdavis.edu\n",
      "        796740_778     gc128   design   carlin  R      24:30      1 c0-2.hpc.genomecenter.ucdavis.edu\n",
      "        796740_779     gc128   design   carlin  R      24:30      1 c0-2.hpc.genomecenter.ucdavis.edu\n",
      "        796740_781     gc128   design   carlin  R      24:30      1 c0-2.hpc.genomecenter.ucdavis.edu\n",
      "        796740_783     gc128   design   carlin  R      24:30      1 c0-2.hpc.genomecenter.ucdavis.edu\n",
      "        796740_786     gc128   design   carlin  R      24:30      1 c0-2.hpc.genomecenter.ucdavis.edu\n",
      "        796740_788     gc128   design   carlin  R      24:30      1 c0-2.hpc.genomecenter.ucdavis.edu\n",
      "        796740_789     gc128   design   carlin  R      24:30      1 c0-2.hpc.genomecenter.ucdavis.edu\n",
      "        796740_790     gc128   design   carlin  R      24:30      1 c0-2.hpc.genomecenter.ucdavis.edu\n",
      "        796740_791     gc128   design   carlin  R      24:30      1 c0-2.hpc.genomecenter.ucdavis.edu\n",
      "        796740_792     gc128   design   carlin  R      24:30      1 c0-2.hpc.genomecenter.ucdavis.edu\n",
      "        796740_794     gc128   design   carlin  R      24:30      1 c0-2.hpc.genomecenter.ucdavis.edu\n",
      "        796740_795     gc128   design   carlin  R      24:30      1 c0-2.hpc.genomecenter.ucdavis.edu\n",
      "        796740_796     gc128   design   carlin  R      24:30      1 c0-2.hpc.genomecenter.ucdavis.edu\n",
      "        796740_798     gc128   design   carlin  R      24:30      1 c0-2.hpc.genomecenter.ucdavis.edu\n",
      "        796740_799     gc128   design   carlin  R      24:30      1 c0-2.hpc.genomecenter.ucdavis.edu\n",
      "        796740_800     gc128   design   carlin  R      24:30      1 c0-5.hpc.genomecenter.ucdavis.edu\n",
      "        796740_801     gc128   design   carlin  R      24:30      1 c0-5.hpc.genomecenter.ucdavis.edu\n",
      "        796740_802     gc128   design   carlin  R      24:30      1 c0-5.hpc.genomecenter.ucdavis.edu\n",
      "        796740_803     gc128   design   carlin  R      24:30      1 c0-5.hpc.genomecenter.ucdavis.edu\n",
      "        796740_804     gc128   design   carlin  R      24:30      1 c0-5.hpc.genomecenter.ucdavis.edu\n",
      "        796740_805     gc128   design   carlin  R      24:30      1 c0-5.hpc.genomecenter.ucdavis.edu\n",
      "        796740_807     gc128   design   carlin  R      24:30      1 c0-5.hpc.genomecenter.ucdavis.edu\n",
      "        796740_808     gc128   design   carlin  R      24:30      1 c0-5.hpc.genomecenter.ucdavis.edu\n",
      "        796740_811     gc128   design   carlin  R      24:30      1 c0-6.hpc.genomecenter.ucdavis.edu\n",
      "        796740_812     gc128   design   carlin  R      24:30      1 c0-6.hpc.genomecenter.ucdavis.edu\n",
      "        796740_814     gc128   design   carlin  R      24:30      1 c0-6.hpc.genomecenter.ucdavis.edu\n",
      "        796740_815     gc128   design   carlin  R      24:30      1 c0-6.hpc.genomecenter.ucdavis.edu\n",
      "        796740_816     gc128   design   carlin  R      24:30      1 c0-6.hpc.genomecenter.ucdavis.edu\n",
      "        796740_524     gc128   design   carlin  R      25:15      1 c0-5.hpc.genomecenter.ucdavis.edu\n",
      "        796740_525     gc128   design   carlin  R      25:15      1 c0-5.hpc.genomecenter.ucdavis.edu\n",
      "        796740_526     gc128   design   carlin  R      25:15      1 c0-6.hpc.genomecenter.ucdavis.edu\n",
      "        796740_529     gc128   design   carlin  R      25:15      1 c0-6.hpc.genomecenter.ucdavis.edu\n",
      "        796740_530     gc128   design   carlin  R      25:15      1 c0-6.hpc.genomecenter.ucdavis.edu\n",
      "        796740_531     gc128   design   carlin  R      25:15      1 c0-6.hpc.genomecenter.ucdavis.edu\n",
      "        796740_532     gc128   design   carlin  R      25:15      1 c0-6.hpc.genomecenter.ucdavis.edu\n",
      "        796740_533     gc128   design   carlin  R      25:15      1 c0-6.hpc.genomecenter.ucdavis.edu\n",
      "        796740_534     gc128   design   carlin  R      25:15      1 c0-6.hpc.genomecenter.ucdavis.edu\n",
      "        796740_535     gc128   design   carlin  R      25:15      1 c0-6.hpc.genomecenter.ucdavis.edu\n",
      "        796740_199     gc128   design   carlin  R      26:17      1 c0-4.hpc.genomecenter.ucdavis.edu\n",
      "        796740_200     gc128   design   carlin  R      26:17      1 c0-4.hpc.genomecenter.ucdavis.edu\n",
      "        796740_201     gc128   design   carlin  R      26:17      1 c0-4.hpc.genomecenter.ucdavis.edu\n",
      "        796740_202     gc128   design   carlin  R      26:17      1 c0-4.hpc.genomecenter.ucdavis.edu\n",
      "        796740_203     gc128   design   carlin  R      26:17      1 c0-4.hpc.genomecenter.ucdavis.edu\n",
      "        796740_204     gc128   design   carlin  R      26:17      1 c0-4.hpc.genomecenter.ucdavis.edu\n",
      "        796740_205     gc128   design   carlin  R      26:17      1 c0-4.hpc.genomecenter.ucdavis.edu\n",
      "        796740_207     gc128   design   carlin  R      26:17      1 c0-4.hpc.genomecenter.ucdavis.edu\n",
      "        796740_208     gc128   design   carlin  R      26:17      1 c0-4.hpc.genomecenter.ucdavis.edu\n",
      "        796740_209     gc128   design   carlin  R      26:17      1 c0-4.hpc.genomecenter.ucdavis.edu\n",
      "        796740_210     gc128   design   carlin  R      26:17      1 c0-4.hpc.genomecenter.ucdavis.edu\n",
      "        796740_211     gc128   design   carlin  R      26:17      1 c0-4.hpc.genomecenter.ucdavis.edu\n",
      "        796740_212     gc128   design   carlin  R      26:17      1 c0-4.hpc.genomecenter.ucdavis.edu\n",
      "        796740_213     gc128   design   carlin  R      26:17      1 c0-4.hpc.genomecenter.ucdavis.edu\n",
      "        796740_214     gc128   design   carlin  R      26:17      1 c0-4.hpc.genomecenter.ucdavis.edu\n",
      "        796740_216     gc128   design   carlin  R      26:17      1 c0-4.hpc.genomecenter.ucdavis.edu\n",
      "        796740_217     gc128   design   carlin  R      26:17      1 c0-5.hpc.genomecenter.ucdavis.edu\n",
      "        796740_218     gc128   design   carlin  R      26:17      1 c0-5.hpc.genomecenter.ucdavis.edu\n",
      "        796740_219     gc128   design   carlin  R      26:17      1 c0-5.hpc.genomecenter.ucdavis.edu\n",
      "        796740_221     gc128   design   carlin  R      26:17      1 c0-5.hpc.genomecenter.ucdavis.edu\n",
      "        796740_222     gc128   design   carlin  R      26:17      1 c0-5.hpc.genomecenter.ucdavis.edu\n",
      "        796740_224     gc128   design   carlin  R      26:17      1 c0-5.hpc.genomecenter.ucdavis.edu\n",
      "        796740_226     gc128   design   carlin  R      26:17      1 c0-5.hpc.genomecenter.ucdavis.edu\n",
      "        796740_227     gc128   design   carlin  R      26:17      1 c0-5.hpc.genomecenter.ucdavis.edu\n",
      "        796740_228     gc128   design   carlin  R      26:17      1 c0-5.hpc.genomecenter.ucdavis.edu\n",
      "        796740_229     gc128   design   carlin  R      26:17      1 c0-5.hpc.genomecenter.ucdavis.edu\n",
      "        796740_230     gc128   design   carlin  R      26:17      1 c0-5.hpc.genomecenter.ucdavis.edu\n",
      "        796740_231     gc128   design   carlin  R      26:17      1 c0-5.hpc.genomecenter.ucdavis.edu\n",
      "        796740_197     gc128   design   carlin  R      26:18      1 c0-4.hpc.genomecenter.ucdavis.edu\n",
      "        796740_198     gc128   design   carlin  R      26:18      1 c0-4.hpc.genomecenter.ucdavis.edu\n",
      "          796740_1     gc128   design   carlin  R      26:19      1 c0-0.hpc.genomecenter.ucdavis.edu\n",
      "          796740_2     gc128   design   carlin  R      26:19      1 c0-16.hpc.genomecenter.ucdavis.edu\n",
      "          796740_6     gc128   design   carlin  R      26:19      1 c0-14.hpc.genomecenter.ucdavis.edu\n",
      "          796740_8     gc128   design   carlin  R      26:19      1 c0-14.hpc.genomecenter.ucdavis.edu\n",
      "         796740_11     gc128   design   carlin  R      26:19      1 c0-14.hpc.genomecenter.ucdavis.edu\n",
      "         796740_12     gc128   design   carlin  R      26:19      1 c0-14.hpc.genomecenter.ucdavis.edu\n",
      "        796740_186     gc128   design   carlin  R      26:19      1 c0-3.hpc.genomecenter.ucdavis.edu\n",
      "        796740_187     gc128   design   carlin  R      26:19      1 c0-3.hpc.genomecenter.ucdavis.edu\n",
      "        796740_190     gc128   design   carlin  R      26:19      1 c0-3.hpc.genomecenter.ucdavis.edu\n",
      "        796740_192     gc128   design   carlin  R      26:19      1 c0-3.hpc.genomecenter.ucdavis.edu\n",
      "        796740_194     gc128   design   carlin  R      26:19      1 c0-4.hpc.genomecenter.ucdavis.edu\n",
      "        796740_195     gc128   design   carlin  R      26:19      1 c0-4.hpc.genomecenter.ucdavis.edu\n",
      "        796740_196     gc128   design   carlin  R      26:19      1 c0-4.hpc.genomecenter.ucdavis.edu\n"
     ]
    }
   ],
   "source": [
    "! squeue -u carlin "
   ]
  },
  {
   "cell_type": "code",
   "execution_count": 305,
   "metadata": {
    "collapsed": false
   },
   "outputs": [
    {
     "name": "stdout",
     "output_type": "stream",
     "text": [
      "enzdes/out/score_0000.sc  enzdes/out/score_0002.sc  enzdes/out/score_0004.sc\r\n",
      "enzdes/out/score_0001.sc  enzdes/out/score_0003.sc\r\n"
     ]
    }
   ],
   "source": [
    "! ls enzdes/out/*sc "
   ]
  },
  {
   "cell_type": "markdown",
   "metadata": {},
   "source": [
    "## Results \n",
    "\n",
    "### Filter the RosettaScripts enzyme design output \n",
    "\n",
    "Let's start by looking at histograms of the `total_score` of each of the catalytic residues. Because we're looking at a big ligand, let's also check out the interface energy score. "
   ]
  },
  {
   "cell_type": "code",
   "execution_count": 65,
   "metadata": {
    "collapsed": false
   },
   "outputs": [
    {
     "name": "stdout",
     "output_type": "stream",
     "text": [
      "ssh: Could not resolve hostname : Name or service not known\r",
      "\r\n",
      "rsync: connection unexpectedly closed (0 bytes received so far) [Receiver]\r\n",
      "rsync error: unexplained error (code 255) at io.c(226) [Receiver=3.1.0]\r\n"
     ]
    }
   ],
   "source": [
    "# download scorefiles from cluster \n",
    "! rsync -avz $ep:/share/work/alex/dnh_aro/enzdes/out/*sc designs/"
   ]
  },
  {
   "cell_type": "code",
   "execution_count": 306,
   "metadata": {
    "collapsed": false
   },
   "outputs": [
    {
     "name": "stdout",
     "output_type": "stream",
     "text": [
      "5800 enzdes out\n",
      "159 scaffolds\n",
      "4323 unique matches\n"
     ]
    }
   ],
   "source": [
    "%matplotlib inline\n",
    "import matplotlib.pyplot as plt\n",
    "import pandas\n",
    "from glob import glob \n",
    "\n",
    "dfs = [ pandas.read_csv( i, sep='\\s+' ) for i in glob( 'enzdes/out/*sc' ) ]\n",
    "df = pandas.concat( dfs ).dropna()\n",
    "df['scaffold'] = df.description.str.split( '_' ).str.get( 4 ) \n",
    "df['match'] = df.description.str.split( '_11' ).str[0]\n",
    "\n",
    "print len( df ), 'enzdes out'\n",
    "print len( df.scaffold.unique() ), 'scaffolds'\n",
    "print len( df.match.unique() ), 'unique matches'\n",
    "\n",
    "# sf = pandas.read_csv( 'enzdes/out/score.sc', sep='\\s+' )\n",
    "# sf.index = sf.description\n",
    "# sf['scaffold'] = sf.index.str.split( '_' ).str[4]\n",
    "# sf['match'] = sf.index.str.split( '_11' ).str[0]\n",
    "# sf.sample( 3 )\n",
    "\n",
    "# print len( sf ), 'enzdes out'\n",
    "# print len( sf.scaffold.unique() ), 'scaffolds'\n",
    "# print len( sf.match.unique() ), 'unique matches'"
   ]
  },
  {
   "cell_type": "code",
   "execution_count": 307,
   "metadata": {
    "collapsed": false
   },
   "outputs": [
    {
     "name": "stdout",
     "output_type": "stream",
     "text": [
      "4323 lowest from nstruct groups (should equal number of matches)\n"
     ]
    }
   ],
   "source": [
    "# get lowest 1 of each nstruct \n",
    "\n",
    "def lowest( df ):\n",
    "    return df.sort( 'total_score' ).head( 1 )\n",
    "\n",
    "grouped = df.groupby( 'match' ).apply( lowest )\n",
    "print len( grouped ), 'lowest from nstruct groups (should equal number of matches)'"
   ]
  },
  {
   "cell_type": "code",
   "execution_count": 309,
   "metadata": {
    "collapsed": false
   },
   "outputs": [
    {
     "name": "stdout",
     "output_type": "stream",
     "text": [
      "57 structures meet critera\n"
     ]
    }
   ],
   "source": [
    "filtered = grouped[ \n",
    "    ( grouped.all_cst < 1 ) & \n",
    "    ( grouped.SR_1_total_score < 0 ) & \n",
    "    ( grouped.SR_2_total_score < 0 ) & \n",
    "    ( grouped.SR_3_total_score < 0 ) & \n",
    "    ( grouped.SR_3_dsasa_1_2 > 0.9 ) \n",
    "]\n",
    "\n",
    "! mkdir results \n",
    "\n",
    "print len( filtered ), 'structures meet critera'\n",
    "filtered.to_csv( 'results/filtered.csv' )"
   ]
  },
  {
   "cell_type": "markdown",
   "metadata": {},
   "source": [
    "Histograms of all the columns in the scorefile "
   ]
  },
  {
   "cell_type": "code",
   "execution_count": null,
   "metadata": {
    "collapsed": false,
    "scrolled": false
   },
   "outputs": [],
   "source": [
    "#sf.hist( linewidth=0, color='k', figsize=( 12, 120 ), bins=50, layout=(41,1) )"
   ]
  },
  {
   "cell_type": "markdown",
   "metadata": {},
   "source": [
    "Per-scaffold histograms! (Why?)"
   ]
  },
  {
   "cell_type": "code",
   "execution_count": null,
   "metadata": {
    "collapsed": false,
    "scrolled": false
   },
   "outputs": [],
   "source": [
    "#sf.total_score.hist(by=df.scaffold, figsize=(21,21), color='k', linewidth=0 )\n",
    "#plt.tight_layout()"
   ]
  },
  {
   "cell_type": "code",
   "execution_count": null,
   "metadata": {
    "collapsed": false
   },
   "outputs": [],
   "source": [
    "filtered.sample( 5 )"
   ]
  },
  {
   "cell_type": "code",
   "execution_count": null,
   "metadata": {
    "collapsed": false
   },
   "outputs": [],
   "source": [
    "# use this when working on the cluster \n",
    "\n",
    "# from subprocess import call \n",
    "\n",
    "# tar_list = [ 'dnh_aro/enzdes/out/{}.pdb'.format( i ) for i in filtered.description ]\n",
    "# cmd = [ 'tar', '--create', '--verbose', '--file', 'filtered.tar' ] + tar_list \n",
    "# #call( cmd )"
   ]
  },
  {
   "cell_type": "code",
   "execution_count": null,
   "metadata": {
    "collapsed": true
   },
   "outputs": [],
   "source": [
    "# use this when working on local machine \n",
    "\n",
    "pull_list = [ 'dnh_aro/enzdes/out/{}.pdb'.format( i ) for i in filtered.description ]\n",
    "with open( 'results/pull_list', 'w' ) as fn:\n",
    "    fn.write( '\\n'.join( pull_list ) )\n",
    "\n",
    "#! head pull_list   \n",
    "! rsync -avz --files-from=pull_list $ep:. results/"
   ]
  },
  {
   "cell_type": "markdown",
   "metadata": {
    "collapsed": false
   },
   "source": [
    "## Manual curation of structures \n",
    "\n",
    "Now that we have run Rosetta simulations and picked a set of design critera to fiter by, it's time for manual curation of the structures. We'll download the 50 or so that look the best, and pick some designs to order. \n",
    "\n",
    "One thing that I really like to see when looking at a design is the mutations that were made when compared to the wild type enzyme. Let's diff the designs against their wild types (only those in the filtered list though)."
   ]
  },
  {
   "cell_type": "markdown",
   "metadata": {
    "collapsed": true
   },
   "source": [
    "Here, let's try to automate the curation step. Let's write a function that\n",
    "\n",
    "+ takes a design PDB file name in enzdes/out\n",
    "\n",
    "and makes a nice PyMOL session with \n",
    "\n",
    "+ the wild type loaded and overlayed \n",
    "+ mutations colored "
   ]
  },
  {
   "cell_type": "code",
   "execution_count": null,
   "metadata": {
    "collapsed": false,
    "scrolled": true
   },
   "outputs": [],
   "source": [
    "import os\n",
    "from Bio.PDB.Polypeptide import PPBuilder\n",
    "from Bio.PDB import PDBParser\n",
    "import string \n",
    "\n",
    "def return_seq( pdb ):\n",
    "    '''\n",
    "    Utility function to get a FASTA-like sequence from a PDB file \n",
    "    '''\n",
    "    parser = PDBParser()\n",
    "    structure = parser.get_structure( pdb[:-4], pdb )\n",
    "    ppb = PPBuilder() # lol why don't these have PDBParser( 'XZY1.pdb' )-style constructors? \n",
    "    for pp in ppb.build_peptides( structure ):\n",
    "        sequence = pp.get_sequence()\n",
    "        return sequence \n",
    "\n",
    "def my_map( design ):\n",
    "    '''\n",
    "    Utility function that will fetch the design and WT PDBs from disk, diff them, \n",
    "    as well as generate a nice PyMOL script for looking at them later \n",
    "    '''\n",
    "    wild_type_pdb = 'scaffold_set/{}_11.pdb'.format( design.split( '_' )[4] )\n",
    "    design_pdb = 'results/dnh_aro/enzdes/out/{}.pdb'.format( design )\n",
    "    #print os.path.isfile( wild_type_pdb ), wild_type_pdb, os.path.isfile( design_pdb ), design_pdb\n",
    "    wt_seq = return_seq( wild_type_pdb )\n",
    "    des_seq = return_seq( design_pdb )\n",
    "    diff = [ '{}{}{}'.format( i, n+1, j ) for n, (i, j) in enumerate( zip( wt_seq, des_seq ) ) if i != j ]\n",
    "    string_rep = '+'.join( diff )\n",
    "    \n",
    "    with open( 'results/{}.pml'.format( design ), 'w' ) as fn:\n",
    "        filestring = \"\"\"\n",
    "load ~/Documents/dnh-aro/{0}, wt; load ~/Documents/dnh-aro/{1}, design;  \n",
    "clean; orient resn LG1; stored.design_ca = []; stored.wt_ca = []; \n",
    "iterate obj design and name ca, stored.design_ca.append( resn ); \n",
    "iterate obj wt and name ca, stored.wt_ca.append( resn ) ; \n",
    "select muts, resi {2} and obj design; util.cbaw muts; util.cnc; \n",
    "        \"\"\".format( \n",
    "            wild_type_pdb, \n",
    "            design_pdb, \n",
    "            string_rep.translate( None, string.letters )\n",
    "        )\n",
    "        fn.write( filestring )\n",
    "    \n",
    "    # print out some nice markdown we can use in a the next cell lol \n",
    "#     print '### {}\\n'.format( design ) \n",
    "#     print '**Scaffold**: {} \\n\\n **Mutations**: {}\\n'.format( design.split( '_' )[4], string_rep )\n",
    "#     match_series = filtered.loc[ design.split( '_11' )[0] ]\n",
    "#     print '  + total_score: {}\\n'.format( match_series.total_score.values[0] )\n",
    "#     print '  + Tyrosine score: {}\\n'.format( match_series.SR_1_total_score.values[0] )\n",
    "#     print '  + Glu/Asp score: {}\\n'.format( match_series.SR_2_total_score.values[0] )\n",
    "#     print '  + Ligand score: {}\\n'.format( match_series.SR_3_total_score.values[0] )\n",
    "#     print '**Notes**: \\n'\n",
    "#     print '---'\n",
    "#     print ''\n",
    "    \n",
    "    return string_rep\n",
    "    \n",
    "filtered['mutations'] = filtered.description.map( my_map )"
   ]
  },
  {
   "cell_type": "markdown",
   "metadata": {},
   "source": [
    "## Create a new notebook with design data that can be used to keep notes \n",
    "\n",
    "Use this if you want to make a new notebook with seperate cells for each design "
   ]
  },
  {
   "cell_type": "code",
   "execution_count": null,
   "metadata": {
    "collapsed": false
   },
   "outputs": [],
   "source": [
    "from nbformat import current as nbf\n",
    "\n",
    "nb = nbf.new_notebook()\n",
    "\n",
    "header_cell = nbf.new_text_cell( 'markdown', '# Design notes\\n\\n {} designs'.format( len( filtered ) ) )\n",
    "\n",
    "cells = [ header_cell ]\n",
    "\n",
    "for i, series in filtered.iterrows():\n",
    "    \n",
    "    info = [ \n",
    "        '### {}'.format( series.description ), \n",
    "        '**Scaffold**: {}\\n'.format( series.scaffold ), \n",
    "        '**Mutations**: {}\\n'.format( series.mutations ),\n",
    "        '  + `total_score`: {}'.format( series.total_score ),\n",
    "        '  + Tyrosine `total_score`: {}'.format( series.SR_1_total_score ),\n",
    "        '  + Glu/Asp `total_score`: {}'.format( series.SR_2_total_score ),\n",
    "        '  + Ligand `total_score`: {}\\n'.format( series.SR_1_total_score ),\n",
    "        '**Notes**: \\n\\n --- \\n' \n",
    "    ]\n",
    "    \n",
    "    cell = nbf.new_text_cell( 'markdown', '\\n'.join( info ) )\n",
    "    cells.append( cell ) \n",
    "\n",
    "nb['worksheets'].append(nbf.new_worksheet(cells=cells))\n",
    "\n",
    "from datetime import datetime \n",
    "\n",
    "with open( 'results/results_{}.ipynb'.format( datetime.now() ), 'w') as f:\n",
    "    nbf.write(nb, f, 'ipynb')"
   ]
  },
  {
   "cell_type": "code",
   "execution_count": null,
   "metadata": {
    "collapsed": true
   },
   "outputs": [],
   "source": []
  }
 ],
 "metadata": {
  "kernelspec": {
   "display_name": "Python 2",
   "language": "python",
   "name": "python2"
  },
  "language_info": {
   "codemirror_mode": {
    "name": "ipython",
    "version": 2
   },
   "file_extension": ".py",
   "mimetype": "text/x-python",
   "name": "python",
   "nbconvert_exporter": "python",
   "pygments_lexer": "ipython2",
   "version": "2.7.10"
  }
 },
 "nbformat": 4,
 "nbformat_minor": 0
}
