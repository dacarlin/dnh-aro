{
 "cells": [
  {
   "cell_type": "markdown",
   "metadata": {},
   "source": [
    "# Design notes\n",
    "\n",
    " 57 designs"
   ]
  },
  {
   "cell_type": "markdown",
   "metadata": {},
   "source": [
    "---\n",
    "\n",
    "### UM_100_Y118E50_1_1sjw_11_hydratase_1_0001_0001"
   ]
  },
  {
   "cell_type": "code",
   "execution_count": null,
   "metadata": {
    "collapsed": true
   },
   "outputs": [],
   "source": [
    "! open UM_100_Y118E50_1_1sjw_11_hydratase_1_0001_0001.pml"
   ]
  },
  {
   "cell_type": "markdown",
   "metadata": {},
   "source": [
    "**Scaffold**: 1sjw\n",
    "\n",
    "**Mutation string**: F14A+L50E+V54F+L82A+Q104A+H106A+H118Y+D120V+P122M\n",
    "\n",
    "**Mutations**: \n",
    "\n",
    "  1. F14A\n",
    "  1. L50E\n",
    "  1. V54F\n",
    "  1. L82A\n",
    "  1. Q104A\n",
    "  1. H106A\n",
    "  1. H118Y\n",
    "  1. D120V\n",
    "  1. P122M\n",
    "\n",
    "**Scores**: \n",
    "\n",
    "\n",
    "  + `total_score`: -275.86\n",
    "  + Tyrosine `total_score`: -0.81\n",
    "  + Glu/Asp `total_score`: -0.32\n",
    "  + Ligand `total_score`: -0.81\n",
    "\n",
    "**Notes**: \n",
    "\n",
    " --- \n"
   ]
  },
  {
   "cell_type": "markdown",
   "metadata": {},
   "source": [
    "---\n",
    "\n",
    "### UM_101_Y108E50_1_1sjw_11_hydratase_1_0000_0001"
   ]
  },
  {
   "cell_type": "code",
   "execution_count": null,
   "metadata": {
    "collapsed": true
   },
   "outputs": [],
   "source": [
    "! open UM_101_Y108E50_1_1sjw_11_hydratase_1_0000_0001.pml"
   ]
  },
  {
   "cell_type": "markdown",
   "metadata": {},
   "source": [
    "**Scaffold**: 1sjw\n",
    "\n",
    "**Mutation string**: M10A+F14V+L50E+L64V+L80A+H106G+M108Y+H118G+D120K\n",
    "\n",
    "**Mutations**: \n",
    "\n",
    "  1. M10A\n",
    "  1. F14V\n",
    "  1. L50E\n",
    "  1. L64V\n",
    "  1. L80A\n",
    "  1. H106G\n",
    "  1. M108Y\n",
    "  1. H118G\n",
    "  1. D120K\n",
    "\n",
    "**Scores**: \n",
    "\n",
    "\n",
    "  + `total_score`: -270.01\n",
    "  + Tyrosine `total_score`: -2.18\n",
    "  + Glu/Asp `total_score`: -0.32\n",
    "  + Ligand `total_score`: -2.18\n",
    "\n",
    "**Notes**: \n",
    "\n",
    " --- \n"
   ]
  },
  {
   "cell_type": "markdown",
   "metadata": {},
   "source": [
    "---\n",
    "\n",
    "### UM_102_Y105E86_1_1qv0_11_hydratase_1_0003_0001"
   ]
  },
  {
   "cell_type": "code",
   "execution_count": null,
   "metadata": {
    "collapsed": true
   },
   "outputs": [],
   "source": [
    "! open UM_102_Y105E86_1_1qv0_11_hydratase_1_0003_0001.pml"
   ]
  },
  {
   "cell_type": "markdown",
   "metadata": {},
   "source": [
    "**Scaffold**: 1qv0\n",
    "\n",
    "**Mutation string**: H16A+M19A+F65L+C69A+W86E+I105Y+I134W+H165W+Y170N\n",
    "\n",
    "**Mutations**: \n",
    "\n",
    "  1. H16A\n",
    "  1. M19A\n",
    "  1. F65L\n",
    "  1. C69A\n",
    "  1. W86E\n",
    "  1. I105Y\n",
    "  1. I134W\n",
    "  1. H165W\n",
    "  1. Y170N\n",
    "\n",
    "**Scores**: \n",
    "\n",
    "\n",
    "  + `total_score`: -390.8\n",
    "  + Tyrosine `total_score`: -1.11\n",
    "  + Glu/Asp `total_score`: -0.51\n",
    "  + Ligand `total_score`: -1.11\n",
    "\n",
    "**Notes**: \n",
    "\n",
    " --- \n"
   ]
  },
  {
   "cell_type": "markdown",
   "metadata": {},
   "source": [
    "---\n",
    "\n",
    "### UM_12_Y159D37_1_1ebg_11_hydratase_1_0004_0001"
   ]
  },
  {
   "cell_type": "code",
   "execution_count": null,
   "metadata": {
    "collapsed": true
   },
   "outputs": [],
   "source": [
    "! open UM_12_Y159D37_1_1ebg_11_hydratase_1_0004_0001.pml"
   ]
  },
  {
   "cell_type": "markdown",
   "metadata": {},
   "source": [
    "**Scaffold**: 1ebg\n",
    "\n",
    "**Mutation string**: G37D+T40G+H159Y+E168G+D246A+C247V+A248G+E295I+D320G+D321N+K345I+R374Q+S375G\n",
    "\n",
    "**Mutations**: \n",
    "\n",
    "  1. G37D\n",
    "  1. T40G\n",
    "  1. H159Y\n",
    "  1. E168G\n",
    "  1. D246A\n",
    "  1. C247V\n",
    "  1. A248G\n",
    "  1. E295I\n",
    "  1. D320G\n",
    "  1. D321N\n",
    "  1. K345I\n",
    "  1. R374Q\n",
    "  1. S375G\n",
    "\n",
    "**Scores**: \n",
    "\n",
    "\n",
    "  + `total_score`: -219.55\n",
    "  + Tyrosine `total_score`: -0.66\n",
    "  + Glu/Asp `total_score`: -0.85\n",
    "  + Ligand `total_score`: -0.66\n",
    "\n",
    "**Notes**: \n",
    "\n",
    " --- \n"
   ]
  },
  {
   "cell_type": "markdown",
   "metadata": {},
   "source": [
    "---\n",
    "\n",
    "### UM_13_Y38E122_1_1o97_11_hydratase_1_0004_0001"
   ]
  },
  {
   "cell_type": "code",
   "execution_count": null,
   "metadata": {
    "collapsed": true
   },
   "outputs": [],
   "source": [
    "! open UM_13_Y38E122_1_1o97_11_hydratase_1_0004_0001.pml"
   ]
  },
  {
   "cell_type": "markdown",
   "metadata": {},
   "source": [
    "**Scaffold**: 1o97\n",
    "\n",
    "**Mutation string**: K8Q+N36A+W38Y+D39A+V100L+S122E+D124T+Q125R+Y127M\n",
    "\n",
    "**Mutations**: \n",
    "\n",
    "  1. K8Q\n",
    "  1. N36A\n",
    "  1. W38Y\n",
    "  1. D39A\n",
    "  1. V100L\n",
    "  1. S122E\n",
    "  1. D124T\n",
    "  1. Q125R\n",
    "  1. Y127M\n",
    "\n",
    "**Scores**: \n",
    "\n",
    "\n",
    "  + `total_score`: -270.98\n",
    "  + Tyrosine `total_score`: -0.39\n",
    "  + Glu/Asp `total_score`: -0.5\n",
    "  + Ligand `total_score`: -0.39\n",
    "\n",
    "**Notes**: \n",
    "\n",
    " --- \n"
   ]
  },
  {
   "cell_type": "markdown",
   "metadata": {},
   "source": [
    "---\n",
    "\n",
    "### UM_150_Y239E93_1_1r5l_11_hydratase_1_0000_0001"
   ]
  },
  {
   "cell_type": "code",
   "execution_count": null,
   "metadata": {
    "collapsed": true
   },
   "outputs": [],
   "source": [
    "! open UM_150_Y239E93_1_1r5l_11_hydratase_1_0000_0001.pml"
   ]
  },
  {
   "cell_type": "markdown",
   "metadata": {},
   "source": [
    "**Scaffold**: 1r5l\n",
    "\n",
    "**Mutation string**: H77A+V79S+L91A+Y93E+S112W+T115G+S116A+I119S+A132V+W235A+I239Y\n",
    "\n",
    "**Mutations**: \n",
    "\n",
    "  1. H77A\n",
    "  1. V79S\n",
    "  1. L91A\n",
    "  1. Y93E\n",
    "  1. S112W\n",
    "  1. T115G\n",
    "  1. S116A\n",
    "  1. I119S\n",
    "  1. A132V\n",
    "  1. W235A\n",
    "  1. I239Y\n",
    "\n",
    "**Scores**: \n",
    "\n",
    "\n",
    "  + `total_score`: -266.21\n",
    "  + Tyrosine `total_score`: -0.03\n",
    "  + Glu/Asp `total_score`: -0.87\n",
    "  + Ligand `total_score`: -0.03\n",
    "\n",
    "**Notes**: \n",
    "\n",
    " --- \n"
   ]
  },
  {
   "cell_type": "markdown",
   "metadata": {},
   "source": [
    "---\n",
    "\n",
    "### UM_157_Y165D112_1_1qv0_11_hydratase_1_0003_0001"
   ]
  },
  {
   "cell_type": "code",
   "execution_count": 2,
   "metadata": {
    "collapsed": true
   },
   "outputs": [],
   "source": [
    "! open UM_157_Y165D112_1_1qv0_11_hydratase_1_0003_0001.pml"
   ]
  },
  {
   "cell_type": "markdown",
   "metadata": {},
   "source": [
    "**Scaffold**: 1qv0\n",
    "\n",
    "**Mutation string**: G109I+V112D+F113A+W125G+Y128A+S135A+V158A+M161A+H165Y\n",
    "\n",
    "**Mutations**: \n",
    "\n",
    "  1. G109I\n",
    "  1. V112D\n",
    "  1. F113A\n",
    "  1. W125G\n",
    "  1. Y128A\n",
    "  1. S135A\n",
    "  1. V158A\n",
    "  1. M161A\n",
    "  1. H165Y\n",
    "\n",
    "**Scores**: \n",
    "\n",
    "\n",
    "  + `total_score`: -383.01\n",
    "  + Tyrosine `total_score`: -1.44\n",
    "  + Glu/Asp `total_score`: -0.27\n",
    "  + Ligand `total_score`: -1.44\n",
    "\n",
    "**Notes**: \n",
    "\n",
    " --- \n"
   ]
  },
  {
   "cell_type": "markdown",
   "metadata": {},
   "source": [
    "---\n",
    "\n",
    "### UM_171_Y179E105_1_1qv0_11_hydratase_1_0004_0001"
   ]
  },
  {
   "cell_type": "code",
   "execution_count": null,
   "metadata": {
    "collapsed": true
   },
   "outputs": [],
   "source": [
    "! open UM_171_Y179E105_1_1qv0_11_hydratase_1_0004_0001.pml"
   ]
  },
  {
   "cell_type": "markdown",
   "metadata": {},
   "source": [
    "**Scaffold**: 1qv0\n",
    "\n",
    "**Mutation string**: I105E+G109A+V112A+W125G+M161A+H165A+L179Y\n",
    "\n",
    "**Mutations**: \n",
    "\n",
    "  1. I105E\n",
    "  1. G109A\n",
    "  1. V112A\n",
    "  1. W125G\n",
    "  1. M161A\n",
    "  1. H165A\n",
    "  1. L179Y\n",
    "\n",
    "**Scores**: \n",
    "\n",
    "\n",
    "  + `total_score`: -380.05\n",
    "  + Tyrosine `total_score`: -1.03\n",
    "  + Glu/Asp `total_score`: -0.05\n",
    "  + Ligand `total_score`: -1.03\n",
    "\n",
    "**Notes**: \n",
    "\n",
    " --- \n"
   ]
  },
  {
   "cell_type": "markdown",
   "metadata": {},
   "source": [
    "---\n",
    "\n",
    "### UM_17_Y50D332_1_1mbt_11_hydratase_1_0000_0001"
   ]
  },
  {
   "cell_type": "code",
   "execution_count": null,
   "metadata": {
    "collapsed": true
   },
   "outputs": [],
   "source": [
    "! open UM_17_Y50D332_1_1mbt_11_hydratase_1_0000_0001.pml"
   ]
  },
  {
   "cell_type": "markdown",
   "metadata": {},
   "source": [
    "**Scaffold**: 1mbt\n",
    "\n",
    "**Mutation string**: V50Y+S114E+I117A+K162T+Y165N+Q166A+R325I+E332D\n",
    "\n",
    "**Mutations**: \n",
    "\n",
    "  1. V50Y\n",
    "  1. S114E\n",
    "  1. I117A\n",
    "  1. K162T\n",
    "  1. Y165N\n",
    "  1. Q166A\n",
    "  1. R325I\n",
    "  1. E332D\n",
    "\n",
    "**Scores**: \n",
    "\n",
    "\n",
    "  + `total_score`: 106.99\n",
    "  + Tyrosine `total_score`: -0.67\n",
    "  + Glu/Asp `total_score`: -0.89\n",
    "  + Ligand `total_score`: -0.67\n",
    "\n",
    "**Notes**: \n",
    "\n",
    " --- \n"
   ]
  },
  {
   "cell_type": "markdown",
   "metadata": {},
   "source": [
    "---\n",
    "\n",
    "### UM_17_Y89E115_1_1r5l_11_hydratase_1_0002_0001"
   ]
  },
  {
   "cell_type": "code",
   "execution_count": 3,
   "metadata": {
    "collapsed": true
   },
   "outputs": [],
   "source": [
    "! open UM_17_Y89E115_1_1r5l_11_hydratase_1_0002_0001.pml"
   ]
  },
  {
   "cell_type": "markdown",
   "metadata": {},
   "source": [
    "**Scaffold**: 1r5l\n",
    "\n",
    "**Mutation string**: H77T+V79G+K89Y+T115E+W235G\n",
    "\n",
    "**Mutations**: \n",
    "\n",
    "  1. H77T\n",
    "  1. V79G\n",
    "  1. K89Y\n",
    "  1. T115E\n",
    "  1. W235G\n",
    "\n",
    "**Scores**: \n",
    "\n",
    "\n",
    "  + `total_score`: -279.87\n",
    "  + Tyrosine `total_score`: -0.85\n",
    "  + Glu/Asp `total_score`: -0.88\n",
    "  + Ligand `total_score`: -0.85\n",
    "\n",
    "**Notes**: \n",
    "\n",
    " --- \n"
   ]
  },
  {
   "cell_type": "markdown",
   "metadata": {},
   "source": [
    "---\n",
    "\n",
    "### UM_18_Y169D247_1_1fp2_11_hydratase_1_0001_0001"
   ]
  },
  {
   "cell_type": "code",
   "execution_count": 4,
   "metadata": {
    "collapsed": true
   },
   "outputs": [],
   "source": [
    "! open UM_18_Y169D247_1_1fp2_11_hydratase_1_0001_0001.pml"
   ]
  },
  {
   "cell_type": "markdown",
   "metadata": {},
   "source": [
    "**Scaffold**: 1fp2\n",
    "\n",
    "**Mutation string**: A162R+S165G+N169Y+T192D+T195A+K246A+Y247D\n",
    "\n",
    "**Mutations**: \n",
    "\n",
    "  1. A162R\n",
    "  1. S165G\n",
    "  1. N169Y\n",
    "  1. T192D\n",
    "  1. T195A\n",
    "  1. K246A\n",
    "  1. Y247D\n",
    "\n",
    "**Scores**: \n",
    "\n",
    "\n",
    "  + `total_score`: -513.95\n",
    "  + Tyrosine `total_score`: -2.03\n",
    "  + Glu/Asp `total_score`: -0.63\n",
    "  + Ligand `total_score`: -2.03\n",
    "\n",
    "**Notes**: \n",
    "\n",
    "  + nice backup to Asp247 \n",
    "  + mostly polar pocket \n",
    "  + our ligand in the same spot as crystal structure ligand \n",
    "  \n",
    " --- \n"
   ]
  },
  {
   "cell_type": "markdown",
   "metadata": {},
   "source": [
    "---\n",
    "\n",
    "### UM_19_Y80E155_1_1tt8_11_hydratase_1_0000_0001"
   ]
  },
  {
   "cell_type": "code",
   "execution_count": null,
   "metadata": {
    "collapsed": true
   },
   "outputs": [],
   "source": [
    "! open UM_19_Y80E155_1_1tt8_11_hydratase_1_0000_0001.pml"
   ]
  },
  {
   "cell_type": "markdown",
   "metadata": {},
   "source": [
    "**Scaffold**: 1tt8\n",
    "\n",
    "**Mutation string**: M34Q+I78A+L80Y+T92A+L114S+S142M+L146Y+L151A+L153A+T154A\n",
    "\n",
    "**Mutations**: \n",
    "\n",
    "  1. M34Q\n",
    "  1. I78A\n",
    "  1. L80Y\n",
    "  1. T92A\n",
    "  1. L114S\n",
    "  1. S142M\n",
    "  1. L146Y\n",
    "  1. L151A\n",
    "  1. L153A\n",
    "  1. T154A\n",
    "\n",
    "**Scores**: \n",
    "\n",
    "\n",
    "  + `total_score`: -346.65\n",
    "  + Tyrosine `total_score`: -0.3\n",
    "  + Glu/Asp `total_score`: -0.33\n",
    "  + Ligand `total_score`: -0.3\n",
    "\n",
    "**Notes**: \n",
    "\n",
    " --- \n"
   ]
  },
  {
   "cell_type": "markdown",
   "metadata": {},
   "source": [
    "---\n",
    "\n",
    "### UM_19_Y82E233_1_1igs_11_hydratase_1_0000_0001"
   ]
  },
  {
   "cell_type": "code",
   "execution_count": null,
   "metadata": {
    "collapsed": true
   },
   "outputs": [],
   "source": [
    "! open UM_19_Y82E233_1_1igs_11_hydratase_1_0000_0001.pml"
   ]
  },
  {
   "cell_type": "markdown",
   "metadata": {},
   "source": [
    "**Scaffold**: 1igs\n",
    "\n",
    "**Mutation string**: E50A+K52G+L82Y+K109F+E209M+S210G+L230M+S233E\n",
    "\n",
    "**Mutations**: \n",
    "\n",
    "  1. E50A\n",
    "  1. K52G\n",
    "  1. L82Y\n",
    "  1. K109F\n",
    "  1. E209M\n",
    "  1. S210G\n",
    "  1. L230M\n",
    "  1. S233E\n",
    "\n",
    "**Scores**: \n",
    "\n",
    "\n",
    "  + `total_score`: -304.31\n",
    "  + Tyrosine `total_score`: -0.62\n",
    "  + Glu/Asp `total_score`: -0.53\n",
    "  + Ligand `total_score`: -0.62\n",
    "\n",
    "**Notes**: \n",
    "\n",
    " --- \n"
   ]
  },
  {
   "cell_type": "markdown",
   "metadata": {},
   "source": [
    "---\n",
    "\n",
    "### UM_1_Y23D113_1_1d3g_11_hydratase_1_0000_0001"
   ]
  },
  {
   "cell_type": "code",
   "execution_count": null,
   "metadata": {
    "collapsed": true
   },
   "outputs": [],
   "source": [
    "! open UM_1_Y23D113_1_1d3g_11_hydratase_1_0000_0001.pml"
   ]
  },
  {
   "cell_type": "markdown",
   "metadata": {},
   "source": [
    "**Scaffold**: 1d3g\n",
    "\n",
    "**Mutation string**: P23Y+H27W+V102Q+N113D+Y115T+Y320G+T324S\n",
    "\n",
    "**Mutations**: \n",
    "\n",
    "  1. P23Y\n",
    "  1. H27W\n",
    "  1. V102Q\n",
    "  1. N113D\n",
    "  1. Y115T\n",
    "  1. Y320G\n",
    "  1. T324S\n",
    "\n",
    "**Scores**: \n",
    "\n",
    "\n",
    "  + `total_score`: -603.54\n",
    "  + Tyrosine `total_score`: -0.72\n",
    "  + Glu/Asp `total_score`: -1.52\n",
    "  + Ligand `total_score`: -0.72\n",
    "\n",
    "**Notes**: \n",
    "\n",
    " --- \n"
   ]
  },
  {
   "cell_type": "markdown",
   "metadata": {},
   "source": [
    "---\n",
    "\n",
    "### UM_1_Y27E253_1_1p4c_11_hydratase_1_0001_0001"
   ]
  },
  {
   "cell_type": "code",
   "execution_count": null,
   "metadata": {
    "collapsed": true
   },
   "outputs": [],
   "source": [
    "! open UM_1_Y27E253_1_1p4c_11_hydratase_1_0001_0001.pml"
   ]
  },
  {
   "cell_type": "markdown",
   "metadata": {},
   "source": [
    "**Scaffold**: 1p4c\n",
    "\n",
    "**Mutation string**: E25A+G27Y+V34G+R38N+G253E+R285S+R305W+Y309A\n",
    "\n",
    "**Mutations**: \n",
    "\n",
    "  1. E25A\n",
    "  1. G27Y\n",
    "  1. V34G\n",
    "  1. R38N\n",
    "  1. G253E\n",
    "  1. R285S\n",
    "  1. R305W\n",
    "  1. Y309A\n",
    "\n",
    "**Scores**: \n",
    "\n",
    "\n",
    "  + `total_score`: -353.41\n",
    "  + Tyrosine `total_score`: -1.49\n",
    "  + Glu/Asp `total_score`: -0.61\n",
    "  + Ligand `total_score`: -1.49\n",
    "\n",
    "**Notes**: \n",
    "\n",
    " --- \n"
   ]
  },
  {
   "cell_type": "markdown",
   "metadata": {},
   "source": [
    "---\n",
    "\n",
    "### UM_21_Y93D143_1_1r5l_11_hydratase_1_0000_0001"
   ]
  },
  {
   "cell_type": "code",
   "execution_count": 6,
   "metadata": {
    "collapsed": true
   },
   "outputs": [],
   "source": [
    "! open UM_21_Y93D143_1_1r5l_11_hydratase_1_0000_0001.pml"
   ]
  },
  {
   "cell_type": "markdown",
   "metadata": {},
   "source": [
    "**Scaffold**: 1r5l\n",
    "\n",
    "**Mutation string**: L71A+Y76S+I95A+W98A+V102K+V108G+H143D\n",
    "\n",
    "**Mutations**: \n",
    "\n",
    "  1. L71A\n",
    "  1. Y76S\n",
    "  1. I95A\n",
    "  1. W98A\n",
    "  1. V102K\n",
    "  1. V108G\n",
    "  1. H143D\n",
    "\n",
    "**Scores**: \n",
    "\n",
    "\n",
    "  + `total_score`: -413.44\n",
    "  + Tyrosine `total_score`: -1.93\n",
    "  + Glu/Asp `total_score`: -1.49\n",
    "  + Ligand `total_score`: -1.93\n",
    "\n",
    "**Notes**: Huge backbone movements \n",
    "\n",
    " --- \n"
   ]
  },
  {
   "cell_type": "markdown",
   "metadata": {},
   "source": [
    "---\n",
    "\n",
    "### UM_22_Y88E233_1_1igs_11_hydratase_1_0002_0001"
   ]
  },
  {
   "cell_type": "code",
   "execution_count": 7,
   "metadata": {
    "collapsed": true
   },
   "outputs": [],
   "source": [
    "! open UM_22_Y88E233_1_1igs_11_hydratase_1_0002_0001.pml"
   ]
  },
  {
   "cell_type": "markdown",
   "metadata": {},
   "source": [
    "**Scaffold**: 1igs\n",
    "\n",
    "**Mutation string**: K52A+S57N+F88Y+R181A+L183P+E209I+S210G+S233E\n",
    "\n",
    "**Mutations**: \n",
    "\n",
    "  1. K52A\n",
    "  1. S57N\n",
    "  1. F88Y\n",
    "  1. R181A\n",
    "  1. L183P -- revert \n",
    "  1. E209I\n",
    "  1. S210G -- revert \n",
    "  1. S233E\n",
    "\n",
    "**Scores**: \n",
    "\n",
    "\n",
    "  + `total_score`: -291.13\n",
    "  + Tyrosine `total_score`: -1.92\n",
    "  + Glu/Asp `total_score`: -0.02\n",
    "  + Ligand `total_score`: -1.92\n",
    "\n",
    "**Notes**: OK, but will have to manually remove the proline mutations \n",
    "\n",
    " --- \n"
   ]
  },
  {
   "cell_type": "markdown",
   "metadata": {},
   "source": [
    "---\n",
    "\n",
    "### UM_23_Y179D189_1_1xrl_11_hydratase_1_0002_0001"
   ]
  },
  {
   "cell_type": "code",
   "execution_count": null,
   "metadata": {
    "collapsed": true
   },
   "outputs": [],
   "source": [
    "! open UM_23_Y179D189_1_1xrl_11_hydratase_1_0002_0001.pml"
   ]
  },
  {
   "cell_type": "markdown",
   "metadata": {},
   "source": [
    "**Scaffold**: 1xrl\n",
    "\n",
    "**Mutation string**: M37G+Y41G+S101Q+S102G+L179Y+V189D+S192A+Y195W+E210A+L269M\n",
    "\n",
    "**Mutations**: \n",
    "\n",
    "  1. M37G\n",
    "  1. Y41G\n",
    "  1. S101Q\n",
    "  1. S102G\n",
    "  1. L179Y\n",
    "  1. V189D\n",
    "  1. S192A\n",
    "  1. Y195W\n",
    "  1. E210A\n",
    "  1. L269M\n",
    "\n",
    "**Scores**: \n",
    "\n",
    "\n",
    "  + `total_score`: -452.87\n",
    "  + Tyrosine `total_score`: -1.34\n",
    "  + Glu/Asp `total_score`: -0.77\n",
    "  + Ligand `total_score`: -1.34\n",
    "\n",
    "**Notes**: \n",
    "\n",
    " --- \n"
   ]
  },
  {
   "cell_type": "markdown",
   "metadata": {},
   "source": [
    "---\n",
    "\n",
    "### UM_29_Y80E7_1_1xxn_11_hydratase_1_0001_0001"
   ]
  },
  {
   "cell_type": "code",
   "execution_count": null,
   "metadata": {
    "collapsed": true
   },
   "outputs": [],
   "source": [
    "! open UM_29_Y80E7_1_1xxn_11_hydratase_1_0001_0001.pml"
   ]
  },
  {
   "cell_type": "markdown",
   "metadata": {},
   "source": [
    "**Scaffold**: 1xxn\n",
    "\n",
    "**Mutation string**: Q7E+N35A+V37A+Y69A+E78A+R112Q+E172M\n",
    "\n",
    "**Mutations**: \n",
    "\n",
    "  1. Q7E\n",
    "  1. N35A\n",
    "  1. V37A\n",
    "  1. Y69A\n",
    "  1. E78A\n",
    "  1. R112Q\n",
    "  1. E172M\n",
    "\n",
    "**Scores**: \n",
    "\n",
    "\n",
    "  + `total_score`: -378.64\n",
    "  + Tyrosine `total_score`: -3.03\n",
    "  + Glu/Asp `total_score`: -0.51\n",
    "  + Ligand `total_score`: -3.03\n",
    "\n",
    "**Notes**: \n",
    "\n",
    " --- \n"
   ]
  },
  {
   "cell_type": "markdown",
   "metadata": {},
   "source": [
    "---\n",
    "\n",
    "### UM_2_Y152D372_1_1ebg_11_hydratase_1_0000_0001"
   ]
  },
  {
   "cell_type": "code",
   "execution_count": null,
   "metadata": {
    "collapsed": true
   },
   "outputs": [],
   "source": [
    "! open UM_2_Y152D372_1_1ebg_11_hydratase_1_0000_0001.pml"
   ]
  },
  {
   "cell_type": "markdown",
   "metadata": {},
   "source": [
    "**Scaffold**: 1ebg\n",
    "\n",
    "**Mutation string**: N152Y+E168G+M170A+E295S+V318A+D320G+L343R+K345G+M370S+S372D+K396G\n",
    "\n",
    "**Mutations**: \n",
    "\n",
    "  1. N152Y\n",
    "  1. E168G\n",
    "  1. M170A\n",
    "  1. E295S\n",
    "  1. V318A\n",
    "  1. D320G\n",
    "  1. L343R\n",
    "  1. K345G\n",
    "  1. M370S\n",
    "  1. S372D\n",
    "  1. K396G\n",
    "\n",
    "**Scores**: \n",
    "\n",
    "\n",
    "  + `total_score`: -227.55\n",
    "  + Tyrosine `total_score`: -0.98\n",
    "  + Glu/Asp `total_score`: -0.23\n",
    "  + Ligand `total_score`: -0.98\n",
    "\n",
    "**Notes**: \n",
    "\n",
    " --- \n"
   ]
  },
  {
   "cell_type": "markdown",
   "metadata": {},
   "source": [
    "---\n",
    "\n",
    "### UM_30_Y48E82_1_1xpc_11_hydratase_1_0002_0001"
   ]
  },
  {
   "cell_type": "code",
   "execution_count": null,
   "metadata": {
    "collapsed": true
   },
   "outputs": [],
   "source": [
    "! open UM_30_Y48E82_1_1xpc_11_hydratase_1_0002_0001.pml"
   ]
  },
  {
   "cell_type": "markdown",
   "metadata": {},
   "source": [
    "**Scaffold**: 1xpc\n",
    "\n",
    "**Mutation string**: A44W+L48Y+W77G+L78V+L81A+M82E+M211I+S212A+G215A+L219A+C224T+K225G\n",
    "\n",
    "**Mutations**: \n",
    "\n",
    "  1. A44W\n",
    "  1. L48Y\n",
    "  1. W77G\n",
    "  1. L78V\n",
    "  1. L81A\n",
    "  1. M82E\n",
    "  1. M211I\n",
    "  1. S212A\n",
    "  1. G215A\n",
    "  1. L219A\n",
    "  1. C224T\n",
    "  1. K225G\n",
    "\n",
    "**Scores**: \n",
    "\n",
    "\n",
    "  + `total_score`: -123.88\n",
    "  + Tyrosine `total_score`: -0.45\n",
    "  + Glu/Asp `total_score`: -0.04\n",
    "  + Ligand `total_score`: -0.45\n",
    "\n",
    "**Notes**: \n",
    "\n",
    " --- \n"
   ]
  },
  {
   "cell_type": "markdown",
   "metadata": {},
   "source": [
    "---\n",
    "\n",
    "### UM_33_Y40E20_1_1tuv_11_hydratase_1_0003_0001"
   ]
  },
  {
   "cell_type": "code",
   "execution_count": null,
   "metadata": {
    "collapsed": true
   },
   "outputs": [],
   "source": [
    "! open UM_33_Y40E20_1_1tuv_11_hydratase_1_0003_0001.pml"
   ]
  },
  {
   "cell_type": "markdown",
   "metadata": {},
   "source": [
    "**Scaffold**: 1tuv\n",
    "\n",
    "**Mutation string**: I8S+V20E+F24S+I27S+V28Q+V31A+P42S+M62N+H75W+H80Q+M81A+Y84D\n",
    "\n",
    "**Mutations**: \n",
    "\n",
    "  1. I8S\n",
    "  1. V20E\n",
    "  1. F24S\n",
    "  1. I27S\n",
    "  1. V28Q\n",
    "  1. V31A\n",
    "  1. P42S\n",
    "  1. M62N\n",
    "  1. H75W\n",
    "  1. H80Q\n",
    "  1. M81A\n",
    "  1. Y84D\n",
    "\n",
    "**Scores**: \n",
    "\n",
    "\n",
    "  + `total_score`: -136.96\n",
    "  + Tyrosine `total_score`: -0.96\n",
    "  + Glu/Asp `total_score`: -0.27\n",
    "  + Ligand `total_score`: -0.96\n",
    "\n",
    "**Notes**: \n",
    "\n",
    " --- \n"
   ]
  },
  {
   "cell_type": "markdown",
   "metadata": {},
   "source": [
    "---\n",
    "\n",
    "### UM_35_Y213D33_1_1xrl_11_hydratase_1_0002_0001"
   ]
  },
  {
   "cell_type": "code",
   "execution_count": null,
   "metadata": {
    "collapsed": true
   },
   "outputs": [],
   "source": [
    "! open UM_35_Y213D33_1_1xrl_11_hydratase_1_0002_0001.pml"
   ]
  },
  {
   "cell_type": "markdown",
   "metadata": {},
   "source": [
    "**Scaffold**: 1xrl\n",
    "\n",
    "**Mutation string**: G33D+S102G+M138A+Y175R+N206G+I213Y+E242G\n",
    "\n",
    "**Mutations**: \n",
    "\n",
    "  1. G33D\n",
    "  1. S102G\n",
    "  1. M138A\n",
    "  1. Y175R\n",
    "  1. N206G\n",
    "  1. I213Y\n",
    "  1. E242G\n",
    "\n",
    "**Scores**: \n",
    "\n",
    "\n",
    "  + `total_score`: -442.56\n",
    "  + Tyrosine `total_score`: -1.51\n",
    "  + Glu/Asp `total_score`: -0.13\n",
    "  + Ligand `total_score`: -1.51\n",
    "\n",
    "**Notes**: \n",
    "\n",
    " --- \n"
   ]
  },
  {
   "cell_type": "markdown",
   "metadata": {},
   "source": [
    "---\n",
    "\n",
    "### UM_37_Y78E211_1_1xpc_11_hydratase_1_0003_0001"
   ]
  },
  {
   "cell_type": "code",
   "execution_count": null,
   "metadata": {
    "collapsed": true
   },
   "outputs": [],
   "source": [
    "! open UM_37_Y78E211_1_1xpc_11_hydratase_1_0003_0001.pml"
   ]
  },
  {
   "cell_type": "markdown",
   "metadata": {},
   "source": [
    "**Scaffold**: 1xpc\n",
    "\n",
    "**Mutation string**: M37A+L78Y+M82A+I118G+F119V+M121K+M211E+S212A+M216L+H218K\n",
    "\n",
    "**Mutations**: \n",
    "\n",
    "  1. M37A\n",
    "  1. L78Y\n",
    "  1. M82A\n",
    "  1. I118G\n",
    "  1. F119V\n",
    "  1. M121K\n",
    "  1. M211E\n",
    "  1. S212A\n",
    "  1. M216L\n",
    "  1. H218K\n",
    "\n",
    "**Scores**: \n",
    "\n",
    "\n",
    "  + `total_score`: -94.88\n",
    "  + Tyrosine `total_score`: -0.77\n",
    "  + Glu/Asp `total_score`: -0.03\n",
    "  + Ligand `total_score`: -0.77\n",
    "\n",
    "**Notes**: \n",
    "\n",
    " --- \n"
   ]
  },
  {
   "cell_type": "markdown",
   "metadata": {},
   "source": [
    "---\n",
    "\n",
    "### UM_3_Y9D36_1_1n9l_11_hydratase_1_0002_0001"
   ]
  },
  {
   "cell_type": "code",
   "execution_count": null,
   "metadata": {
    "collapsed": true
   },
   "outputs": [],
   "source": [
    "! open UM_3_Y9D36_1_1n9l_11_hydratase_1_0002_0001.pml"
   ]
  },
  {
   "cell_type": "markdown",
   "metadata": {},
   "source": [
    "**Scaffold**: 1n9l\n",
    "\n",
    "**Mutation string**: V7A+A9Y+L18A+A21G+F25A+T29S+V36D+H39K+C41G+F43H+L44A+N73L+N83A+G102E+Q104A\n",
    "\n",
    "**Mutations**: \n",
    "\n",
    "  1. V7A\n",
    "  1. A9Y\n",
    "  1. L18A\n",
    "  1. A21G\n",
    "  1. F25A\n",
    "  1. T29S\n",
    "  1. V36D\n",
    "  1. H39K\n",
    "  1. C41G\n",
    "  1. F43H\n",
    "  1. L44A\n",
    "  1. N73L\n",
    "  1. N83A\n",
    "  1. G102E\n",
    "  1. Q104A\n",
    "\n",
    "**Scores**: \n",
    "\n",
    "\n",
    "  + `total_score`: -183.07\n",
    "  + Tyrosine `total_score`: -2.25\n",
    "  + Glu/Asp `total_score`: -0.34\n",
    "  + Ligand `total_score`: -2.25\n",
    "\n",
    "**Notes**: \n",
    "\n",
    " --- \n"
   ]
  },
  {
   "cell_type": "markdown",
   "metadata": {},
   "source": [
    "---\n",
    "\n",
    "### UM_42_Y36E86_1_1qv0_11_hydratase_1_0004_0001"
   ]
  },
  {
   "cell_type": "code",
   "execution_count": null,
   "metadata": {
    "collapsed": true
   },
   "outputs": [],
   "source": [
    "! open UM_42_Y36E86_1_1qv0_11_hydratase_1_0004_0001.pml"
   ]
  },
  {
   "cell_type": "markdown",
   "metadata": {},
   "source": [
    "**Scaffold**: 1qv0\n",
    "\n",
    "**Mutation string**: H16S+F20A+L23S+I31G+I36Y+C69A+I77V+A78T+F82G+W86E\n",
    "\n",
    "**Mutations**: \n",
    "\n",
    "  1. H16S\n",
    "  1. F20A\n",
    "  1. L23S\n",
    "  1. I31G\n",
    "  1. I36Y\n",
    "  1. C69A\n",
    "  1. I77V\n",
    "  1. A78T\n",
    "  1. F82G\n",
    "  1. W86E\n",
    "\n",
    "**Scores**: \n",
    "\n",
    "\n",
    "  + `total_score`: -397.26\n",
    "  + Tyrosine `total_score`: -0.51\n",
    "  + Glu/Asp `total_score`: -0.4\n",
    "  + Ligand `total_score`: -0.51\n",
    "\n",
    "**Notes**: \n",
    "\n",
    " --- \n"
   ]
  },
  {
   "cell_type": "markdown",
   "metadata": {},
   "source": [
    "---\n",
    "\n",
    "### UM_43_Y238D211_1_1gca_11_hydratase_1_0001_0001"
   ]
  },
  {
   "cell_type": "code",
   "execution_count": null,
   "metadata": {
    "collapsed": true
   },
   "outputs": [],
   "source": [
    "! open UM_43_Y238D211_1_1gca_11_hydratase_1_0001_0001.pml"
   ]
  },
  {
   "cell_type": "markdown",
   "metadata": {},
   "source": [
    "**Scaffold**: 1gca\n",
    "\n",
    "**Mutation string**: Y10S+D14Q+N15T+F16G+M17A+N66E+K92N+E149P+W183G+N210D+N211D+D236G+L238Y\n",
    "\n",
    "**Mutations**: \n",
    "\n",
    "  1. Y10S\n",
    "  1. D14Q\n",
    "  1. N15T\n",
    "  1. F16G\n",
    "  1. M17A\n",
    "  1. N66E\n",
    "  1. K92N\n",
    "  1. E149P\n",
    "  1. W183G\n",
    "  1. N210D\n",
    "  1. N211D\n",
    "  1. D236G\n",
    "  1. L238Y\n",
    "\n",
    "**Scores**: \n",
    "\n",
    "\n",
    "  + `total_score`: -602.84\n",
    "  + Tyrosine `total_score`: -0.59\n",
    "  + Glu/Asp `total_score`: -0.31\n",
    "  + Ligand `total_score`: -0.59\n",
    "\n",
    "**Notes**: \n",
    "\n",
    " --- \n"
   ]
  },
  {
   "cell_type": "markdown",
   "metadata": {},
   "source": [
    "---\n",
    "\n",
    "### UM_45_Y190E131_1_1ls6_11_hydratase_1_0001_0001"
   ]
  },
  {
   "cell_type": "code",
   "execution_count": null,
   "metadata": {
    "collapsed": true
   },
   "outputs": [],
   "source": [
    "! open UM_45_Y190E131_1_1ls6_11_hydratase_1_0001_0001.pml"
   ]
  },
  {
   "cell_type": "markdown",
   "metadata": {},
   "source": [
    "**Scaffold**: 1ls6\n",
    "\n",
    "**Mutation string**: K41G+S42E+W46L+R123A+S131E+Y186A+K190Y+F248A+K251S+M253R\n",
    "\n",
    "**Mutations**: \n",
    "\n",
    "  1. K41G\n",
    "  1. S42E\n",
    "  1. W46L\n",
    "  1. R123A\n",
    "  1. S131E\n",
    "  1. Y186A\n",
    "  1. K190Y\n",
    "  1. F248A\n",
    "  1. K251S\n",
    "  1. M253R\n",
    "\n",
    "**Scores**: \n",
    "\n",
    "\n",
    "  + `total_score`: -528.62\n",
    "  + Tyrosine `total_score`: -0.84\n",
    "  + Glu/Asp `total_score`: -0.24\n",
    "  + Ligand `total_score`: -0.84\n",
    "\n",
    "**Notes**: \n",
    "\n",
    " --- \n"
   ]
  },
  {
   "cell_type": "markdown",
   "metadata": {},
   "source": [
    "---\n",
    "\n",
    "### UM_47_Y131D200_1_1ukb_11_hydratase_1_0002_0001"
   ]
  },
  {
   "cell_type": "code",
   "execution_count": null,
   "metadata": {
    "collapsed": true
   },
   "outputs": [],
   "source": [
    "! open UM_47_Y131D200_1_1ukb_11_hydratase_1_0002_0001.pml"
   ]
  },
  {
   "cell_type": "markdown",
   "metadata": {},
   "source": [
    "**Scaffold**: 1ukb\n",
    "\n",
    "**Mutation string**: S32G+A101G+F102L+G125N+F131Y+L137A+L200D+V224T\n",
    "\n",
    "**Mutations**: \n",
    "\n",
    "  1. S32G\n",
    "  1. A101G\n",
    "  1. F102L\n",
    "  1. G125N\n",
    "  1. F131Y\n",
    "  1. L137A\n",
    "  1. L200D\n",
    "  1. V224T\n",
    "\n",
    "**Scores**: \n",
    "\n",
    "\n",
    "  + `total_score`: -574.37\n",
    "  + Tyrosine `total_score`: -2.54\n",
    "  + Glu/Asp `total_score`: -0.2\n",
    "  + Ligand `total_score`: -2.54\n",
    "\n",
    "**Notes**: \n",
    "\n",
    " --- \n"
   ]
  },
  {
   "cell_type": "markdown",
   "metadata": {},
   "source": [
    "---\n",
    "\n",
    "### UM_48_Y113E9_1_2uvh_11_hydratase_1_0002_0001"
   ]
  },
  {
   "cell_type": "code",
   "execution_count": null,
   "metadata": {
    "collapsed": true
   },
   "outputs": [],
   "source": [
    "! open UM_48_Y113E9_1_2uvh_11_hydratase_1_0002_0001.pml"
   ]
  },
  {
   "cell_type": "markdown",
   "metadata": {},
   "source": [
    "**Scaffold**: 2uvh\n",
    "\n",
    "**Mutation string**: W9E+W41R+N64G+S113Y+T115S+W243S+S245G+T246A+A281G+Q282A\n",
    "\n",
    "**Mutations**: \n",
    "\n",
    "  1. W9E\n",
    "  1. W41R\n",
    "  1. N64G\n",
    "  1. S113Y\n",
    "  1. T115S\n",
    "  1. W243S\n",
    "  1. S245G\n",
    "  1. T246A\n",
    "  1. A281G\n",
    "  1. Q282A\n",
    "\n",
    "**Scores**: \n",
    "\n",
    "\n",
    "  + `total_score`: -470.76\n",
    "  + Tyrosine `total_score`: -2.77\n",
    "  + Glu/Asp `total_score`: -0.31\n",
    "  + Ligand `total_score`: -2.77\n",
    "\n",
    "**Notes**: \n",
    "\n",
    " --- \n"
   ]
  },
  {
   "cell_type": "markdown",
   "metadata": {},
   "source": [
    "---\n",
    "\n",
    "### UM_48_Y348E321_1_1ebg_11_hydratase_1_0004_0001"
   ]
  },
  {
   "cell_type": "code",
   "execution_count": null,
   "metadata": {
    "collapsed": true
   },
   "outputs": [],
   "source": [
    "! open UM_48_Y348E321_1_1ebg_11_hydratase_1_0004_0001.pml"
   ]
  },
  {
   "cell_type": "markdown",
   "metadata": {},
   "source": [
    "**Scaffold**: 1ebg\n",
    "\n",
    "**Mutation string**: G37D+T40S+H159S+Q167E+E168G+S250Q+E295A+D296N+D320G+D321E+K345G+Q348Y+H373G+R374S\n",
    "\n",
    "**Mutations**: \n",
    "\n",
    "  1. G37D\n",
    "  1. T40S\n",
    "  1. H159S\n",
    "  1. Q167E\n",
    "  1. E168G\n",
    "  1. S250Q\n",
    "  1. E295A\n",
    "  1. D296N\n",
    "  1. D320G\n",
    "  1. D321E\n",
    "  1. K345G\n",
    "  1. Q348Y\n",
    "  1. H373G\n",
    "  1. R374S\n",
    "\n",
    "**Scores**: \n",
    "\n",
    "\n",
    "  + `total_score`: -227.09\n",
    "  + Tyrosine `total_score`: -0.69\n",
    "  + Glu/Asp `total_score`: -0.74\n",
    "  + Ligand `total_score`: -0.69\n",
    "\n",
    "**Notes**: \n",
    "\n",
    " --- \n"
   ]
  },
  {
   "cell_type": "markdown",
   "metadata": {},
   "source": [
    "---\n",
    "\n",
    "### UM_4_Y3D45_1_1ikt_11_hydratase_1_0001_0001"
   ]
  },
  {
   "cell_type": "code",
   "execution_count": null,
   "metadata": {
    "collapsed": true
   },
   "outputs": [],
   "source": [
    "! open UM_4_Y3D45_1_1ikt_11_hydratase_1_0001_0001.pml"
   ]
  },
  {
   "cell_type": "markdown",
   "metadata": {},
   "source": [
    "**Scaffold**: 1ikt\n",
    "\n",
    "**Mutation string**: S3Y+F7A+W31V+I45D+F74A+V77I\n",
    "\n",
    "**Mutations**: \n",
    "\n",
    "  1. S3Y\n",
    "  1. F7A\n",
    "  1. W31V\n",
    "  1. I45D\n",
    "  1. F74A\n",
    "  1. V77I\n",
    "\n",
    "**Scores**: \n",
    "\n",
    "\n",
    "  + `total_score`: -252.0\n",
    "  + Tyrosine `total_score`: -2.18\n",
    "  + Glu/Asp `total_score`: -1.13\n",
    "  + Ligand `total_score`: -2.18\n",
    "\n",
    "**Notes**: \n",
    "\n",
    " --- \n"
   ]
  },
  {
   "cell_type": "markdown",
   "metadata": {},
   "source": [
    "---\n",
    "\n",
    "### UM_50_Y147D206_1_1abe_11_hydratase_1_0004_0001"
   ]
  },
  {
   "cell_type": "code",
   "execution_count": null,
   "metadata": {
    "collapsed": true
   },
   "outputs": [],
   "source": [
    "! open UM_50_Y147D206_1_1abe_11_hydratase_1_0004_0001.pml"
   ]
  },
  {
   "cell_type": "markdown",
   "metadata": {},
   "source": [
    "**Scaffold**: 1abe\n",
    "\n",
    "**Mutation string**: V8N+K9A+Q10H+E13A+F16A+C63D+D88N+D89N+A147Y+N176P+M203G+N204A+S206D+T207I\n",
    "\n",
    "**Mutations**: \n",
    "\n",
    "  1. V8N\n",
    "  1. K9A\n",
    "  1. Q10H\n",
    "  1. E13A\n",
    "  1. F16A\n",
    "  1. C63D\n",
    "  1. D88N\n",
    "  1. D89N\n",
    "  1. A147Y\n",
    "  1. N176P\n",
    "  1. M203G\n",
    "  1. N204A\n",
    "  1. S206D\n",
    "  1. T207I\n",
    "\n",
    "**Scores**: \n",
    "\n",
    "\n",
    "  + `total_score`: -372.69\n",
    "  + Tyrosine `total_score`: -1.18\n",
    "  + Glu/Asp `total_score`: -1.13\n",
    "  + Ligand `total_score`: -1.18\n",
    "\n",
    "**Notes**: \n",
    "\n",
    " --- \n"
   ]
  },
  {
   "cell_type": "markdown",
   "metadata": {},
   "source": [
    "---\n",
    "\n",
    "### UM_53_Y156E190_1_1GOM_11_hydratase_1_0002_0001"
   ]
  },
  {
   "cell_type": "code",
   "execution_count": null,
   "metadata": {
    "collapsed": true
   },
   "outputs": [],
   "source": [
    "! open UM_53_Y156E190_1_1GOM_11_hydratase_1_0002_0001.pml"
   ]
  },
  {
   "cell_type": "markdown",
   "metadata": {},
   "source": [
    "**Scaffold**: 1GOM\n",
    "\n",
    "**Mutation string**: V128G+N129M+F132L+F156Y+I170G+I186A+V190E+I203T\n",
    "\n",
    "**Mutations**: \n",
    "\n",
    "  1. V128G\n",
    "  1. N129M\n",
    "  1. F132L\n",
    "  1. F156Y\n",
    "  1. I170G\n",
    "  1. I186A\n",
    "  1. V190E\n",
    "  1. I203T\n",
    "\n",
    "**Scores**: \n",
    "\n",
    "\n",
    "  + `total_score`: -590.24\n",
    "  + Tyrosine `total_score`: -0.45\n",
    "  + Glu/Asp `total_score`: -1.17\n",
    "  + Ligand `total_score`: -0.45\n",
    "\n",
    "**Notes**: \n",
    "\n",
    " --- \n"
   ]
  },
  {
   "cell_type": "markdown",
   "metadata": {},
   "source": [
    "---\n",
    "\n",
    "### UM_59_Y249E23_1_1d3g_11_hydratase_1_0004_0001"
   ]
  },
  {
   "cell_type": "code",
   "execution_count": null,
   "metadata": {
    "collapsed": true
   },
   "outputs": [],
   "source": [
    "! open UM_59_Y249E23_1_1d3g_11_hydratase_1_0004_0001.pml"
   ]
  },
  {
   "cell_type": "markdown",
   "metadata": {},
   "source": [
    "**Scaffold**: 1d3g\n",
    "\n",
    "**Mutation string**: P23E+H27W+I62A+F66G+V102M+N113I+Y115A+T249Y+S269G+Y320G\n",
    "\n",
    "**Mutations**: \n",
    "\n",
    "  1. P23E\n",
    "  1. H27W\n",
    "  1. I62A\n",
    "  1. F66G\n",
    "  1. V102M\n",
    "  1. N113I\n",
    "  1. Y115A\n",
    "  1. T249Y\n",
    "  1. S269G\n",
    "  1. Y320G\n",
    "\n",
    "**Scores**: \n",
    "\n",
    "\n",
    "  + `total_score`: -641.68\n",
    "  + Tyrosine `total_score`: -0.46\n",
    "  + Glu/Asp `total_score`: -0.58\n",
    "  + Ligand `total_score`: -0.46\n",
    "\n",
    "**Notes**: \n",
    "\n",
    " --- \n"
   ]
  },
  {
   "cell_type": "markdown",
   "metadata": {},
   "source": [
    "---\n",
    "\n",
    "### UM_60_Y131D172_1_1xxn_11_hydratase_1_0003_0001"
   ]
  },
  {
   "cell_type": "code",
   "execution_count": null,
   "metadata": {
    "collapsed": true
   },
   "outputs": [],
   "source": [
    "! open UM_60_Y131D172_1_1xxn_11_hydratase_1_0003_0001.pml"
   ]
  },
  {
   "cell_type": "markdown",
   "metadata": {},
   "source": [
    "**Scaffold**: 1xxn\n",
    "\n",
    "**Mutation string**: N35S+V37S+Y65H+Y80A+V82G+P90G+T91Y+R112Q+Q127H+W129G+V131Y+E172D\n",
    "\n",
    "**Mutations**: \n",
    "\n",
    "  1. N35S\n",
    "  1. V37S\n",
    "  1. Y65H\n",
    "  1. Y80A\n",
    "  1. V82G\n",
    "  1. P90G\n",
    "  1. T91Y\n",
    "  1. R112Q\n",
    "  1. Q127H\n",
    "  1. W129G\n",
    "  1. V131Y\n",
    "  1. E172D\n",
    "\n",
    "**Scores**: \n",
    "\n",
    "\n",
    "  + `total_score`: -311.87\n",
    "  + Tyrosine `total_score`: -2.08\n",
    "  + Glu/Asp `total_score`: -0.61\n",
    "  + Ligand `total_score`: -2.08\n",
    "\n",
    "**Notes**: \n",
    "\n",
    " --- \n"
   ]
  },
  {
   "cell_type": "markdown",
   "metadata": {},
   "source": [
    "---\n",
    "\n",
    "### UM_60_Y269D248_1_1d3g_11_hydratase_1_0001_0001"
   ]
  },
  {
   "cell_type": "code",
   "execution_count": null,
   "metadata": {
    "collapsed": true
   },
   "outputs": [],
   "source": [
    "! open UM_60_Y269D248_1_1d3g_11_hydratase_1_0001_0001.pml"
   ]
  },
  {
   "cell_type": "markdown",
   "metadata": {},
   "source": [
    "**Scaffold**: 1d3g\n",
    "\n",
    "**Mutation string**: S88P+N113E+Y115N+F117G+P184G+T186I+K219E+N248D+T249G+G267H+S269Y\n",
    "\n",
    "**Mutations**: \n",
    "\n",
    "  1. S88P\n",
    "  1. N113E\n",
    "  1. Y115N\n",
    "  1. F117G\n",
    "  1. P184G\n",
    "  1. T186I\n",
    "  1. K219E\n",
    "  1. N248D\n",
    "  1. T249G\n",
    "  1. G267H\n",
    "  1. S269Y\n",
    "\n",
    "**Scores**: \n",
    "\n",
    "\n",
    "  + `total_score`: -656.96\n",
    "  + Tyrosine `total_score`: -0.07\n",
    "  + Glu/Asp `total_score`: -0.28\n",
    "  + Ligand `total_score`: -0.07\n",
    "\n",
    "**Notes**: \n",
    "\n",
    " --- \n"
   ]
  },
  {
   "cell_type": "markdown",
   "metadata": {},
   "source": [
    "---\n",
    "\n",
    "### UM_62_Y111E45_1_1upv_11_hydratase_1_0001_0001"
   ]
  },
  {
   "cell_type": "code",
   "execution_count": null,
   "metadata": {
    "collapsed": true
   },
   "outputs": [],
   "source": [
    "! open UM_62_Y111E45_1_1upv_11_hydratase_1_0001_0001.pml"
   ]
  },
  {
   "cell_type": "markdown",
   "metadata": {},
   "source": [
    "**Scaffold**: 1upv\n",
    "\n",
    "**Mutation string**: F42L+L45E+A46W+S49A+T87E+I98S+T99V+F100S+F111Y\n",
    "\n",
    "**Mutations**: \n",
    "\n",
    "  1. F42L\n",
    "  1. L45E\n",
    "  1. A46W\n",
    "  1. S49A\n",
    "  1. T87E\n",
    "  1. I98S\n",
    "  1. T99V\n",
    "  1. F100S\n",
    "  1. F111Y\n",
    "\n",
    "**Scores**: \n",
    "\n",
    "\n",
    "  + `total_score`: 6.05\n",
    "  + Tyrosine `total_score`: -1.87\n",
    "  + Glu/Asp `total_score`: -0.1\n",
    "  + Ligand `total_score`: -1.87\n",
    "\n",
    "**Notes**: \n",
    "\n",
    " --- \n"
   ]
  },
  {
   "cell_type": "markdown",
   "metadata": {},
   "source": [
    "---\n",
    "\n",
    "### UM_66_Y211D85_1_1xpc_11_hydratase_1_0003_0001"
   ]
  },
  {
   "cell_type": "code",
   "execution_count": null,
   "metadata": {
    "collapsed": true
   },
   "outputs": [],
   "source": [
    "! open UM_66_Y211D85_1_1xpc_11_hydratase_1_0003_0001.pml"
   ]
  },
  {
   "cell_type": "markdown",
   "metadata": {},
   "source": [
    "**Scaffold**: 1xpc\n",
    "\n",
    "**Mutation string**: M36L+L40F+M82A+L85D+F98A+M115A+I118L+F119V+L122A+M211Y\n",
    "\n",
    "**Mutations**: \n",
    "\n",
    "  1. M36L\n",
    "  1. L40F\n",
    "  1. M82A\n",
    "  1. L85D\n",
    "  1. F98A\n",
    "  1. M115A\n",
    "  1. I118L\n",
    "  1. F119V\n",
    "  1. L122A\n",
    "  1. M211Y\n",
    "\n",
    "**Scores**: \n",
    "\n",
    "\n",
    "  + `total_score`: -93.42\n",
    "  + Tyrosine `total_score`: -1.04\n",
    "  + Glu/Asp `total_score`: -0.46\n",
    "  + Ligand `total_score`: -1.04\n",
    "\n",
    "**Notes**: \n",
    "\n",
    " --- \n"
   ]
  },
  {
   "cell_type": "markdown",
   "metadata": {},
   "source": [
    "---\n",
    "\n",
    "### UM_67_Y114E73_1_1osh_11_hydratase_1_0003_0001"
   ]
  },
  {
   "cell_type": "code",
   "execution_count": null,
   "metadata": {
    "collapsed": true
   },
   "outputs": [],
   "source": [
    "! open UM_67_Y114E73_1_1osh_11_hydratase_1_0003_0001.pml"
   ]
  },
  {
   "cell_type": "markdown",
   "metadata": {},
   "source": [
    "**Scaffold**: 1osh\n",
    "\n",
    "**Mutation string**: M73E+I97W+I107V+M110A\n",
    "\n",
    "**Mutations**: \n",
    "\n",
    "  1. M73E\n",
    "  1. I97W\n",
    "  1. I107V\n",
    "  1. M110A\n",
    "\n",
    "**Scores**: \n",
    "\n",
    "\n",
    "  + `total_score`: 1.76\n",
    "  + Tyrosine `total_score`: -1.18\n",
    "  + Glu/Asp `total_score`: -0.25\n",
    "  + Ligand `total_score`: -1.18\n",
    "\n",
    "**Notes**: \n",
    "\n",
    " --- \n"
   ]
  },
  {
   "cell_type": "markdown",
   "metadata": {},
   "source": [
    "---\n",
    "\n",
    "### UM_67_Y211E81_1_1xpc_11_hydratase_1_0000_0001"
   ]
  },
  {
   "cell_type": "code",
   "execution_count": null,
   "metadata": {
    "collapsed": true
   },
   "outputs": [],
   "source": [
    "! open UM_67_Y211E81_1_1xpc_11_hydratase_1_0000_0001.pml"
   ]
  },
  {
   "cell_type": "markdown",
   "metadata": {},
   "source": [
    "**Scaffold**: 1xpc\n",
    "\n",
    "**Mutation string**: L40W+L81E+M82A+L85V+F98M+I118L+F119V+M121L+L122A+M211Y\n",
    "\n",
    "**Mutations**: \n",
    "\n",
    "  1. L40W\n",
    "  1. L81E\n",
    "  1. M82A\n",
    "  1. L85V\n",
    "  1. F98M\n",
    "  1. I118L\n",
    "  1. F119V\n",
    "  1. M121L\n",
    "  1. L122A\n",
    "  1. M211Y\n",
    "\n",
    "**Scores**: \n",
    "\n",
    "\n",
    "  + `total_score`: -75.88\n",
    "  + Tyrosine `total_score`: -1.84\n",
    "  + Glu/Asp `total_score`: -0.36\n",
    "  + Ligand `total_score`: -1.84\n",
    "\n",
    "**Notes**: \n",
    "\n",
    " --- \n"
   ]
  },
  {
   "cell_type": "markdown",
   "metadata": {},
   "source": [
    "---\n",
    "\n",
    "### UM_68_Y114E93_1_1osh_11_hydratase_1_0004_0001"
   ]
  },
  {
   "cell_type": "code",
   "execution_count": null,
   "metadata": {
    "collapsed": true
   },
   "outputs": [],
   "source": [
    "! open UM_68_Y114E93_1_1osh_11_hydratase_1_0004_0001.pml"
   ]
  },
  {
   "cell_type": "markdown",
   "metadata": {},
   "source": [
    "**Scaffold**: 1osh\n",
    "\n",
    "**Mutation string**: M35F+H39E+F81V+L93E+I97A+M110A\n",
    "\n",
    "**Mutations**: \n",
    "\n",
    "  1. M35F\n",
    "  1. H39E\n",
    "  1. F81V\n",
    "  1. L93E\n",
    "  1. I97A\n",
    "  1. M110A\n",
    "\n",
    "**Scores**: \n",
    "\n",
    "\n",
    "  + `total_score`: -23.16\n",
    "  + Tyrosine `total_score`: -2.11\n",
    "  + Glu/Asp `total_score`: -0.79\n",
    "  + Ligand `total_score`: -2.11\n",
    "\n",
    "**Notes**: \n",
    "\n",
    " --- \n"
   ]
  },
  {
   "cell_type": "markdown",
   "metadata": {},
   "source": [
    "---\n",
    "\n",
    "### UM_69_Y144D111_1_1cjw_11_hydratase_1_0004_0001"
   ]
  },
  {
   "cell_type": "code",
   "execution_count": null,
   "metadata": {
    "collapsed": true
   },
   "outputs": [],
   "source": [
    "! open UM_69_Y144D111_1_1cjw_11_hydratase_1_0004_0001.pml"
   ]
  },
  {
   "cell_type": "markdown",
   "metadata": {},
   "source": [
    "**Scaffold**: 1cjw\n",
    "\n",
    "**Mutation string**: I65R+H91M+L95G+L111D+Y114A+H117M+F144Y\n",
    "\n",
    "**Mutations**: \n",
    "\n",
    "  1. I65R\n",
    "  1. H91M\n",
    "  1. L95G\n",
    "  1. L111D\n",
    "  1. Y114A\n",
    "  1. H117M\n",
    "  1. F144Y\n",
    "\n",
    "**Scores**: \n",
    "\n",
    "\n",
    "  + `total_score`: -322.52\n",
    "  + Tyrosine `total_score`: -2.92\n",
    "  + Glu/Asp `total_score`: -1.16\n",
    "  + Ligand `total_score`: -2.92\n",
    "\n",
    "**Notes**: \n",
    "\n",
    " --- \n"
   ]
  },
  {
   "cell_type": "markdown",
   "metadata": {},
   "source": [
    "---\n",
    "\n",
    "### UM_69_Y80E7_1_1bvv_11_hydratase_1_0003_0001"
   ]
  },
  {
   "cell_type": "code",
   "execution_count": null,
   "metadata": {
    "collapsed": true
   },
   "outputs": [],
   "source": [
    "! open UM_69_Y80E7_1_1bvv_11_hydratase_1_0003_0001.pml"
   ]
  },
  {
   "cell_type": "markdown",
   "metadata": {},
   "source": [
    "**Scaffold**: 1bvv\n",
    "\n",
    "**Mutation string**: Q7E+N35L+V37A+Y69A+E78N+R112Q+E172I\n",
    "\n",
    "**Mutations**: \n",
    "\n",
    "  1. Q7E\n",
    "  1. N35L\n",
    "  1. V37A\n",
    "  1. Y69A\n",
    "  1. E78N\n",
    "  1. R112Q\n",
    "  1. E172I\n",
    "\n",
    "**Scores**: \n",
    "\n",
    "\n",
    "  + `total_score`: -375.14\n",
    "  + Tyrosine `total_score`: -2.5\n",
    "  + Glu/Asp `total_score`: -0.34\n",
    "  + Ligand `total_score`: -2.5\n",
    "\n",
    "**Notes**: \n",
    "\n",
    " --- \n"
   ]
  },
  {
   "cell_type": "markdown",
   "metadata": {},
   "source": [
    "---\n",
    "\n",
    "### UM_6_Y25E69_1_1j3f_11_hydratase_1_0001_0001"
   ]
  },
  {
   "cell_type": "code",
   "execution_count": null,
   "metadata": {
    "collapsed": true
   },
   "outputs": [],
   "source": [
    "! open UM_6_Y25E69_1_1j3f_11_hydratase_1_0001_0001.pml"
   ]
  },
  {
   "cell_type": "markdown",
   "metadata": {},
   "source": [
    "**Scaffold**: 1j3f\n",
    "\n",
    "**Mutation string**: W15M+H25Y+I29V+V69E+L70A+G72I+L73A+I106A+I110A+N131E+L134A\n",
    "\n",
    "**Mutations**: \n",
    "\n",
    "  1. W15M\n",
    "  1. H25Y\n",
    "  1. I29V\n",
    "  1. V69E\n",
    "  1. L70A\n",
    "  1. G72I\n",
    "  1. L73A\n",
    "  1. I106A\n",
    "  1. I110A\n",
    "  1. N131E\n",
    "  1. L134A\n",
    "\n",
    "**Scores**: \n",
    "\n",
    "\n",
    "  + `total_score`: -340.42\n",
    "  + Tyrosine `total_score`: -1.7\n",
    "  + Glu/Asp `total_score`: -0.24\n",
    "  + Ligand `total_score`: -1.7\n",
    "\n",
    "**Notes**: \n",
    "\n",
    " --- \n"
   ]
  },
  {
   "cell_type": "markdown",
   "metadata": {},
   "source": [
    "---\n",
    "\n",
    "### UM_71_Y153D114_1_1tt8_11_hydratase_1_0000_0001"
   ]
  },
  {
   "cell_type": "code",
   "execution_count": null,
   "metadata": {
    "collapsed": true
   },
   "outputs": [],
   "source": [
    "! open UM_71_Y153D114_1_1tt8_11_hydratase_1_0000_0001.pml"
   ]
  },
  {
   "cell_type": "markdown",
   "metadata": {},
   "source": [
    "**Scaffold**: 1tt8\n",
    "\n",
    "**Mutation string**: E103N+L106Q+L109A+L114D+R116S+F119A+L146W+L151A+L153Y\n",
    "\n",
    "**Mutations**: \n",
    "\n",
    "  1. E103N\n",
    "  1. L106Q\n",
    "  1. L109A\n",
    "  1. L114D\n",
    "  1. R116S\n",
    "  1. F119A\n",
    "  1. L146W\n",
    "  1. L151A\n",
    "  1. L153Y\n",
    "\n",
    "**Scores**: \n",
    "\n",
    "\n",
    "  + `total_score`: -345.8\n",
    "  + Tyrosine `total_score`: -1.62\n",
    "  + Glu/Asp `total_score`: -1.22\n",
    "  + Ligand `total_score`: -1.62\n",
    "\n",
    "**Notes**: \n",
    "\n",
    " --- \n"
   ]
  },
  {
   "cell_type": "markdown",
   "metadata": {},
   "source": [
    "---\n",
    "\n",
    "### UM_74_Y120E42_1_1upv_11_hydratase_1_0002_0001"
   ]
  },
  {
   "cell_type": "code",
   "execution_count": null,
   "metadata": {
    "collapsed": true
   },
   "outputs": [],
   "source": [
    "! open UM_74_Y120E42_1_1upv_11_hydratase_1_0002_0001.pml"
   ]
  },
  {
   "cell_type": "markdown",
   "metadata": {},
   "source": [
    "**Scaffold**: 1upv\n",
    "\n",
    "**Mutation string**: F42E+I80G+L84A+E86R+T87Q+F120Y+S203Y+V205K+H206G\n",
    "\n",
    "**Mutations**: \n",
    "\n",
    "  1. F42E\n",
    "  1. I80G\n",
    "  1. L84A\n",
    "  1. E86R\n",
    "  1. T87Q\n",
    "  1. F120Y\n",
    "  1. S203Y\n",
    "  1. V205K\n",
    "  1. H206G\n",
    "\n",
    "**Scores**: \n",
    "\n",
    "\n",
    "  + `total_score`: -25.36\n",
    "  + Tyrosine `total_score`: -0.69\n",
    "  + Glu/Asp `total_score`: -0.27\n",
    "  + Ligand `total_score`: -0.69\n",
    "\n",
    "**Notes**: \n",
    "\n",
    " --- \n"
   ]
  },
  {
   "cell_type": "markdown",
   "metadata": {},
   "source": [
    "---\n",
    "\n",
    "### UM_74_Y66D39_1_1qv0_11_hydratase_1_0002_0001"
   ]
  },
  {
   "cell_type": "code",
   "execution_count": null,
   "metadata": {
    "collapsed": true
   },
   "outputs": [],
   "source": [
    "! open UM_74_Y66D39_1_1qv0_11_hydratase_1_0002_0001.pml"
   ]
  },
  {
   "cell_type": "markdown",
   "metadata": {},
   "source": [
    "**Scaffold**: 1qv0\n",
    "\n",
    "**Mutation string**: M19A+F22R+L23M+E35Q+I36M+K39D+F66Y\n",
    "\n",
    "**Mutations**: \n",
    "\n",
    "  1. M19A\n",
    "  1. F22R\n",
    "  1. L23M\n",
    "  1. E35Q\n",
    "  1. I36M\n",
    "  1. K39D\n",
    "  1. F66Y\n",
    "\n",
    "**Scores**: \n",
    "\n",
    "\n",
    "  + `total_score`: -403.34\n",
    "  + Tyrosine `total_score`: -0.53\n",
    "  + Glu/Asp `total_score`: -0.9\n",
    "  + Ligand `total_score`: -0.53\n",
    "\n",
    "**Notes**: \n",
    "\n",
    " --- \n"
   ]
  },
  {
   "cell_type": "markdown",
   "metadata": {},
   "source": [
    "---\n",
    "\n",
    "### UM_79_Y104E21_1_1n9l_11_hydratase_1_0000_0001"
   ]
  },
  {
   "cell_type": "code",
   "execution_count": null,
   "metadata": {
    "collapsed": true
   },
   "outputs": [],
   "source": [
    "! open UM_79_Y104E21_1_1n9l_11_hydratase_1_0000_0001.pml"
   ]
  },
  {
   "cell_type": "markdown",
   "metadata": {},
   "source": [
    "**Scaffold**: 1n9l\n",
    "\n",
    "**Mutation string**: V7G+L18A+A21E+V36T+N40P+C41G+I57V+L85T+Q104Y\n",
    "\n",
    "**Mutations**: \n",
    "\n",
    "  1. V7G\n",
    "  1. L18A\n",
    "  1. A21E\n",
    "  1. V36T\n",
    "  1. N40P\n",
    "  1. C41G\n",
    "  1. I57V\n",
    "  1. L85T\n",
    "  1. Q104Y\n",
    "\n",
    "**Scores**: \n",
    "\n",
    "\n",
    "  + `total_score`: -200.24\n",
    "  + Tyrosine `total_score`: -0.47\n",
    "  + Glu/Asp `total_score`: -0.14\n",
    "  + Ligand `total_score`: -0.47\n",
    "\n",
    "**Notes**: \n",
    "\n",
    " --- \n"
   ]
  },
  {
   "cell_type": "markdown",
   "metadata": {},
   "source": [
    "---\n",
    "\n",
    "### UM_79_Y69E93_1_1qv0_11_hydratase_1_0000_0001"
   ]
  },
  {
   "cell_type": "code",
   "execution_count": null,
   "metadata": {
    "collapsed": true
   },
   "outputs": [],
   "source": [
    "! open UM_79_Y69E93_1_1qv0_11_hydratase_1_0000_0001.pml"
   ]
  },
  {
   "cell_type": "markdown",
   "metadata": {},
   "source": [
    "**Scaffold**: 1qv0\n",
    "\n",
    "**Mutation string**: F65L+C69Y+L89G+I105G+G109A+M161Y+H165A+Y170N\n",
    "\n",
    "**Mutations**: \n",
    "\n",
    "  1. F65L\n",
    "  1. C69Y\n",
    "  1. L89G\n",
    "  1. I105G\n",
    "  1. G109A\n",
    "  1. M161Y\n",
    "  1. H165A\n",
    "  1. Y170N\n",
    "\n",
    "**Scores**: \n",
    "\n",
    "\n",
    "  + `total_score`: -388.46\n",
    "  + Tyrosine `total_score`: -2.09\n",
    "  + Glu/Asp `total_score`: -0.01\n",
    "  + Ligand `total_score`: -2.09\n",
    "\n",
    "**Notes**: \n",
    "\n",
    " --- \n"
   ]
  },
  {
   "cell_type": "markdown",
   "metadata": {},
   "source": [
    "---\n",
    "\n",
    "### UM_83_Y109E62_1_1nwz_11_hydratase_1_0004_0001"
   ]
  },
  {
   "cell_type": "code",
   "execution_count": null,
   "metadata": {
    "collapsed": true
   },
   "outputs": [],
   "source": [
    "! open UM_83_Y109E62_1_1nwz_11_hydratase_1_0004_0001.pml"
   ]
  },
  {
   "cell_type": "markdown",
   "metadata": {},
   "source": [
    "**Scaffold**: 1nwz\n",
    "\n",
    "**Mutation string**: F62E+A67D+C69N+T70A+F75A+F92S+Y94G+T95V+F96M+V107T+M109Y+V120A\n",
    "\n",
    "**Mutations**: \n",
    "\n",
    "  1. F62E\n",
    "  1. A67D\n",
    "  1. C69N\n",
    "  1. T70A\n",
    "  1. F75A\n",
    "  1. F92S\n",
    "  1. Y94G\n",
    "  1. T95V\n",
    "  1. F96M\n",
    "  1. V107T\n",
    "  1. M109Y\n",
    "  1. V120A\n",
    "\n",
    "**Scores**: \n",
    "\n",
    "\n",
    "  + `total_score`: -252.82\n",
    "  + Tyrosine `total_score`: -2.35\n",
    "  + Glu/Asp `total_score`: -0.74\n",
    "  + Ligand `total_score`: -2.35\n",
    "\n",
    "**Notes**: \n",
    "\n",
    " --- \n"
   ]
  },
  {
   "cell_type": "markdown",
   "metadata": {},
   "source": [
    "---\n",
    "\n",
    "### UM_84_Y202D87_1_1upv_11_hydratase_1_0000_0001"
   ]
  },
  {
   "cell_type": "code",
   "execution_count": null,
   "metadata": {
    "collapsed": true
   },
   "outputs": [],
   "source": [
    "! open UM_84_Y202D87_1_1upv_11_hydratase_1_0000_0001.pml"
   ]
  },
  {
   "cell_type": "markdown",
   "metadata": {},
   "source": [
    "**Scaffold**: 1upv\n",
    "\n",
    "**Mutation string**: L84T+T87D+Y106H+F111A+L116Y+F120T+P123G+I124G+S128A+L202Y+H206W\n",
    "\n",
    "**Mutations**: \n",
    "\n",
    "  1. L84T\n",
    "  1. T87D\n",
    "  1. Y106H\n",
    "  1. F111A\n",
    "  1. L116Y\n",
    "  1. F120T\n",
    "  1. P123G\n",
    "  1. I124G\n",
    "  1. S128A\n",
    "  1. L202Y\n",
    "  1. H206W\n",
    "\n",
    "**Scores**: \n",
    "\n",
    "\n",
    "  + `total_score`: 24.92\n",
    "  + Tyrosine `total_score`: -0.04\n",
    "  + Glu/Asp `total_score`: -0.44\n",
    "  + Ligand `total_score`: -0.04\n",
    "\n",
    "**Notes**: \n",
    "\n",
    " --- \n"
   ]
  },
  {
   "cell_type": "markdown",
   "metadata": {},
   "source": [
    "---\n",
    "\n",
    "### UM_88_Y202D83_1_1upv_11_hydratase_1_0000_0001"
   ]
  },
  {
   "cell_type": "code",
   "execution_count": null,
   "metadata": {
    "collapsed": true
   },
   "outputs": [],
   "source": [
    "! open UM_88_Y202D83_1_1upv_11_hydratase_1_0000_0001.pml"
   ]
  },
  {
   "cell_type": "markdown",
   "metadata": {},
   "source": [
    "**Scaffold**: 1upv\n",
    "\n",
    "**Mutation string**: F42L+L45N+I80A+M83D+L84A+E86R+T87R+F120T+I124L+L202Y\n",
    "\n",
    "**Mutations**: \n",
    "\n",
    "  1. F42L\n",
    "  1. L45N\n",
    "  1. I80A\n",
    "  1. M83D\n",
    "  1. L84A\n",
    "  1. E86R\n",
    "  1. T87R\n",
    "  1. F120T\n",
    "  1. I124L\n",
    "  1. L202Y\n",
    "\n",
    "**Scores**: \n",
    "\n",
    "\n",
    "  + `total_score`: 4.4\n",
    "  + Tyrosine `total_score`: -1.51\n",
    "  + Glu/Asp `total_score`: -0.04\n",
    "  + Ligand `total_score`: -1.51\n",
    "\n",
    "**Notes**: \n",
    "\n",
    " --- \n"
   ]
  },
  {
   "cell_type": "markdown",
   "metadata": {},
   "source": [
    "---\n",
    "\n",
    "### UM_89_Y106E50_1_1sjw_11_hydratase_1_0002_0001"
   ]
  },
  {
   "cell_type": "code",
   "execution_count": null,
   "metadata": {
    "collapsed": true
   },
   "outputs": [],
   "source": [
    "! open UM_89_Y106E50_1_1sjw_11_hydratase_1_0002_0001.pml"
   ]
  },
  {
   "cell_type": "markdown",
   "metadata": {},
   "source": [
    "**Scaffold**: 1sjw\n",
    "\n",
    "**Mutation string**: L50E+V54A+T57V+F58T+L64W+L82T+G102A+Q104A+H106Y+D120G+F124M+T127I\n",
    "\n",
    "**Mutations**: \n",
    "\n",
    "  1. L50E\n",
    "  1. V54A\n",
    "  1. T57V\n",
    "  1. F58T\n",
    "  1. L64W\n",
    "  1. L82T\n",
    "  1. G102A\n",
    "  1. Q104A\n",
    "  1. H106Y\n",
    "  1. D120G\n",
    "  1. F124M\n",
    "  1. T127I\n",
    "\n",
    "**Scores**: \n",
    "\n",
    "\n",
    "  + `total_score`: -272.47\n",
    "  + Tyrosine `total_score`: -2.45\n",
    "  + Glu/Asp `total_score`: -0.42\n",
    "  + Ligand `total_score`: -2.45\n",
    "\n",
    "**Notes**: \n",
    "\n",
    " --- \n"
   ]
  },
  {
   "cell_type": "markdown",
   "metadata": {},
   "source": [
    "---\n",
    "\n",
    "### UM_90_Y106E54_1_1sjw_11_hydratase_1_0000_0001"
   ]
  },
  {
   "cell_type": "code",
   "execution_count": null,
   "metadata": {
    "collapsed": true
   },
   "outputs": [],
   "source": [
    "! open UM_90_Y106E54_1_1sjw_11_hydratase_1_0000_0001.pml"
   ]
  },
  {
   "cell_type": "markdown",
   "metadata": {},
   "source": [
    "**Scaffold**: 1sjw\n",
    "\n",
    "**Mutation string**: L50E+V54E+T57V+F58T+L82G+E103P+Q104A+H106Y+D120K\n",
    "\n",
    "**Mutations**: \n",
    "\n",
    "  1. L50E\n",
    "  1. V54E\n",
    "  1. T57V\n",
    "  1. F58T\n",
    "  1. L82G\n",
    "  1. E103P\n",
    "  1. Q104A\n",
    "  1. H106Y\n",
    "  1. D120K\n",
    "\n",
    "**Scores**: \n",
    "\n",
    "\n",
    "  + `total_score`: -262.38\n",
    "  + Tyrosine `total_score`: -3.11\n",
    "  + Glu/Asp `total_score`: -0.23\n",
    "  + Ligand `total_score`: -3.11\n",
    "\n",
    "**Notes**: \n",
    "\n",
    " --- \n"
   ]
  },
  {
   "cell_type": "markdown",
   "metadata": {},
   "source": [
    "---\n",
    "\n",
    "### UM_9_Y18E100_1_1n9l_11_hydratase_1_0004_0001"
   ]
  },
  {
   "cell_type": "code",
   "execution_count": null,
   "metadata": {
    "collapsed": true
   },
   "outputs": [],
   "source": [
    "! open UM_9_Y18E100_1_1n9l_11_hydratase_1_0004_0001.pml"
   ]
  },
  {
   "cell_type": "markdown",
   "metadata": {},
   "source": [
    "**Scaffold**: 1n9l\n",
    "\n",
    "**Mutation string**: L18Y+C41G+Q45T+I61Q+V69S+L71V+N73L+N83A+L85V+V87G+F100E+Q104V\n",
    "\n",
    "**Mutations**: \n",
    "\n",
    "  1. L18Y\n",
    "  1. C41G\n",
    "  1. Q45T\n",
    "  1. I61Q\n",
    "  1. V69S\n",
    "  1. L71V\n",
    "  1. N73L\n",
    "  1. N83A\n",
    "  1. L85V\n",
    "  1. V87G\n",
    "  1. F100E\n",
    "  1. Q104V\n",
    "\n",
    "**Scores**: \n",
    "\n",
    "\n",
    "  + `total_score`: -220.72\n",
    "  + Tyrosine `total_score`: -0.46\n",
    "  + Glu/Asp `total_score`: -0.06\n",
    "  + Ligand `total_score`: -0.46\n",
    "\n",
    "**Notes**: \n",
    "\n",
    " --- \n"
   ]
  },
  {
   "cell_type": "markdown",
   "metadata": {},
   "source": [
    "---\n",
    "\n",
    "### UM_9_Y44E19_1_1e4i_11_hydratase_1_0002_0001"
   ]
  },
  {
   "cell_type": "code",
   "execution_count": null,
   "metadata": {
    "collapsed": true
   },
   "outputs": [],
   "source": [
    "! open UM_9_Y44E19_1_1e4i_11_hydratase_1_0002_0001.pml"
   ]
  },
  {
   "cell_type": "markdown",
   "metadata": {},
   "source": [
    "**Scaffold**: 1e4i\n",
    "\n",
    "**Mutation string**: Y18G+Q19E+W34S+F37G+V44Y+H120D+W121G+C168A+S173A+H179L+F403L+E404D+W405G\n",
    "\n",
    "**Mutations**: \n",
    "\n",
    "  1. Y18G\n",
    "  1. Q19E\n",
    "  1. W34S\n",
    "  1. F37G\n",
    "  1. V44Y\n",
    "  1. H120D\n",
    "  1. W121G\n",
    "  1. C168A\n",
    "  1. S173A\n",
    "  1. H179L\n",
    "  1. F403L\n",
    "  1. E404D\n",
    "  1. W405G\n",
    "\n",
    "**Scores**: \n",
    "\n",
    "\n",
    "  + `total_score`: -464.7\n",
    "  + Tyrosine `total_score`: -0.27\n",
    "  + Glu/Asp `total_score`: -0.39\n",
    "  + Ligand `total_score`: -0.27\n",
    "\n",
    "**Notes**: \n",
    "\n",
    " --- \n"
   ]
  }
 ],
 "metadata": {
  "kernelspec": {
   "display_name": "Python 2",
   "language": "python",
   "name": "python2"
  },
  "language_info": {
   "codemirror_mode": {
    "name": "ipython",
    "version": 2
   },
   "file_extension": ".py",
   "mimetype": "text/x-python",
   "name": "python",
   "nbconvert_exporter": "python",
   "pygments_lexer": "ipython2",
   "version": "2.7.11"
  }
 },
 "nbformat": 4,
 "nbformat_minor": 0
}
