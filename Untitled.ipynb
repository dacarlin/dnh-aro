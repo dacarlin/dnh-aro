{
 "cells": [
  {
   "cell_type": "markdown",
   "metadata": {},
   "source": [
    "# *De novo* design of an allyl hydratase\n",
    "\n",
    "In this repo, we're designing for a large, aromatic substrate, 2-allylphenol. If we can show that we can get activity on that substrate (and if it's soluble), we'll move on to ethylene. "
   ]
  },
  {
   "cell_type": "markdown",
   "metadata": {},
   "source": [
    "## Input file prep \n",
    "\n",
    "We prepped our scaffold set, wrote constraint file, and generated ligand params file. \n",
    "\n",
    "## Match the theozyme into our scaffold set \n",
    "\n",
    "### Prep input files "
   ]
  },
  {
   "cell_type": "code",
   "execution_count": null,
   "metadata": {
    "collapsed": false
   },
   "outputs": [],
   "source": [
    "# make a list of input structures \n",
    "from glob import glob \n",
    "runs = [ '-s {} -match:scaffold_active_site_residues {}'.format( s[6:], s[6:].replace( 'pdb', 'pos' ) ) for s in glob( 'match/scaffold_set/*pdb' ) ] \n",
    "with open( 'match/list', 'w' ) as fn:\n",
    "    fn.write( '\\n'.join( runs ) )"
   ]
  },
  {
   "cell_type": "markdown",
   "metadata": {},
   "source": [
    "### RosettaMatch run on scaffold set (207 proteins)"
   ]
  },
  {
   "cell_type": "code",
   "execution_count": null,
   "metadata": {
    "collapsed": false
   },
   "outputs": [],
   "source": [
    "%%bash \n",
    "\n",
    "#cat out_of_mem_list > match/list\n",
    "runs=$( wc -l match/list | cut -d\" \" -f1 )\n",
    "echo $runs runs\n",
    "\n",
    "cd match && sbatch --array=1-$runs sub.sh"
   ]
  },
  {
   "cell_type": "markdown",
   "metadata": {},
   "source": [
    "### Match results \n",
    "\n",
    "Using the classic match algorithm for both catalytic residues"
   ]
  },
  {
   "cell_type": "code",
   "execution_count": null,
   "metadata": {
    "collapsed": false
   },
   "outputs": [],
   "source": [
    "# the ones that still fail at 16 GB\n",
    "# ! grep -i memory match/logs/slurm-741482_{1..40}.err | cut -d: -f1 | sort | uniq "
   ]
  },
  {
   "cell_type": "markdown",
   "metadata": {},
   "source": [
    "Some of the jobs crash with only 8 GB of RAM, so we will collect those and run them again, bumping up the RAM per core to 16 GB "
   ]
  },
  {
   "cell_type": "code",
   "execution_count": null,
   "metadata": {
    "collapsed": false,
    "scrolled": false
   },
   "outputs": [],
   "source": [
    "#! ls -1 match/UM*pdb | wc -l #number of matches \n",
    "# ! squeue -u carlin | grep match | wc -l \n",
    "#! grep CANCELLED match/logs/*740932* | grep . | wc -l "
   ]
  },
  {
   "cell_type": "code",
   "execution_count": null,
   "metadata": {
    "collapsed": false
   },
   "outputs": [],
   "source": [
    "#! grep -i memory match/logs/slurm-740932_{1..206}.err | cut -d: -f1 | sort | uniq > out_of_mem \n",
    "#! ( for i in \"$( cat out_of_mem )\"; do head -2 ${i/err/out} | tail -n 1 | cut -d@ -f2 | cut -c 7-; done ) > out_of_mem_list"
   ]
  },
  {
   "cell_type": "markdown",
   "metadata": {},
   "source": [
    "## Submit matches to enzyme design \n",
    "\n",
    "Now that we have matched the active site residues and the ligand into various positions in the protein backbones of our scaffold set, we'll use an enzyme design protocol to optimize the ligand placement and shape complementarity with the protein "
   ]
  },
  {
   "cell_type": "code",
   "execution_count": null,
   "metadata": {
    "collapsed": false
   },
   "outputs": [],
   "source": [
    "from glob import glob\n",
    "nstruct = 5 \n",
    "\n",
    "runs = [ \n",
    "    '-s ../{} -suffix _{:04d}\\n'.format( i, j ) \n",
    "    for j in range( nstruct ) \n",
    "    for i in glob( 'match/UM*pdb' ) \n",
    "]\n",
    "\n",
    "with open( 'enzdes/list', 'w' ) as fn:\n",
    "    fn.write( ''.join( runs ) )"
   ]
  },
  {
   "cell_type": "code",
   "execution_count": null,
   "metadata": {
    "collapsed": false
   },
   "outputs": [],
   "source": [
    "! wc -l enzdes/list\n",
    "! tail enzdes/list"
   ]
  },
  {
   "cell_type": "code",
   "execution_count": null,
   "metadata": {
    "collapsed": false
   },
   "outputs": [],
   "source": [
    "%%bash\n",
    "\n",
    "#rm enzdes/logs/* \n",
    "cd enzdes && echo sbatch -p gc128 --array=1-$( wc -l list | cut -d\" \" -f1 ) sub.sh \n",
    "\n",
    "# now the rest \n",
    "# cd enzdes && sbatch --array=101-$( wc -l list | cut -d\" \" -f1 ) sub.sh \n",
    "\n",
    "# now the real\n",
    "# cd enzdes && sbatch --array=1-$( wc -l list | cut -d\" \" -f1 ) sub.sh "
   ]
  },
  {
   "cell_type": "code",
   "execution_count": null,
   "metadata": {
    "collapsed": false,
    "scrolled": true
   },
   "outputs": [],
   "source": [
    "! squeue -u carlin "
   ]
  },
  {
   "cell_type": "code",
   "execution_count": null,
   "metadata": {
    "collapsed": false
   },
   "outputs": [],
   "source": [
    "! ls enzdes/out/*sc "
   ]
  },
  {
   "cell_type": "markdown",
   "metadata": {},
   "source": [
    "## Results \n",
    "\n",
    "### Filter the RosettaScripts enzyme design output \n",
    "\n",
    "Let's start by looking at histograms of the `total_score` of each of the catalytic residues. Because we're looking at a big ligand, let's also check out the interface energy score. "
   ]
  },
  {
   "cell_type": "code",
   "execution_count": 24,
   "metadata": {
    "collapsed": false
   },
   "outputs": [
    {
     "name": "stdout",
     "output_type": "stream",
     "text": [
      "receiving file list ... done\n",
      "score_0000.sc\n",
      "score_0001.sc\n",
      "score_0003.sc\n",
      "score_0004.sc\n",
      "score_0005.sc\n",
      "score_0006.sc\n",
      "\n",
      "sent 152 bytes  received 6156603 bytes  1119410.00 bytes/sec\n",
      "total size is 42425740  speedup is 6.89\n"
     ]
    }
   ],
   "source": [
    "# download scorefiles from cluster \n",
    "! rsync -avz $ep:/share/work/alex/dnh-aro/enzdes/out/*sc results/"
   ]
  },
  {
   "cell_type": "code",
   "execution_count": 25,
   "metadata": {
    "collapsed": false
   },
   "outputs": [
    {
     "name": "stdout",
     "output_type": "stream",
     "text": [
      "56336 enzdes out\n",
      "175 scaffolds\n",
      "9842 unique matches\n"
     ]
    }
   ],
   "source": [
    "%matplotlib inline\n",
    "import matplotlib.pyplot as plt\n",
    "import pandas\n",
    "from glob import glob \n",
    "\n",
    "dfs = [ pandas.read_csv( i, sep='\\s+' ) for i in glob( 'results/*sc' ) ]\n",
    "df = pandas.concat( dfs ).dropna()\n",
    "df['scaffold'] = df.description.str.split( '_' ).str.get( 4 ) \n",
    "df['match'] = df.description.str.split( '_11' ).str[0]\n",
    "\n",
    "print len( df ), 'enzdes out'\n",
    "print len( df.scaffold.unique() ), 'scaffolds'\n",
    "print len( df.match.unique() ), 'unique matches'"
   ]
  },
  {
   "cell_type": "code",
   "execution_count": 15,
   "metadata": {
    "collapsed": false
   },
   "outputs": [
    {
     "name": "stdout",
     "output_type": "stream",
     "text": [
      "11851 lowest from match groups (should equal number of matches)\n"
     ]
    }
   ],
   "source": [
    "# get lowest 1 of each nstruct \n",
    "\n",
    "def lowest( df ):\n",
    "    return df.sort_values( by='total_score' ).head( 1 )\n",
    "\n",
    "low1 = df.groupby( 'match' ).apply( lowest )\n",
    "print len( low1 ), 'lowest from match groups (should equal number of matches)'"
   ]
  },
  {
   "cell_type": "code",
   "execution_count": 16,
   "metadata": {
    "collapsed": false
   },
   "outputs": [
    {
     "name": "stdout",
     "output_type": "stream",
     "text": [
      "167 structures filtered of 11851 lowest energy\n"
     ]
    }
   ],
   "source": [
    "filtered = low1[ \n",
    "    ( low1.all_cst < 0.05 ) & \n",
    "    ( low1.SR_1_total_score < -1 ) & # Tyr\n",
    "    ( low1.SR_2_total_score < -1 ) & # Glu/Asp\n",
    "    ( low1.SR_3_total_score < -3 ) & # 2-allylphenol \n",
    "    ( low1.SR_3_dsasa_1_2 > 0.7 ) # ligand burial \n",
    "]\n",
    "\n",
    "print len( filtered ), 'structures filtered of', len( low1 ), 'lowest energy'\n",
    "filtered.to_csv( 'results/filtered.csv' )\n",
    "\n",
    "# I went through all 167 and selected the following 5 \n",
    "# UM_59_Y131D172_1_1xxn_11_hydratase_1_0004_0001\n",
    "# UM_61_Y80E7_1_1bvv_11_hydratase_1_0004_0001\n",
    "# UM_76_Y104E21_1_1n9l_11_hydratase_1_0003_0001\n",
    "# UM_22_Y101D48_1_1ls6_11_hydratase_1_0003_0001\n",
    "# UM_33_Y80E7_1_1xxn_11_hydratase_1_0003_0001"
   ]
  },
  {
   "cell_type": "code",
   "execution_count": 17,
   "metadata": {
    "collapsed": false,
    "scrolled": false
   },
   "outputs": [],
   "source": [
    "# df.hist( linewidth=0, color='k', figsize=( 12, 120 ), bins=50, layout=(41,1) )"
   ]
  },
  {
   "cell_type": "code",
   "execution_count": 22,
   "metadata": {
    "collapsed": false
   },
   "outputs": [
    {
     "data": {
      "text/plain": [
       "<matplotlib.axes._subplots.AxesSubplot at 0x114a30cd0>"
      ]
     },
     "execution_count": 22,
     "metadata": {},
     "output_type": "execute_result"
    },
    {
     "data": {
      "image/png": "[encoded data removed]",
      "text/plain": [
       "<matplotlib.figure.Figure at 0x1149d48d0>"
      ]
     },
     "metadata": {},
     "output_type": "display_data"
    }
   ],
   "source": [
    "df.all_cst.hist( linewidth=0, color='k', bins=25, range=(0,.5) )"
   ]
  },
  {
   "cell_type": "markdown",
   "metadata": {},
   "source": [
    "### Pull down the filtered structures for looking at "
   ]
  },
  {
   "cell_type": "code",
   "execution_count": 26,
   "metadata": {
    "collapsed": false
   },
   "outputs": [
    {
     "name": "stdout",
     "output_type": "stream",
     "text": [
      "receiving file list ... rsync: link_stat \"/share/work/alex/dnh-aro/enzdes/out/UM_105_Y250D161_1_2uvh_11_hydratase_1_0_0001.pdb\" failed: No such file or directory (2)\n",
      "rsync: link_stat \"/share/work/alex/dnh-aro/enzdes/out/UM_18_Y74D60_1_1mve_11_hydratase_1_4_0001.pdb\" failed: No such file or directory (2)\n",
      "rsync: link_stat \"/share/work/alex/dnh-aro/enzdes/out/UM_19_Y82E233_1_1a53_11_hydratase_1_4_0001.pdb\" failed: No such file or directory (2)\n",
      "rsync: link_stat \"/share/work/alex/dnh-aro/enzdes/out/UM_35_Y216D227_1_1mbt_11_hydratase_1_0_0001.pdb\" failed: No such file or directory (2)\n",
      "done\n",
      "dnh-aro/\n",
      "dnh-aro/enzdes/\n",
      "dnh-aro/enzdes/out/\n",
      "dnh-aro/enzdes/out/UM_100_Y260E213_1_1fp2_11_hydratase_1_0004_0001.pdb\n",
      "dnh-aro/enzdes/out/UM_104_Y106E50_1_1sjw_11_hydratase_1_0004_0001.pdb\n",
      "dnh-aro/enzdes/out/UM_104_Y176D91_1_3B5L_11_hydratase_1_0001_0001.pdb\n",
      "dnh-aro/enzdes/out/UM_105_Y106E54_1_1sjw_11_hydratase_1_0003_0001.pdb\n",
      "dnh-aro/enzdes/out/UM_107_Y155E194_1_1r5l_11_hydratase_1_0003_0001.pdb\n",
      "dnh-aro/enzdes/out/UM_10_Y157E144_1_1fp2_11_hydratase_1_0003_0001.pdb\n",
      "dnh-aro/enzdes/out/UM_10_Y190D209_1_1cgz_11_hydratase_1_0003_0001.pdb\n",
      "dnh-aro/enzdes/out/UM_10_Y44E19_1_1e4i_11_hydratase_1_0001_0001.pdb\n",
      "dnh-aro/enzdes/out/UM_10_Y74D114_1_1tt8_11_hydratase_1_0001_0001.pdb\n",
      "dnh-aro/enzdes/out/UM_10_Y8E85_1_1tuv_11_hydratase_1_0002_0001.pdb\n",
      "dnh-aro/enzdes/out/UM_121_Y163E63_1_1r5l_11_hydratase_1_0004_0001.pdb\n",
      "dnh-aro/enzdes/out/UM_124_Y145D102_1_1j3f_11_hydratase_1_0002_0001.pdb\n",
      "dnh-aro/enzdes/out/UM_12_Y36E85_1_1zly_11_hydratase_1_0000_0001.pdb\n",
      "dnh-aro/enzdes/out/UM_12_Y42E206_1_1upv_11_hydratase_1_0003_0001.pdb\n",
      "dnh-aro/enzdes/out/UM_131_Y124E54_1_1sjw_11_hydratase_1_0003_0001.pdb\n",
      "dnh-aro/enzdes/out/UM_136_Y367E66_1_2uvh_11_hydratase_1_0003_0001.pdb\n",
      "dnh-aro/enzdes/out/UM_13_Y102D136_1_1ghp_11_hydratase_1_0000_0001.pdb\n",
      "dnh-aro/enzdes/out/UM_13_Y159D37_1_1ebg_11_hydratase_1_0001_0001.pdb\n",
      "dnh-aro/enzdes/out/UM_13_Y38D122_1_1o97_11_hydratase_1_0003_0001.pdb\n",
      "dnh-aro/enzdes/out/UM_13_Y57D100_1_1nlr_11_hydratase_1_0002_0001.pdb\n",
      "dnh-aro/enzdes/out/UM_140_Y136E198_1_1r5l_11_hydratase_1_0003_0001.pdb\n",
      "dnh-aro/enzdes/out/UM_14_Y82E183_1_1lbl_11_hydratase_1_0000_0001.pdb\n",
      "dnh-aro/enzdes/out/UM_152_Y185E179_1_1r5l_11_hydratase_1_0004_0001.pdb\n",
      "dnh-aro/enzdes/out/UM_15_Y19E129_1_1qv0_11_hydratase_1_0000_0001.pdb\n",
      "dnh-aro/enzdes/out/UM_16_Y114D141_1_1hz4_11_hydratase_1_0001_0001.pdb\n",
      "dnh-aro/enzdes/out/UM_16_Y19E52_1_1oho_11_hydratase_1_0002_0001.pdb\n",
      "dnh-aro/enzdes/out/UM_172_Y165D112_1_1qv0_11_hydratase_1_0002_0001.pdb\n",
      "dnh-aro/enzdes/out/UM_17_Y243D198_1_2FP9_11_hydratase_1_0003_0001.pdb\n",
      "dnh-aro/enzdes/out/UM_17_Y37D79_1_1ukr_11_hydratase_1_0003_0001.pdb\n",
      "dnh-aro/enzdes/out/UM_17_Y89E115_1_1r5l_11_hydratase_1_0002_0001.pdb\n",
      "dnh-aro/enzdes/out/UM_18_Y82E183_1_1a53_11_hydratase_1_0000_0001.pdb\n",
      "dnh-aro/enzdes/out/UM_19_Y19D86_1_1oho_11_hydratase_1_0003_0001.pdb\n",
      "dnh-aro/enzdes/out/UM_19_Y24E81_1_1tuv_11_hydratase_1_0002_0001.pdb\n",
      "dnh-aro/enzdes/out/UM_1_Y21D180_1_2ayh_11_hydratase_1_0002_0001.pdb\n",
      "dnh-aro/enzdes/out/UM_1_Y23D113_1_1d3g_11_hydratase_1_0005_0001.pdb\n",
      "dnh-aro/enzdes/out/UM_1_Y27E253_1_1p4c_11_hydratase_1_0003_0001.pdb\n",
      "dnh-aro/enzdes/out/UM_1_Y9D127_1_1zip_11_hydratase_1_0003_0001.pdb\n",
      "dnh-aro/enzdes/out/UM_20_Y29E45_1_1n9l_11_hydratase_1_0001_0001.pdb\n",
      "dnh-aro/enzdes/out/UM_20_Y97D26_1_1oh4_11_hydratase_1_0003_0001.pdb\n",
      "dnh-aro/enzdes/out/UM_21_Y129D89_1_1gny_11_hydratase_1_0003_0001.pdb\n",
      "dnh-aro/enzdes/out/UM_22_Y101D48_1_1ls6_11_hydratase_1_0003_0001.pdb\n",
      "dnh-aro/enzdes/out/UM_22_Y30D34_1_1sjw_11_hydratase_1_0004_0001.pdb\n",
      "dnh-aro/enzdes/out/UM_22_Y64D58_1_1aur_11_hydratase_1_0004_0001.pdb\n",
      "dnh-aro/enzdes/out/UM_22_Y74D60_1_1mve_11_hydratase_1_0002_0001.pdb\n",
      "dnh-aro/enzdes/out/UM_23_Y169D247_1_1fp2_11_hydratase_1_0003_0001.pdb\n",
      "dnh-aro/enzdes/out/UM_23_Y72D41_1_1gu3_11_hydratase_1_0004_0001.pdb\n",
      "dnh-aro/enzdes/out/UM_23_Y82E233_1_1a53_11_hydratase_1_0003_0001.pdb\n",
      "dnh-aro/enzdes/out/UM_24_Y39D80_1_1osh_11_hydratase_1_0002_0001.pdb\n",
      "dnh-aro/enzdes/out/UM_25_Y102E26_1_1d3g_11_hydratase_1_0004_0001.pdb\n",
      "dnh-aro/enzdes/out/UM_25_Y81E139_1_1f5j_11_hydratase_1_0002_0001.pdb\n",
      "dnh-aro/enzdes/out/UM_26_Y44D31_1_1n9l_11_hydratase_1_0003_0001.pdb\n",
      "dnh-aro/enzdes/out/UM_27_Y27D59_1_1oho_11_hydratase_1_0001_0001.pdb\n",
      "dnh-aro/enzdes/out/UM_27_Y40E65_1_1j3f_11_hydratase_1_0000_0001.pdb\n",
      "dnh-aro/enzdes/out/UM_27_Y83E128_1_1f5j_11_hydratase_1_0004_0001.pdb\n",
      "dnh-aro/enzdes/out/UM_28_Y220D81_1_1o17_11_hydratase_1_0003_0001.pdb\n",
      "dnh-aro/enzdes/out/UM_28_Y40E30_1_1j3f_11_hydratase_1_0002_0001.pdb\n",
      "dnh-aro/enzdes/out/UM_28_Y83D89_1_1TUX_11_hydratase_1_0003_0001.pdb\n",
      "dnh-aro/enzdes/out/UM_29_Y78E135_1_1m4w_11_hydratase_1_0001_0001.pdb\n",
      "dnh-aro/enzdes/out/UM_29_Y86D28_1_1mac_11_hydratase_1_0003_0001.pdb\n",
      "dnh-aro/enzdes/out/UM_2_Y6D122_1_1o97_11_hydratase_1_0002_0001.pdb\n",
      "dnh-aro/enzdes/out/UM_31_Y88E233_1_3B5V_11_hydratase_1_0003_0001.pdb\n",
      "dnh-aro/enzdes/out/UM_33_Y102D87_1_1ikt_11_hydratase_1_0004_0001.pdb\n",
      "dnh-aro/enzdes/out/UM_33_Y232D204_1_1pzp_11_hydratase_1_0002_0001.pdb\n",
      "dnh-aro/enzdes/out/UM_33_Y51E128_1_1ILW_11_hydratase_1_0003_0001.pdb\n",
      "dnh-aro/enzdes/out/UM_33_Y79E6_1_1ukr_11_hydratase_1_0003_0001.pdb\n",
      "dnh-aro/enzdes/out/UM_33_Y80E7_1_1xxn_11_hydratase_1_0003_0001.pdb\n",
      "dnh-aro/enzdes/out/UM_34_Y111D135_1_1cjw_11_hydratase_1_0003_0001.pdb\n",
      "dnh-aro/enzdes/out/UM_35_Y134D23_1_1gui_11_hydratase_1_0001_0001.pdb\n",
      "dnh-aro/enzdes/out/UM_35_Y184E326_1_1hz4_11_hydratase_1_0002_0001.pdb\n",
      "dnh-aro/enzdes/out/UM_35_Y69D50_1_1nwz_11_hydratase_1_0002_0001.pdb\n",
      "dnh-aro/enzdes/out/UM_36_Y100E151_1_1r5l_11_hydratase_1_0002_0001.pdb\n",
      "dnh-aro/enzdes/out/UM_38_Y71D57_1_1zm1_11_hydratase_1_0004_0001.pdb\n",
      "dnh-aro/enzdes/out/UM_39_Y115D144_1_1cjw_11_hydratase_1_0001_0001.pdb\n",
      "dnh-aro/enzdes/out/UM_40_Y111D87_1_1igs_11_hydratase_1_0004_0001.pdb\n",
      "dnh-aro/enzdes/out/UM_41_Y144D67_1_1vyr_11_hydratase_1_0003_0001.pdb\n",
      "dnh-aro/enzdes/out/UM_41_Y77E67_1_1re8_11_hydratase_1_0003_0001.pdb\n",
      "dnh-aro/enzdes/out/UM_41_Y84D23_1_1aur_11_hydratase_1_0002_0001.pdb\n",
      "dnh-aro/enzdes/out/UM_42_Y368E63_1_1N1Y_11_hydratase_1_0001_0001.pdb\n",
      "dnh-aro/enzdes/out/UM_42_Y37E59_1_1oho_11_hydratase_1_0003_0001.pdb\n",
      "dnh-aro/enzdes/out/UM_43_Y138E163_1_1zip_11_hydratase_1_0004_0001.pdb\n",
      "dnh-aro/enzdes/out/UM_43_Y78E211_1_1xpc_11_hydratase_1_0002_0001.pdb\n",
      "dnh-aro/enzdes/out/UM_43_Y82E139_1_3B5L_11_hydratase_1_0001_0001.pdb\n",
      "dnh-aro/enzdes/out/UM_44_Y105E24_1_1mac_11_hydratase_1_0001_0001.pdb\n",
      "dnh-aro/enzdes/out/UM_44_Y138D124_1_1zip_11_hydratase_1_0002_0001.pdb\n",
      "dnh-aro/enzdes/out/UM_44_Y146E230_1_1abe_11_hydratase_1_0003_0001.pdb\n",
      "dnh-aro/enzdes/out/UM_44_Y61D36_1_1lbm_11_hydratase_1_0003_0001.pdb\n",
      "dnh-aro/enzdes/out/UM_45_Y111D87_1_1lbl_11_hydratase_1_0004_0001.pdb\n",
      "dnh-aro/enzdes/out/UM_45_Y111E65_1_2jen_11_hydratase_1_0003_0001.pdb\n",
      "dnh-aro/enzdes/out/UM_45_Y138D10_1_1zip_11_hydratase_1_0002_0001.pdb\n",
      "dnh-aro/enzdes/out/UM_46_Y109D182_1_2ayh_11_hydratase_1_0001_0001.pdb\n",
      "dnh-aro/enzdes/out/UM_46_Y125E253_1_1ukb_11_hydratase_1_0002_0001.pdb\n",
      "dnh-aro/enzdes/out/UM_46_Y42D92_1_1tuv_11_hydratase_1_0002_0001.pdb\n",
      "dnh-aro/enzdes/out/UM_46_Y84E128_1_3B5L_11_hydratase_1_0001_0001.pdb\n",
      "dnh-aro/enzdes/out/UM_47_Y111D87_1_1a53_11_hydratase_1_0002_0001.pdb\n",
      "dnh-aro/enzdes/out/UM_47_Y164D77_1_1ukr_11_hydratase_1_0000_0001.pdb\n",
      "dnh-aro/enzdes/out/UM_47_Y36E86_1_1qv0_11_hydratase_1_0004_0001.pdb\n",
      "dnh-aro/enzdes/out/UM_48_Y107D180_1_1mac_11_hydratase_1_0003_0001.pdb\n",
      "dnh-aro/enzdes/out/UM_48_Y65E29_1_1j3f_11_hydratase_1_0003_0001.pdb\n",
      "dnh-aro/enzdes/out/UM_49_Y80E205_1_1upv_11_hydratase_1_0001_0001.pdb\n",
      "dnh-aro/enzdes/out/UM_4_Y3D45_1_1ikt_11_hydratase_1_0003_0001.pdb\n",
      "dnh-aro/enzdes/out/UM_50_Y107E121_1_1mac_11_hydratase_1_0002_0001.pdb\n",
      "dnh-aro/enzdes/out/UM_50_Y117D161_1_2uvh_11_hydratase_1_0002_0001.pdb\n",
      "dnh-aro/enzdes/out/UM_51_Y118D133_1_1fcy_11_hydratase_1_0003_0001.pdb\n",
      "dnh-aro/enzdes/out/UM_51_Y132D8_1_1igs_11_hydratase_1_0003_0001.pdb\n",
      "dnh-aro/enzdes/out/UM_52_Y66D31_1_1tuv_11_hydratase_1_0004_0001.pdb\n",
      "dnh-aro/enzdes/out/UM_53_Y66D6_1_1tuv_11_hydratase_1_0004_0001.pdb\n",
      "dnh-aro/enzdes/out/UM_53_Y85D5_1_1n9l_11_hydratase_1_0001_0001.pdb\n",
      "dnh-aro/enzdes/out/UM_54_Y111E8_1_3B5V_11_hydratase_1_0002_0001.pdb\n",
      "dnh-aro/enzdes/out/UM_55_Y65D40_1_1j3f_11_hydratase_1_0004_0001.pdb\n",
      "dnh-aro/enzdes/out/UM_56_Y229D255_1_1p4c_11_hydratase_1_0002_0001.pdb\n",
      "dnh-aro/enzdes/out/UM_57_Y244E252_1_1fp1_11_hydratase_1_0003_0001.pdb\n",
      "dnh-aro/enzdes/out/UM_58_Y111D87_1_3B5V_11_hydratase_1_0003_0001.pdb\n",
      "dnh-aro/enzdes/out/UM_58_Y129D161_1_2jen_11_hydratase_1_0001_0001.pdb\n",
      "dnh-aro/enzdes/out/UM_58_Y229D253_1_1p4c_11_hydratase_1_0003_0001.pdb\n",
      "dnh-aro/enzdes/out/UM_58_Y75D6_1_1tuv_11_hydratase_1_0002_0001.pdb\n",
      "dnh-aro/enzdes/out/UM_59_Y131D172_1_1xxn_11_hydratase_1_0004_0001.pdb\n",
      "dnh-aro/enzdes/out/UM_59_Y132E82_1_1lbl_11_hydratase_1_0002_0001.pdb\n",
      "dnh-aro/enzdes/out/UM_59_Y156E190_1_1GOM_11_hydratase_1_0003_0001.pdb\n",
      "dnh-aro/enzdes/out/UM_5_Y10D120_1_1sjw_11_hydratase_1_0002_0001.pdb\n",
      "dnh-aro/enzdes/out/UM_5_Y33D57_1_1nwz_11_hydratase_1_0002_0001.pdb\n",
      "dnh-aro/enzdes/out/UM_5_Y89D138_1_1czn_11_hydratase_1_0001_0001.pdb\n",
      "dnh-aro/enzdes/out/UM_60_Y103D98_1_1nwz_11_hydratase_1_0003_0001.pdb\n",
      "dnh-aro/enzdes/out/UM_60_Y146D67_1_1zm1_11_hydratase_1_0003_0001.pdb\n",
      "dnh-aro/enzdes/out/UM_60_Y58E36_1_1qv0_11_hydratase_1_0003_0001.pdb\n",
      "dnh-aro/enzdes/out/UM_61_Y80E7_1_1bvv_11_hydratase_1_0004_0001.pdb\n",
      "dnh-aro/enzdes/out/UM_61_Y97E31_1_1osh_11_hydratase_1_0003_0001.pdb\n",
      "dnh-aro/enzdes/out/UM_62_Y124D104_1_1ILW_11_hydratase_1_0002_0001.pdb\n",
      "dnh-aro/enzdes/out/UM_62_Y274E292_1_1hz4_11_hydratase_1_0004_0001.pdb\n",
      "dnh-aro/enzdes/out/UM_63_Y274D299_1_1hz4_11_hydratase_1_0000_0001.pdb\n",
      "dnh-aro/enzdes/out/UM_65_Y131D109_1_2jen_11_hydratase_1_0003_0001.pdb\n",
      "dnh-aro/enzdes/out/UM_65_Y58E128_1_1sjw_11_hydratase_1_0000_0001.pdb\n",
      "dnh-aro/enzdes/out/UM_67_Y249E23_1_1d3g_11_hydratase_1_0002_0001.pdb\n",
      "dnh-aro/enzdes/out/UM_69_Y73E90_1_1j3f_11_hydratase_1_0002_0001.pdb\n",
      "dnh-aro/enzdes/out/UM_6_Y27E135_1_1cjw_11_hydratase_1_0000_0001.pdb\n",
      "dnh-aro/enzdes/out/UM_70_Y153D114_1_1tt8_11_hydratase_1_0003_0001.pdb\n",
      "dnh-aro/enzdes/out/UM_71_Y112D80_1_1bvv_11_hydratase_1_0004_0001.pdb\n",
      "dnh-aro/enzdes/out/UM_71_Y175D162_1_1zip_11_hydratase_1_0003_0001.pdb\n",
      "dnh-aro/enzdes/out/UM_71_Y211D85_1_1xpc_11_hydratase_1_0001_0001.pdb\n",
      "dnh-aro/enzdes/out/UM_72_Y144D111_1_1cjw_11_hydratase_1_0002_0001.pdb\n",
      "dnh-aro/enzdes/out/UM_73_Y211E185_1_1wq3_11_hydratase_1_0002_0001.pdb\n",
      "dnh-aro/enzdes/out/UM_73_Y64D122_1_1sjw_11_hydratase_1_0001_0001.pdb\n",
      "dnh-aro/enzdes/out/UM_74_Y211E81_1_1xpc_11_hydratase_1_0003_0001.pdb\n",
      "dnh-aro/enzdes/out/UM_76_Y104E21_1_1n9l_11_hydratase_1_0003_0001.pdb\n",
      "dnh-aro/enzdes/out/UM_76_Y114E93_1_1osh_11_hydratase_1_0002_0001.pdb\n",
      "dnh-aro/enzdes/out/UM_77_Y168D157_1_1ukb_11_hydratase_1_0002_0001.pdb\n",
      "dnh-aro/enzdes/out/UM_77_Y95E105_1_1r5l_11_hydratase_1_0000_0001.pdb\n",
      "dnh-aro/enzdes/out/UM_79_Y205E44_1_1zm1_11_hydratase_1_0000_0001.pdb\n",
      "dnh-aro/enzdes/out/UM_7_Y23E44_1_1xpc_11_hydratase_1_0003_0001.pdb\n",
      "dnh-aro/enzdes/out/UM_7_Y26D216_1_1wxj_11_hydratase_1_0003_0001.pdb\n",
      "dnh-aro/enzdes/out/UM_7_Y79D178_1_1p4c_11_hydratase_1_0003_0001.pdb\n",
      "dnh-aro/enzdes/out/UM_80_Y120E42_1_1upv_11_hydratase_1_0001_0001.pdb\n",
      "dnh-aro/enzdes/out/UM_80_Y66D39_1_1qv0_11_hydratase_1_0001_0001.pdb\n",
      "dnh-aro/enzdes/out/UM_82_Y19D95_1_1oho_11_hydratase_1_0003_0001.pdb\n",
      "dnh-aro/enzdes/out/UM_83_Y143E151_1_1r5l_11_hydratase_1_0002_0001.pdb\n",
      "dnh-aro/enzdes/out/UM_83_Y64D86_1_1oho_11_hydratase_1_0003_0001.pdb\n",
      "dnh-aro/enzdes/out/UM_88_Y202D87_1_1upv_11_hydratase_1_0003_0001.pdb\n",
      "dnh-aro/enzdes/out/UM_89_Y355D405_1_1e4i_11_hydratase_1_0000_0001.pdb\n",
      "dnh-aro/enzdes/out/UM_8_Y9D192_1_1ajk_11_hydratase_1_0003_0001.pdb\n",
      "dnh-aro/enzdes/out/UM_90_Y82D169_1_1qv0_11_hydratase_1_0003_0001.pdb\n",
      "dnh-aro/enzdes/out/UM_91_Y202E83_1_1upv_11_hydratase_1_0004_0001.pdb\n",
      "dnh-aro/enzdes/out/UM_96_Y329E252_1_1hz4_11_hydratase_1_0003_0001.pdb\n",
      "dnh-aro/enzdes/out/UM_9_Y145E25_1_1ms6_11_hydratase_1_0002_0001.pdb\n",
      "dnh-aro/enzdes/out/UM_9_Y240D195_1_2FPC_11_hydratase_1_0000_0001.pdb\n",
      "\n",
      "sent 3624 bytes  received 11837685 bytes  1393095.18 bytes/sec\n",
      "total size is 52052268  speedup is 4.40\n",
      "rsync error: some files could not be transferred (code 23) at /BuildRoot/Library/Caches/com.apple.xbs/Sources/rsync/rsync-47/rsync/main.c(1400) [generator=2.6.9]\n"
     ]
    }
   ],
   "source": [
    "# use this when working on local machine \n",
    "\n",
    "pull_list = [ 'dnh-aro/enzdes/out/{}.pdb'.format( i ) for i in filtered.description ]\n",
    "with open( 'results/pull_list', 'w' ) as fn:\n",
    "    fn.write( '\\n'.join( pull_list ) )\n",
    "\n",
    "#! head pull_list   \n",
    "! rsync -avz --files-from=results/pull_list $ep:. results/"
   ]
  },
  {
   "cell_type": "markdown",
   "metadata": {
    "collapsed": false
   },
   "source": [
    "## Manual curation of structures \n",
    "\n",
    "Now that we have run Rosetta simulations and picked a set of design critera to fiter by, it's time for manual curation of the structures. We'll download the 50 or so that look the best, and pick some designs to order. \n",
    "\n",
    "One thing that I really like to see when looking at a design is the mutations that were made when compared to the wild type enzyme. Let's diff the designs against their wild types (only those in the filtered list though)."
   ]
  },
  {
   "cell_type": "markdown",
   "metadata": {
    "collapsed": true
   },
   "source": [
    "Here, let's try to automate the curation step. Let's write a function that\n",
    "\n",
    "+ takes a design PDB file name in enzdes/out\n",
    "\n",
    "and makes a nice PyMOL session with \n",
    "\n",
    "+ the wild type loaded and overlayed \n",
    "+ mutations colored "
   ]
  },
  {
   "cell_type": "code",
   "execution_count": 9,
   "metadata": {
    "collapsed": false
   },
   "outputs": [],
   "source": [
    "import os \n",
    "import string \n",
    "from shutil import copyfile\n",
    "\n",
    "designs = pandas.read_csv( 'results/filtered.csv', index_col='match' ) \n",
    "\n",
    "for name, s in designs.iterrows():\n",
    "    \n",
    "    # create sandbox \n",
    "    sandbox_path = 'results/{}_sandbox/'.format( name )\n",
    "    if not os.path.exists( sandbox_path ):\n",
    "        os.makedirs( sandbox_path )\n",
    "    \n",
    "    # construct paths \n",
    "    design_path = 'results/dnh-aro/enzdes/out/{}.pdb'.format( s.description ) \n",
    "    wt_path = 'match/scaffold_set/{}_11.pdb'.format( s.scaffold )\n",
    "    if os.path.exists( design_path ) and os.path.exists( wt_path ):\n",
    "        \n",
    "        # copy in files\n",
    "        my_des = design_path.split( '/' )[-1]\n",
    "        my_wt = '{}.pdb'.format( s.scaffold ) \n",
    "        \n",
    "        copyfile( 'match/scaffold_set/{}_11.pdb'.format( s.scaffold ), sandbox_path + my_wt )\n",
    "        copyfile( design_path, sandbox_path + my_des )\n",
    "        copyfile( 'match/LG1.conf.pdb', sandbox_path + 'LG1.conf.pdb' )\n",
    "        copyfile( 'match/LG1.params', sandbox_path + 'LG1.params' )\n",
    "        copyfile( 'match/hydratase.enzdes.cst', sandbox_path + 'hydratase.enzdes.cst' )\n",
    "        \n",
    "        # get mutations \n",
    "        with open( sandbox_path + my_des ) as design:\n",
    "            des_CA_lines = [ ln for ln in design.readlines() if 'ATOM' in ln and 'CA' in ln ]\n",
    "            des_CA = [ ln.split()[3] for ln in des_CA_lines ]\n",
    "            last_res = des_CA_lines[-1].split()[5]\n",
    "            \n",
    "        with open( sandbox_path + my_wt ) as wt:\n",
    "            wt_CA = [ ln.split()[3] for ln in wt.readlines() if 'ATOM' in ln and 'CA' in ln ]\n",
    "        \n",
    "        d3 = [ '%s%s%s' % ( a1, i+1, a2 ) for i, ( a1, a2 ) in enumerate( zip( wt_CA, des_CA ) ) if a1 != a2 ]\n",
    "        str_d3 = '+'.join( d3 ) \n",
    "        \n",
    "        with open( '{}/{}.pml'.format( sandbox_path, name ), 'w' ) as fn:\n",
    "            f = 'load {0}, {0}; load {1}, {1}; '.format( my_wt, my_des ) \n",
    "            resi = str_d3.translate( None, string.letters ) \n",
    "            g = 'sele muts, resi {} and obj {}; '.format( resi, my_des )  \n",
    "            h = 'util.cbaw muts; util.cnc; orient muts; show sticks, organic; hide (hydro); remove solvent;'\n",
    "            fn.write( f + g + h )\n",
    "        \n",
    "        with open( '{}/{}.puzzle_setup'.format( sandbox_path, name ), 'w' ) as fn:\n",
    "            p1 = 'version: 1\\n{{\\n\"backbone_locked\": \"{0}||\"\\n'.format( int( last_res ) + 1 ) \n",
    "            p2 = '\"can_design\": \"1-{}||\"\\n}}\\n'.format( last_res ) \n",
    "            fn.write( p1 + p2 )\n",
    "            #'version: 1\\n{\\n\"sidechain_locked\": \"%d||\"\\n\"backbone_locked\": \"%d||\"\\n\"can_design\": \"1-%d||\"\\n}\\n' % ( int( last_res ) + 1, int( last_res ) + 1, last_res )\n",
    "            \n",
    "        with open( '{}/notes_template.txt'.format( sandbox_path ), 'w' ) as fn:\n",
    "            lines = [ name, 'mutations: {}'.format( str_d3 ) ]\n",
    "            for col, item in s.iteritems():\n",
    "                lines.append( '{}: {}'.format( col, item ) )\n",
    "            fn.writelines( [ ln + '\\n' for ln in lines ] ) "
   ]
  },
  {
   "cell_type": "markdown",
   "metadata": {},
   "source": [
    "## Manually-curated designs "
   ]
  }
 ],
 "metadata": {
  "kernelspec": {
   "display_name": "Python 2",
   "language": "python",
   "name": "python2"
  },
  "language_info": {
   "codemirror_mode": {
    "name": "ipython",
    "version": 2
   },
   "file_extension": ".py",
   "mimetype": "text/x-python",
   "name": "python",
   "nbconvert_exporter": "python",
   "pygments_lexer": "ipython2",
   "version": "2.7.11"
  }
 },
 "nbformat": 4,
 "nbformat_minor": 0
}
