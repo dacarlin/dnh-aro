{
 "cells": [
  {
   "cell_type": "markdown",
   "metadata": {},
   "source": [
    "# *De novo* design of an allyl hydratase\n",
    "\n",
    "In this repo, we're designing for a large, aromatic substrate, 2-allylphenol. If we can show that we can get activity on that substrate (and if it's soluble), we'll move on to ethylene. "
   ]
  },
  {
   "cell_type": "markdown",
   "metadata": {},
   "source": [
    "## Input file prep \n",
    "\n",
    "We prepped our scaffold set, wrote constraint file, and generated ligand params file. \n",
    "\n",
    "## Match the theozyme into our scaffold set \n",
    "\n",
    "### RosettaMatch run on scaffold set (207 proteins)"
   ]
  },
  {
   "cell_type": "code",
   "execution_count": 21,
   "metadata": {
    "collapsed": false
   },
   "outputs": [
    {
     "name": "stdout",
     "output_type": "stream",
     "text": [
      "enzdes\thydratase.enzdes.cst  list     old-out\tprep\t      sub.sh\r\n",
      "flags\tLG1.params\t      log.txt  out\tscaffold_set  Untitled.ipynb\r\n"
     ]
    }
   ],
   "source": [
    "! ls # we're in the matching directory and we've prepared our input files"
   ]
  },
  {
   "cell_type": "code",
   "execution_count": 1,
   "metadata": {
    "collapsed": false
   },
   "outputs": [
    {
     "name": "stdout",
     "output_type": "stream",
     "text": [
      "207 runs\n",
      "Submitted batch job 632172\n"
     ]
    }
   ],
   "source": [
    "%%bash \n",
    "\n",
    "runs=$( wc -l list | cut -d\" \" -f1 )\n",
    "echo $runs runs\n",
    "\n",
    "#sbatch --array=1-$runs sub.sh"
   ]
  },
  {
   "cell_type": "code",
   "execution_count": 100,
   "metadata": {
    "collapsed": false,
    "scrolled": false
   },
   "outputs": [
    {
     "name": "stdout",
     "output_type": "stream",
     "text": [
      "             JOBID PARTITION     NAME     USER ST       TIME  NODES NODELIST(REASON)\r\n",
      " 632586_[2058-1021        gc   enzdes   carlin PD       0:00      1 (Priority)\r\n",
      "       632586_2055        gc   enzdes   carlin  R       0:23      1 c0-3.hpc.genomecenter.ucdavis.edu\r\n",
      "       632586_2057        gc   enzdes   carlin  R       0:23      1 c4-1.hpc.genomecenter.ucdavis.edu\r\n",
      "       632586_2054        gc   enzdes   carlin  R       1:22      1 c0-9.hpc.genomecenter.ucdavis.edu\r\n",
      "       632586_2053        gc   enzdes   carlin  R       2:14      1 c4-3.hpc.genomecenter.ucdavis.edu\r\n",
      "       632586_2052        gc   enzdes   carlin  R       3:00      1 c7-4.hpc.genomecenter.ucdavis.edu\r\n",
      "       632586_2051        gc   enzdes   carlin  R       3:19      1 c0-0.hpc.genomecenter.ucdavis.edu\r\n",
      "       632586_2049        gc   enzdes   carlin  R       3:28      1 c0-17.hpc.genomecenter.ucdavis.edu\r\n",
      "       632586_2050        gc   enzdes   carlin  R       3:28      1 c0-4.hpc.genomecenter.ucdavis.edu\r\n"
     ]
    }
   ],
   "source": [
    "! squeue -u carlin | head "
   ]
  },
  {
   "cell_type": "code",
   "execution_count": 13,
   "metadata": {
    "collapsed": false
   },
   "outputs": [],
   "source": [
    "%%bash \n",
    "#clean up after matcher \n",
    "#ls UM*pdb | wc -l # number of matches\n",
    "#mkdir out\n",
    "#mv UM*pdb out/\n",
    "#ls out/ | wc -l "
   ]
  },
  {
   "cell_type": "markdown",
   "metadata": {},
   "source": [
    "## Submitting our matches to the enzyme design protocol \n",
    "\n",
    "Now that we have matched the active site residues and the ligand into various positions in the protein backbones of our scaffold set, we'll use an enzyme design protocol to optimize the ligand placement and shape complementarity with the protein "
   ]
  },
  {
   "cell_type": "code",
   "execution_count": 38,
   "metadata": {
    "collapsed": false
   },
   "outputs": [],
   "source": [
    "# use nstruct 10 here since each job is only taking a few minutes, it's OK if they run overnight \n",
    "\n",
    "from glob import glob\n",
    "\n",
    "runs = [ '-s ../{}'.format( i ) for i in glob( 'out/*pdb' ) ]\n",
    "with open( 'enzdes/list', 'w' ) as fn:\n",
    "    fn.write( '\\n'.join( runs ) )"
   ]
  },
  {
   "cell_type": "code",
   "execution_count": 39,
   "metadata": {
    "collapsed": false
   },
   "outputs": [
    {
     "name": "stdout",
     "output_type": "stream",
     "text": [
      "10211 enzdes/list\n",
      "-s ../out/UM_73_Y174E18_1_1pvx_11_hydratase_1.pdb\n",
      "-s ../out/UM_4_Y3D45_1_1ikt_11_hydratase_1.pdb\n",
      "-s ../out/UM_93_Y168E71_1_1bvv_11_hydratase_1.pdb\n",
      "-s ../out/UM_38_Y121E124_1_1v0a_11_hydratase_1.pdb\n",
      "-s ../out/UM_41_Y147D231_1_1abe_11_hydratase_1.pdb\n",
      "-s ../out/UM_68_Y338E186_1_1tfz_11_hydratase_1.pdb\n",
      "-s ../out/UM_35_Y511E174_1_1HZU_11_hydratase_1.pdb\n",
      "-s ../out/UM_30_Y155D79_1_1b9i_11_hydratase_1.pdb\n",
      "-s ../out/UM_1_Y38E299_1_1c1d_11_hydratase_1.pdb\n",
      "-s ../out/UM_43_Y168E143_1_1w78_11_hydratase_1.pdb\n"
     ]
    }
   ],
   "source": [
    "! wc -l enzdes/list\n",
    "! head enzdes/list"
   ]
  },
  {
   "cell_type": "code",
   "execution_count": 96,
   "metadata": {
    "collapsed": false
   },
   "outputs": [
    {
     "name": "stdout",
     "output_type": "stream",
     "text": [
      "Submitted batch job 632586\n"
     ]
    }
   ],
   "source": [
    "%%bash\n",
    "\n",
    "# let's start with doing 100 and making sure everything is OK \n",
    "# cd enzdes && sbatch --array=1-100 sub.sh \n",
    "\n",
    "# now the rest \n",
    "cd enzdes && sbatch --array=101-$( wc -l list | cut -d\" \" -f1 ) sub.sh \n",
    "\n",
    "# now the real\n",
    "# cd enzdes && sbatch --array=1-$( wc -l list | cut -d\" \" -f1 ) sub.sh "
   ]
  },
  {
   "cell_type": "code",
   "execution_count": 102,
   "metadata": {
    "collapsed": false,
    "scrolled": true
   },
   "outputs": [
    {
     "name": "stdout",
     "output_type": "stream",
     "text": [
      "        632586_884        gc   enzdes   carlin  R   12:17:28      1 c0-5.hpc.genomecenter.ucdavis.edu\r\n",
      "        632586_881        gc   enzdes   carlin  R   12:20:32      1 c0-6.hpc.genomecenter.ucdavis.edu\r\n",
      "        632586_865        gc   enzdes   carlin  R   12:41:10      1 c0-16.hpc.genomecenter.ucdavis.edu\r\n",
      "        632586_862        gc   enzdes   carlin  R   12:44:57      1 c0-9.hpc.genomecenter.ucdavis.edu\r\n",
      "        632586_856        gc   enzdes   carlin  R   12:52:28      1 c0-7.hpc.genomecenter.ucdavis.edu\r\n",
      "        632586_854        gc   enzdes   carlin  R   12:53:04      1 c0-2.hpc.genomecenter.ucdavis.edu\r\n",
      "        632586_835        gc   enzdes   carlin  R   13:21:18      1 c0-9.hpc.genomecenter.ucdavis.edu\r\n",
      "        632586_781        gc   enzdes   carlin  R   14:49:28      1 c0-17.hpc.genomecenter.ucdavis.edu\r\n",
      "        632586_737        gc   enzdes   carlin  R   15:55:28      1 c0-5.hpc.genomecenter.ucdavis.edu\r\n",
      "        632586_718        gc   enzdes   carlin  R   16:36:59      1 c0-0.hpc.genomecenter.ucdavis.edu\r\n"
     ]
    }
   ],
   "source": [
    "! squeue -u carlin | tail"
   ]
  },
  {
   "cell_type": "code",
   "execution_count": 98,
   "metadata": {
    "collapsed": false
   },
   "outputs": [],
   "source": [
    "! tail enzdes/log.txt"
   ]
  },
  {
   "cell_type": "code",
   "execution_count": 105,
   "metadata": {
    "collapsed": false
   },
   "outputs": [
    {
     "name": "stdout",
     "output_type": "stream",
     "text": [
      "enzdes/out/score.sc\r\n"
     ]
    }
   ],
   "source": [
    "! ls enzdes/out/*sc "
   ]
  },
  {
   "cell_type": "markdown",
   "metadata": {},
   "source": [
    "## Results \n",
    "\n",
    "### Filter the RosettaScripts enzyme design output \n",
    "\n",
    "Let's start by looking at histograms of the `total_score` of each of the catalytic residues. Because we're looking at a big ligand, let's also check out the interface energy score. "
   ]
  },
  {
   "cell_type": "code",
   "execution_count": 106,
   "metadata": {
    "collapsed": false
   },
   "outputs": [
    {
     "name": "stdout",
     "output_type": "stream",
     "text": [
      "12889 enzdes out\n",
      "170 scaffolds\n",
      "1592 unique matches\n"
     ]
    }
   ],
   "source": [
    "%matplotlib inline\n",
    "import matplotlib.pyplot as plt\n",
    "import pandas\n",
    "from glob import glob \n",
    "\n",
    "#dfs = [ pandas.read_csv( i, sep='\\s+' ) for i in glob( 'enzdes/out/*sc' ) ]\n",
    "#df = pandas.concat( dfs ).dropna()\n",
    "#df['scaffold'] = df.description.str.split( '_' ).str.get( 4 ) # aha!\n",
    "\n",
    "sf = pandas.read_csv( 'enzdes/out/score.sc', sep='\\s+' )\n",
    "sf.index = sf.description\n",
    "sf['scaffold'] = sf.index.str.split( '_' ).str[4]\n",
    "sf['match'] = sf.index.str.split( '_11' ).str[0]\n",
    "sf.sample( 3 )\n",
    "\n",
    "print len( sf ), 'enzdes out'\n",
    "print len( sf.scaffold.unique() ), 'scaffolds'\n",
    "print len( sf.match.unique() ), 'unique matches'"
   ]
  },
  {
   "cell_type": "code",
   "execution_count": 107,
   "metadata": {
    "collapsed": false
   },
   "outputs": [
    {
     "name": "stdout",
     "output_type": "stream",
     "text": [
      "1591 lowest from nstruct groups (should equal number of matches)\n"
     ]
    }
   ],
   "source": [
    "# get lowest 1 of each nstruct \n",
    "\n",
    "def lowest( df ):\n",
    "    return df.sort( 'total_score' ).head( 1 )\n",
    "\n",
    "grouped = sf.groupby( 'match' ).apply( lowest )\n",
    "print len( grouped ), 'lowest from nstruct groups (should equal number of matches)'"
   ]
  },
  {
   "cell_type": "code",
   "execution_count": 116,
   "metadata": {
    "collapsed": false
   },
   "outputs": [
    {
     "name": "stdout",
     "output_type": "stream",
     "text": [
      "3 structures meet critera\n"
     ]
    }
   ],
   "source": [
    "filtered = grouped[ \n",
    "    ( grouped.all_cst < 1 ) & \n",
    "    ( grouped.SR_1_total_score < -1 ) & \n",
    "    ( grouped.SR_2_total_score < -1 ) & \n",
    "    ( grouped.SR_3_total_score < -1 ) & \n",
    "    ( grouped.SR_3_dsasa_1_2 > 0.9 ) \n",
    "]\n",
    "\n",
    "print len( filtered ), 'structures meet critera'"
   ]
  },
  {
   "cell_type": "markdown",
   "metadata": {},
   "source": [
    "Histograms of all the columns in the scorefile "
   ]
  },
  {
   "cell_type": "code",
   "execution_count": 117,
   "metadata": {
    "collapsed": false,
    "scrolled": false
   },
   "outputs": [],
   "source": [
    "#sf.hist( linewidth=0, color='k', figsize=( 12, 120 ), bins=50, layout=(41,1) )"
   ]
  },
  {
   "cell_type": "markdown",
   "metadata": {},
   "source": [
    "Per-scaffold histograms! (Why?)"
   ]
  },
  {
   "cell_type": "code",
   "execution_count": 118,
   "metadata": {
    "collapsed": false,
    "scrolled": false
   },
   "outputs": [],
   "source": [
    "#sf.total_score.hist(by=df.scaffold, figsize=(21,21), color='k', linewidth=0 )\n",
    "#plt.tight_layout()"
   ]
  },
  {
   "cell_type": "code",
   "execution_count": 119,
   "metadata": {
    "collapsed": false
   },
   "outputs": [
    {
     "data": {
      "text/plain": [
       "0"
      ]
     },
     "execution_count": 119,
     "metadata": {},
     "output_type": "execute_result"
    }
   ],
   "source": [
    "# tar the filtered structures together \n",
    "from subprocess import call \n",
    "\n",
    "tar_list = [ 'enzdes/out/{}.pdb'.format( i ) for i in filtered.description ]\n",
    "cmd = [ 'tar', '--create', '--verbose', '--file', 'filtered.tar' ] + tar_list \n",
    "call( cmd )"
   ]
  },
  {
   "cell_type": "code",
   "execution_count": 91,
   "metadata": {
    "collapsed": false
   },
   "outputs": [
    {
     "name": "stdout",
     "output_type": "stream",
     "text": [
      " PyMOL(TM) Molecular Graphics System, Version 1.7.7.2.\n",
      " Copyright (c) Schrodinger, LLC.\n",
      " All Rights Reserved.\n",
      " \n",
      "    Created by Warren L. DeLano, Ph.D. \n",
      " \n",
      "    PyMOL is user-supported open-source software.  Although some versions\n",
      "    are freely available, PyMOL is not in the public domain.\n",
      " \n",
      "    If PyMOL is helpful in your work or study, then please volunteer \n",
      "    support for our ongoing efforts to create open and affordable scientific\n",
      "    software by purchasing a PyMOL Maintenance and/or Support subscription.\n",
      "\n",
      "    More information can be found at \"http://www.pymol.org\".\n",
      " \n",
      "    Enter \"help\" for a list of commands.\n",
      "    Enter \"help <command-name>\" for information on a specific command.\n",
      "\n",
      " Hit ESC anytime to toggle between text and graphics.\n",
      "\n",
      " Command mode. No graphics front end.\n",
      " Detected 8 CPU cores.  Enabled multithreaded rendering.\n",
      "PyMOL>set float_labels, 1\n",
      " Setting: float_labels set to 1.\n",
      "PyMOL>alias clean, \\\n",
      "PyMOL>remove hydrogens \\\n",
      "PyMOL>remove solvent \\\n",
      "PyMOL>show sticks, organic\n",
      "PyMOL>alias pywk, \\\n",
      "PyMOL>label r and name ca, \"%s%s\" % (resn,resi) \\\n",
      "PyMOL>set label_font_id, 7\n",
      "PyMOL>alias ribs, \\\n",
      "PyMOL>clean \\\n",
      "PyMOL>hide everything \\\n",
      "PyMOL>show ribbon\n",
      "PyMOL>alias lines-around-metal, \\\n",
      "PyMOL>hide everything, \\\n",
      "PyMOL>show ribbon, \\\n",
      "PyMOL>set sphere_scale, 0.15 \\\n",
      "PyMOL>show spheres, elem fe, \\\n",
      "PyMOL>show lines, br. elem fe around 8\n",
      "PyMOL>alias spiff, \\\n",
      "PyMOL>set ray_trace_mode, 3 \\\n",
      "PyMOL>set shininess, 0.67 \\\n",
      "PyMOL>set ray_trace_fog, 0 \\\n",
      "PyMOL>set ray_shadows, 0 \\\n",
      "PyMOL>set depth_cue, 0 \\\n",
      "PyMOL>bg_color white\n",
      "PyMOL>alias showme12, \\\n",
      "PyMOL>sele /////C19 around 12 and /////CA \\\n",
      "PyMOL>set sphere_scale, 0.681 \\\n",
      "PyMOL>hide spheres \\\n",
      "PyMOL>show spheres, sele\n",
      "PyMOL>alias showme14, \\\n",
      "PyMOL>sele /////C19 around 14 and /////CA \\\n",
      "PyMOL>set sphere_scale, 0.681 \\\n",
      "PyMOL>hide spheres \\\n",
      "PyMOL>show spheres, sele\n",
      "PyMOL>alias go, \\\n",
      "PyMOL>showme14 \\\n",
      "PyMOL>save around.pdb, sele \\\n",
      "PyMOL>quit\n",
      "PyMOL>load out/UM_100_Y213D129_1_2jen_11_hydratase_1.pdb; clean; orient organic; move z,-18; ray; png out/pymol_out.png\n",
      " CmdLoad: \"out/UM_100_Y213D129_1_2jen_11_hydratase_1.pdb\" loaded as \"UM_100_Y213D129_1_2jen_11_hydratase_1\".\n",
      "PyMOL>remove hydrogens \n",
      " Remove: eliminated 1730 atoms in model \"UM_100_Y213D129_1_2jen_11_hydratase_1\".\n",
      " Ray: render time: 0.15 sec. = 23268.3 frames/hour (0.15 sec. accum.).\n",
      " ScenePNG: wrote 640x480 pixel image to file \"out/pymol_out.png\".\n",
      "PyMOL>  remove solvent \n",
      "PyMOL>  show sticks, organic \n",
      " PyMOL: normal program termination.\n"
     ]
    },
    {
     "data": {
      "image/png": "[encoded data removed]",
      "text/plain": [
       "<matplotlib.figure.Figure at 0x7ffac6bb3c50>"
      ]
     },
     "metadata": {},
     "output_type": "display_data"
    }
   ],
   "source": [
    "! pymol -cd \"load out/UM_100_Y213D129_1_2jen_11_hydratase_1.pdb; clean; orient organic; move z,-18; ray; png out/pymol_out.png\" \n",
    "\n",
    "import matplotlib.image as mpimg\n",
    "\n",
    "img = mpimg.imread('out/pymol_out.png')\n",
    "imgplot = plt.imshow(img)\n",
    "\n",
    "# wow that's hacky "
   ]
  },
  {
   "cell_type": "markdown",
   "metadata": {
    "collapsed": false
   },
   "source": [
    "## Manual curation of structures \n",
    "\n",
    "Now that we have run Rosetta simulations and picked a set of design critera to fiter by, it's time for manual curation of the structures. We'll download the 50 or so that look the best, and pick some designs to order. \n",
    "\n",
    "One thing that I really like to see when looking at a design is the mutations that were made when compared to the wild type enzyme. Let's diff the designs against their wild types (only those in the filtered list though)."
   ]
  },
  {
   "cell_type": "code",
   "execution_count": 92,
   "metadata": {
    "collapsed": false,
    "scrolled": false
   },
   "outputs": [
    {
     "data": {
      "text/html": [
       "<div>\n",
       "<table border=\"1\" class=\"dataframe\">\n",
       "  <thead>\n",
       "    <tr style=\"text-align: right;\">\n",
       "      <th></th>\n",
       "      <th></th>\n",
       "      <th>total_score</th>\n",
       "      <th>fa_rep</th>\n",
       "      <th>hbond_sc</th>\n",
       "      <th>all_cst</th>\n",
       "      <th>tot_pstat_pm</th>\n",
       "      <th>tot_nlpstat_pm</th>\n",
       "      <th>tot_burunsat_pm</th>\n",
       "      <th>tot_hbond_pm</th>\n",
       "      <th>tot_NLconts_pm</th>\n",
       "      <th>tot_nlsurfaceE_pm</th>\n",
       "      <th>...</th>\n",
       "      <th>SR_3_hbond_sc</th>\n",
       "      <th>SR_3_all_cst</th>\n",
       "      <th>SR_3_interf_E_1_2</th>\n",
       "      <th>SR_3_dsasa_1_2</th>\n",
       "      <th>SR_3_hbond_pm</th>\n",
       "      <th>SR_3_burunsat_pm</th>\n",
       "      <th>description</th>\n",
       "      <th>scaffold</th>\n",
       "      <th>match</th>\n",
       "      <th>mutations_introduced</th>\n",
       "    </tr>\n",
       "    <tr>\n",
       "      <th>match</th>\n",
       "      <th>description</th>\n",
       "      <th></th>\n",
       "      <th></th>\n",
       "      <th></th>\n",
       "      <th></th>\n",
       "      <th></th>\n",
       "      <th></th>\n",
       "      <th></th>\n",
       "      <th></th>\n",
       "      <th></th>\n",
       "      <th></th>\n",
       "      <th></th>\n",
       "      <th></th>\n",
       "      <th></th>\n",
       "      <th></th>\n",
       "      <th></th>\n",
       "      <th></th>\n",
       "      <th></th>\n",
       "      <th></th>\n",
       "      <th></th>\n",
       "      <th></th>\n",
       "      <th></th>\n",
       "    </tr>\n",
       "  </thead>\n",
       "  <tbody>\n",
       "  </tbody>\n",
       "</table>\n",
       "<p>0 rows × 45 columns</p>\n",
       "</div>"
      ],
      "text/plain": [
       "Empty DataFrame\n",
       "Columns: [total_score, fa_rep, hbond_sc, all_cst, tot_pstat_pm, tot_nlpstat_pm, tot_burunsat_pm, tot_hbond_pm, tot_NLconts_pm, tot_nlsurfaceE_pm, tot_total_charge, tot_total_pos_charges, tot_total_neg_charges, tot_seq_recovery, SR_1, SR_1_total_score, SR_1_fa_rep, SR_1_hbond_sc, SR_1_all_cst, SR_1_hbond_pm, SR_1_burunsat_pm, SR_1_pstat_pm, SR_1_nlpstat_pm, SR_2, SR_2_total_score, SR_2_fa_rep, SR_2_hbond_sc, SR_2_all_cst, SR_2_hbond_pm, SR_2_burunsat_pm, SR_2_pstat_pm, SR_2_nlpstat_pm, SR_3, SR_3_total_score, SR_3_fa_rep, SR_3_hbond_sc, SR_3_all_cst, SR_3_interf_E_1_2, SR_3_dsasa_1_2, SR_3_hbond_pm, SR_3_burunsat_pm, description, scaffold, match, mutations_introduced]\n",
       "Index: []\n",
       "\n",
       "[0 rows x 45 columns]"
      ]
     },
     "execution_count": 92,
     "metadata": {},
     "output_type": "execute_result"
    }
   ],
   "source": [
    "import os\n",
    "from Bio.PDB.Polypeptide import PPBuilder\n",
    "from Bio.PDB import PDBParser\n",
    "\n",
    "def return_seq( pdb ):\n",
    "    parser = PDBParser()\n",
    "    structure = parser.get_structure( pdb[:-4], pdb )\n",
    "    ppb = PPBuilder() # lol why don't these have PDBParser( 'XZY1.pdb' )-style constructors? \n",
    "    for pp in ppb.build_peptides( structure ):\n",
    "        sequence = pp.get_sequence()\n",
    "        return sequence \n",
    "\n",
    "def my_map( design ):\n",
    "    wild_type_pdb = 'scaffold_set/{}_11.pdb'.format( design.split( '_' )[4] )\n",
    "    design_pdb = 'enzdes/out/{}.pdb'.format( design )\n",
    "    #print os.path.isfile( wild_type_pdb ), wild_type_pdb, os.path.isfile( design_pdb ), design_pdb\n",
    "    wt_seq = return_seq( wild_type_pdb )\n",
    "    des_seq = return_seq( design_pdb )\n",
    "    diff = [ '{}{}{}'.format( i, n+1, j ) for n, (i, j) in enumerate( zip( wt_seq, des_seq ) ) if i != j ]\n",
    "    string_rep = '+'.join( diff )\n",
    "    return string_rep\n",
    "    \n",
    "def diff_designs( df_to_diff ):    \n",
    "    df_to_diff['mutations_introduced'] = df_to_diff.description.map( my_map )\n",
    "    return df_to_diff \n",
    "\n",
    "diffed_designs = diff_designs( filtered )\n",
    "diffed_designs"
   ]
  },
  {
   "cell_type": "code",
   "execution_count": null,
   "metadata": {
    "collapsed": true
   },
   "outputs": [],
   "source": []
  }
 ],
 "metadata": {
  "kernelspec": {
   "display_name": "Python 2",
   "language": "python",
   "name": "python2"
  },
  "language_info": {
   "codemirror_mode": {
    "name": "ipython",
    "version": 2
   },
   "file_extension": ".py",
   "mimetype": "text/x-python",
   "name": "python",
   "nbconvert_exporter": "python",
   "pygments_lexer": "ipython2",
   "version": "2.7.10"
  }
 },
 "nbformat": 4,
 "nbformat_minor": 0
}
