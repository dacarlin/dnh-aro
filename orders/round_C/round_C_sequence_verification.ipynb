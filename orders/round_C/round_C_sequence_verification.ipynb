{
 "cells": [
  {
   "cell_type": "code",
   "execution_count": 1,
   "metadata": {
    "collapsed": true
   },
   "outputs": [],
   "source": [
    "from Bio import SeqIO\n",
    "from glob import glob \n",
    "from subprocess import call, check_output\n",
    "from itertools import product"
   ]
  },
  {
   "cell_type": "code",
   "execution_count": 6,
   "metadata": {
    "collapsed": false
   },
   "outputs": [],
   "source": [
    "# params and paths\n",
    "\n",
    "read_dir = 'sanger_reads/'\n",
    "my_sample_names = [ 'Alex{}-{}'.format( i, j ) for i, j in product( range( 1, 13 ), range( 1, 4 ) ) ]\n",
    "wt_pep = 'order_peptide_sequences.fasta' "
   ]
  },
  {
   "cell_type": "code",
   "execution_count": 7,
   "metadata": {
    "collapsed": false
   },
   "outputs": [],
   "source": [
    "# convert all the reads to FASTQ\n",
    "\n",
    "for read in glob( '{}/*ab1'.format( read_dir ) ):\n",
    "    SeqIO.convert( read, 'abi', read.replace( 'ab1', 'fastq' ), 'fastq' )"
   ]
  },
  {
   "cell_type": "code",
   "execution_count": 8,
   "metadata": {
    "collapsed": false,
    "scrolled": false
   },
   "outputs": [],
   "source": [
    "# pair and merge the reads \n",
    "\n",
    "expect = 0\n",
    "for sample_name in my_sample_names:\n",
    "    fwd = glob( '{}/*{}_*T7.fastq'.format( read_dir, sample_name ) ) \n",
    "    rev = glob( '{}/*{}_*T7-Ter.fastq'.format( read_dir, sample_name ) )\n",
    "    if len( fwd ) == len( rev ) == 1:\n",
    "        pear_opts = [ '-e', '2' ] \n",
    "        cmd = [ 'pear', '-f', fwd[0], '-r', rev[0], '-o', '{}/{}'.format( read_dir, sample_name ) ] + pear_opts\n",
    "        call( cmd )\n",
    "        expect += 1 "
   ]
  },
  {
   "cell_type": "code",
   "execution_count": 9,
   "metadata": {
    "collapsed": false
   },
   "outputs": [],
   "source": [
    "# convert all the assemblies to FASTA\n",
    "\n",
    "for assembly in glob( '{}/*.assembled.fastq'.format( read_dir ) ):\n",
    "    SeqIO.convert( assembly, 'fastq', assembly.replace( 'fastq', 'fasta' ), 'fasta' )"
   ]
  },
  {
   "cell_type": "code",
   "execution_count": null,
   "metadata": {
    "collapsed": false,
    "scrolled": false
   },
   "outputs": [],
   "source": [
    "! cat sanger_reads/*assembled.fasta > my_reads.fa \n",
    "! blastn -subject order_nucleotide_sequences.fasta -query my_reads.fa\n",
    "! blastx -subject order_peptide_sequences.fasta -query my_reads.fa"
   ]
  },
  {
   "cell_type": "code",
   "execution_count": null,
   "metadata": {
    "collapsed": false
   },
   "outputs": [],
   "source": [
    "# diff the assemblies against the wild type protein sequence manually \n",
    "\n",
    "singles = []\n",
    "for assembly in glob( '{}/*.assembled.fasta'.format( read_dir ) ):\n",
    "    for wt_pep in screed.open( 'order_peptide_sequences.fasta' ): \n",
    "        \n",
    "        name = assembly.split( '.' )[0] \n",
    "        \n",
    "        with open( 'my_wt_pep', 'w' ) as fn:\n",
    "            fn.write( '>{}\\n{}\\n'.format( name, wt_pep.sequence ) \n",
    "                     \n",
    "        lines = check_output( [ 'blastx', '-subject', wt_pep, '-query', assembly, '-outfmt', '6 sseq qseq length' ] ).split()\n",
    "                     \n",
    "        if lines and lines[0] and lines[1] and lines[2]:\n",
    "\n",
    "            z = zip( lines[0], lines[1] )\n",
    "            d = [ '{}{}{}'.format( i, n+1, j ) for n, ( i, j ) in enumerate( z ) if i != j ]\n",
    "            dstr = '+'.join( d ) \n",
    "            \n",
    "            if len( d ) == 0: \n",
    "                print name, length, '\\twild type'\n",
    "            elif len( d ) > 1:\n",
    "                print name, length, '\\t{}'.format( dstr ) \n",
    "            else:\n",
    "                print name, length, 'no alignment' "
   ]
  },
  {
   "cell_type": "code",
   "execution_count": 48,
   "metadata": {
    "collapsed": true
   },
   "outputs": [],
   "source": [
    "# results \n",
    "\n"
   ]
  }
 ],
 "metadata": {
  "kernelspec": {
   "display_name": "Python 2",
   "language": "python",
   "name": "python2"
  },
  "language_info": {
   "codemirror_mode": {
    "name": "ipython",
    "version": 2
   },
   "file_extension": ".py",
   "mimetype": "text/x-python",
   "name": "python",
   "nbconvert_exporter": "python",
   "pygments_lexer": "ipython2",
   "version": "2.7.11"
  }
 },
 "nbformat": 4,
 "nbformat_minor": 0
}
