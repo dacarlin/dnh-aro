{
 "cells": [
  {
   "cell_type": "markdown",
   "metadata": {},
   "source": [
    "# Design notes\n",
    "\n",
    " 13 designs"
   ]
  },
  {
   "cell_type": "markdown",
   "metadata": {},
   "source": [
    "---\n",
    "\n",
    "### UM_13_Y90D9_1_1b9b_11_hydratase_1_0001_0001"
   ]
  },
  {
   "cell_type": "code",
   "execution_count": null,
   "metadata": {},
   "outputs": [],
   "source": [
    "! open UM_13_Y90D9_1_1b9b_11_hydratase_1_0001_0001.pml"
   ]
  },
  {
   "cell_type": "markdown",
   "metadata": {},
   "source": [
    "**Scaffold**: 1b9b\n",
    "\n",
    "**Mutation string**: N9D+C41A+I92A+S96N+I124G+C126G+V163D+A165G+Y166V+E167G+I172S+L209Y+G211S+L232G+G234E\n",
    "\n",
    "**Mutations**: \n",
    "\n",
    "  1. N9D\n",
    "  1. C41A\n",
    "  1. I92A\n",
    "  1. S96N\n",
    "  1. I124G\n",
    "  1. C126G\n",
    "  1. V163D\n",
    "  1. A165G\n",
    "  1. Y166V\n",
    "  1. E167G\n",
    "  1. I172S\n",
    "  1. L209Y\n",
    "  1. G211S\n",
    "  1. L232G\n",
    "  1. G234E\n",
    "\n",
    "**Scores**: \n",
    "\n",
    "\n",
    "  + `total_score`: -72.6\n",
    "  + Tyrosine `total_score`: -1.21\n",
    "  + Glu/Asp `total_score`: -1.22\n",
    "  + Ligand `total_score`: -1.21\n",
    "\n",
    "**Notes**: \n",
    "\n",
    " --- \n"
   ]
  },
  {
   "cell_type": "markdown",
   "metadata": {},
   "source": [
    "---\n",
    "\n",
    "### UM_14_Y102D146_1_1ghp_11_hydratase_1_0002_0001"
   ]
  },
  {
   "cell_type": "code",
   "execution_count": null,
   "metadata": {},
   "outputs": [],
   "source": [
    "! open UM_14_Y102D146_1_1ghp_11_hydratase_1_0002_0001.pml"
   ]
  },
  {
   "cell_type": "markdown",
   "metadata": {},
   "source": [
    "**Scaffold**: 1ghp\n",
    "\n",
    "**Mutation string**: Y37M+A38S+S41G+K42A+I44L+N45A+N102Y+K116Q+R118V+L119A+T127S+P129A+L136A+F153A\n",
    "\n",
    "**Mutations**: \n",
    "\n",
    "  1. Y37M\n",
    "  1. A38S\n",
    "  1. S41G\n",
    "  1. K42A\n",
    "  1. I44L\n",
    "  1. N45A\n",
    "  1. N102Y\n",
    "  1. K116Q\n",
    "  1. R118V\n",
    "  1. L119A\n",
    "  1. T127S\n",
    "  1. P129A\n",
    "  1. L136A\n",
    "  1. F153A\n",
    "\n",
    "**Scores**: \n",
    "\n",
    "\n",
    "  + `total_score`: -360.43\n",
    "  + Tyrosine `total_score`: -1.31\n",
    "  + Glu/Asp `total_score`: -1.74\n",
    "  + Ligand `total_score`: -1.31\n",
    "\n",
    "**Notes**: \n",
    "\n",
    " --- \n"
   ]
  },
  {
   "cell_type": "markdown",
   "metadata": {},
   "source": [
    "---\n",
    "\n",
    "### UM_16_Y396E343_1_1HZV_11_hydratase_1_0000_0001"
   ]
  },
  {
   "cell_type": "code",
   "execution_count": null,
   "metadata": {},
   "outputs": [],
   "source": [
    "! open UM_16_Y396E343_1_1HZV_11_hydratase_1_0000_0001.pml"
   ]
  },
  {
   "cell_type": "markdown",
   "metadata": {},
   "source": [
    "**Scaffold**: 1HZV\n",
    "\n",
    "**Mutation string**: H153Q+I154A+R156Y+R196G+A255H+H298A+D299L+R343E+F396Y+G502M\n",
    "\n",
    "**Mutations**: \n",
    "\n",
    "  1. H153Q\n",
    "  1. I154A\n",
    "  1. R156Y\n",
    "  1. R196G\n",
    "  1. A255H\n",
    "  1. H298A\n",
    "  1. D299L\n",
    "  1. R343E\n",
    "  1. F396Y\n",
    "  1. G502M\n",
    "\n",
    "**Scores**: \n",
    "\n",
    "\n",
    "  + `total_score`: 227.42\n",
    "  + Tyrosine `total_score`: -1.03\n",
    "  + Glu/Asp `total_score`: -1.66\n",
    "  + Ligand `total_score`: -1.03\n",
    "\n",
    "**Notes**: \n",
    "\n",
    " --- \n"
   ]
  },
  {
   "cell_type": "markdown",
   "metadata": {},
   "source": [
    "---\n",
    "\n",
    "### UM_18_Y20D62_1_1tuv_11_hydratase_1_0001_0001"
   ]
  },
  {
   "cell_type": "code",
   "execution_count": null,
   "metadata": {},
   "outputs": [],
   "source": [
    "! open UM_18_Y20D62_1_1tuv_11_hydratase_1_0001_0001.pml"
   ]
  },
  {
   "cell_type": "markdown",
   "metadata": {},
   "source": [
    "**Scaffold**: 1tuv\n",
    "\n",
    "**Mutation string**: I8T+V20Y+F24V+P42A+I60V+M62D+E64A+Y84H+S85I\n",
    "\n",
    "**Mutations**: \n",
    "\n",
    "  1. I8T\n",
    "  1. V20Y\n",
    "  1. F24V\n",
    "  1. P42A\n",
    "  1. I60V\n",
    "  1. M62D\n",
    "  1. E64A\n",
    "  1. Y84H\n",
    "  1. S85I\n",
    "\n",
    "**Scores**: \n",
    "\n",
    "\n",
    "  + `total_score`: -115.99\n",
    "  + Tyrosine `total_score`: -2.7\n",
    "  + Glu/Asp `total_score`: -1.43\n",
    "  + Ligand `total_score`: -2.7\n",
    "\n",
    "**Notes**: \n",
    "\n",
    " --- \n"
   ]
  },
  {
   "cell_type": "markdown",
   "metadata": {},
   "source": [
    "---\n",
    "\n",
    "### UM_1_Y27E253_1_1p4c_11_hydratase_1_0003_0001"
   ]
  },
  {
   "cell_type": "code",
   "execution_count": null,
   "metadata": {},
   "outputs": [],
   "source": [
    "! open UM_1_Y27E253_1_1p4c_11_hydratase_1_0003_0001.pml"
   ]
  },
  {
   "cell_type": "markdown",
   "metadata": {},
   "source": [
    "**Scaffold**: 1p4c\n",
    "\n",
    "**Mutation string**: G27Y+V34G+R38N+G253E+R285S+R305T+A306P+Y309A\n",
    "\n",
    "**Mutations**: \n",
    "\n",
    "  1. G27Y\n",
    "  1. V34G\n",
    "  1. R38N\n",
    "  1. G253E\n",
    "  1. R285S\n",
    "  1. R305T\n",
    "  1. A306P\n",
    "  1. Y309A\n",
    "\n",
    "**Scores**: \n",
    "\n",
    "\n",
    "  + `total_score`: -357.93\n",
    "  + Tyrosine `total_score`: -1.39\n",
    "  + Glu/Asp `total_score`: -1.09\n",
    "  + Ligand `total_score`: -1.39\n",
    "\n",
    "**Notes**: \n",
    "\n",
    " --- \n"
   ]
  },
  {
   "cell_type": "markdown",
   "metadata": {},
   "source": [
    "---\n",
    "\n",
    "### UM_21_Y93D143_1_1r5l_11_hydratase_1_0002_0001"
   ]
  },
  {
   "cell_type": "code",
   "execution_count": null,
   "metadata": {},
   "outputs": [],
   "source": [
    "! open UM_21_Y93D143_1_1r5l_11_hydratase_1_0002_0001.pml"
   ]
  },
  {
   "cell_type": "markdown",
   "metadata": {},
   "source": [
    "**Scaffold**: 1r5l\n",
    "\n",
    "**Mutation string**: L71A+Y76S+I95A+W98G+V108G+F109M+Q140K+H143D\n",
    "\n",
    "**Mutations**: \n",
    "\n",
    "  1. L71A\n",
    "  1. Y76S\n",
    "  1. I95A\n",
    "  1. W98G\n",
    "  1. V108G\n",
    "  1. F109M\n",
    "  1. Q140K\n",
    "  1. H143D\n",
    "\n",
    "**Scores**: \n",
    "\n",
    "\n",
    "  + `total_score`: -415.76\n",
    "  + Tyrosine `total_score`: -1.6\n",
    "  + Glu/Asp `total_score`: -1.63\n",
    "  + Ligand `total_score`: -1.6\n",
    "\n",
    "**Notes**: \n",
    "\n",
    " --- \n"
   ]
  },
  {
   "cell_type": "markdown",
   "metadata": {},
   "source": [
    "---\n",
    "\n",
    "### UM_4_Y3D45_1_1ikt_11_hydratase_1_0001_0001"
   ]
  },
  {
   "cell_type": "code",
   "execution_count": null,
   "metadata": {},
   "outputs": [],
   "source": [
    "! open UM_4_Y3D45_1_1ikt_11_hydratase_1_0001_0001.pml"
   ]
  },
  {
   "cell_type": "markdown",
   "metadata": {},
   "source": [
    "**Scaffold**: 1ikt\n",
    "\n",
    "**Mutation string**: S3Y+F7A+W31V+I45D+F74A+V77I\n",
    "\n",
    "**Mutations**: \n",
    "\n",
    "  1. S3Y\n",
    "  1. F7A\n",
    "  1. W31V\n",
    "  1. I45D\n",
    "  1. F74A\n",
    "  1. V77I\n",
    "\n",
    "**Scores**: \n",
    "\n",
    "\n",
    "  + `total_score`: -252.0\n",
    "  + Tyrosine `total_score`: -2.18\n",
    "  + Glu/Asp `total_score`: -1.13\n",
    "  + Ligand `total_score`: -2.18\n",
    "\n",
    "**Notes**: \n",
    "\n",
    " --- \n"
   ]
  },
  {
   "cell_type": "markdown",
   "metadata": {},
   "source": [
    "---\n",
    "\n",
    "### UM_50_Y147D206_1_1abe_11_hydratase_1_0003_0001"
   ]
  },
  {
   "cell_type": "code",
   "execution_count": null,
   "metadata": {},
   "outputs": [],
   "source": [
    "! open UM_50_Y147D206_1_1abe_11_hydratase_1_0003_0001.pml"
   ]
  },
  {
   "cell_type": "markdown",
   "metadata": {},
   "source": [
    "**Scaffold**: 1abe\n",
    "\n",
    "**Mutation string**: K9S+Q10H+E13N+F16A+D89L+A147Y+N176P+M203G+N204A+S206D+T207I\n",
    "\n",
    "**Mutations**: \n",
    "\n",
    "  1. K9S\n",
    "  1. Q10H\n",
    "  1. E13N\n",
    "  1. F16A\n",
    "  1. D89L\n",
    "  1. A147Y\n",
    "  1. N176P\n",
    "  1. M203G\n",
    "  1. N204A\n",
    "  1. S206D\n",
    "  1. T207I\n",
    "\n",
    "**Scores**: \n",
    "\n",
    "\n",
    "  + `total_score`: -374.16\n",
    "  + Tyrosine `total_score`: -1.31\n",
    "  + Glu/Asp `total_score`: -1.28\n",
    "  + Ligand `total_score`: -1.31\n",
    "\n",
    "**Notes**: \n",
    "\n",
    " --- \n"
   ]
  },
  {
   "cell_type": "markdown",
   "metadata": {},
   "source": [
    "---\n",
    "\n",
    "### UM_50_Y66D6_1_1tuv_11_hydratase_1_0003_0001"
   ]
  },
  {
   "cell_type": "code",
   "execution_count": null,
   "metadata": {},
   "outputs": [],
   "source": [
    "! open UM_50_Y66D6_1_1tuv_11_hydratase_1_0003_0001.pml"
   ]
  },
  {
   "cell_type": "markdown",
   "metadata": {},
   "source": [
    "**Scaffold**: 1tuv\n",
    "\n",
    "**Mutation string**: V4G+A6D+F24L+T30Y+V31A+E34L+C37V+Y40N+P42A+M62I+E64A+W66Y+H75A+H80W+M81Y\n",
    "\n",
    "**Mutations**: \n",
    "\n",
    "  1. V4G\n",
    "  1. A6D\n",
    "  1. F24L\n",
    "  1. T30Y\n",
    "  1. V31A\n",
    "  1. E34L\n",
    "  1. C37V\n",
    "  1. Y40N\n",
    "  1. P42A\n",
    "  1. M62I\n",
    "  1. E64A\n",
    "  1. W66Y\n",
    "  1. H75A\n",
    "  1. H80W\n",
    "  1. M81Y\n",
    "\n",
    "**Scores**: \n",
    "\n",
    "\n",
    "  + `total_score`: -153.3\n",
    "  + Tyrosine `total_score`: -2.57\n",
    "  + Glu/Asp `total_score`: -1.6\n",
    "  + Ligand `total_score`: -2.57\n",
    "\n",
    "**Notes**: \n",
    "\n",
    " --- \n"
   ]
  },
  {
   "cell_type": "markdown",
   "metadata": {},
   "source": [
    "---\n",
    "\n",
    "### UM_54_Y229E253_1_1p4c_11_hydratase_1_0003_0001"
   ]
  },
  {
   "cell_type": "code",
   "execution_count": null,
   "metadata": {},
   "outputs": [],
   "source": [
    "! open UM_54_Y229E253_1_1p4c_11_hydratase_1_0003_0001.pml"
   ]
  },
  {
   "cell_type": "markdown",
   "metadata": {},
   "source": [
    "**Scaffold**: 1p4c\n",
    "\n",
    "**Mutation string**: P76G+A107F+T153G+D155G+G229Y+H252G+G253E+R255N\n",
    "\n",
    "**Mutations**: \n",
    "\n",
    "  1. P76G\n",
    "  1. A107F\n",
    "  1. T153G\n",
    "  1. D155G\n",
    "  1. G229Y\n",
    "  1. H252G\n",
    "  1. G253E\n",
    "  1. R255N\n",
    "\n",
    "**Scores**: \n",
    "\n",
    "\n",
    "  + `total_score`: -422.48\n",
    "  + Tyrosine `total_score`: -2.04\n",
    "  + Glu/Asp `total_score`: -1.14\n",
    "  + Ligand `total_score`: -2.04\n",
    "\n",
    "**Notes**: \n",
    "\n",
    " --- \n"
   ]
  },
  {
   "cell_type": "markdown",
   "metadata": {},
   "source": [
    "---\n",
    "\n",
    "### UM_55_Y75D6_1_1tuv_11_hydratase_1_0002_0001"
   ]
  },
  {
   "cell_type": "code",
   "execution_count": null,
   "metadata": {},
   "outputs": [],
   "source": [
    "! open UM_55_Y75D6_1_1tuv_11_hydratase_1_0002_0001.pml"
   ]
  },
  {
   "cell_type": "markdown",
   "metadata": {},
   "source": [
    "**Scaffold**: 1tuv\n",
    "\n",
    "**Mutation string**: A6D+I8V+F24A+I27S+V28E+V31A+Y40N+P42S+M62T+E64A+H75Y+H80E+M81Y+Y84A+M95R+I97T\n",
    "\n",
    "**Mutations**: \n",
    "\n",
    "  1. A6D\n",
    "  1. I8V\n",
    "  1. F24A\n",
    "  1. I27S\n",
    "  1. V28E\n",
    "  1. V31A\n",
    "  1. Y40N\n",
    "  1. P42S\n",
    "  1. M62T\n",
    "  1. E64A\n",
    "  1. H75Y\n",
    "  1. H80E\n",
    "  1. M81Y\n",
    "  1. Y84A\n",
    "  1. M95R\n",
    "  1. I97T\n",
    "\n",
    "**Scores**: \n",
    "\n",
    "\n",
    "  + `total_score`: -137.2\n",
    "  + Tyrosine `total_score`: -1.37\n",
    "  + Glu/Asp `total_score`: -1.08\n",
    "  + Ligand `total_score`: -1.37\n",
    "\n",
    "**Notes**: \n",
    "\n",
    " --- \n"
   ]
  },
  {
   "cell_type": "markdown",
   "metadata": {},
   "source": [
    "---\n",
    "\n",
    "### UM_69_Y144D111_1_1cjw_11_hydratase_1_0004_0001"
   ]
  },
  {
   "cell_type": "code",
   "execution_count": null,
   "metadata": {},
   "outputs": [],
   "source": [
    "! open UM_69_Y144D111_1_1cjw_11_hydratase_1_0004_0001.pml"
   ]
  },
  {
   "cell_type": "markdown",
   "metadata": {},
   "source": [
    "**Scaffold**: 1cjw\n",
    "\n",
    "**Mutation string**: I65R+H91M+L95G+L111D+Y114A+H117M+F144Y\n",
    "\n",
    "**Mutations**: \n",
    "\n",
    "  1. I65R\n",
    "  1. H91M\n",
    "  1. L95G\n",
    "  1. L111D\n",
    "  1. Y114A\n",
    "  1. H117M\n",
    "  1. F144Y\n",
    "\n",
    "**Scores**: \n",
    "\n",
    "\n",
    "  + `total_score`: -322.52\n",
    "  + Tyrosine `total_score`: -2.92\n",
    "  + Glu/Asp `total_score`: -1.16\n",
    "  + Ligand `total_score`: -2.92\n",
    "\n",
    "**Notes**: \n",
    "\n",
    " --- \n"
   ]
  },
  {
   "cell_type": "markdown",
   "metadata": {},
   "source": [
    "---\n",
    "\n",
    "### UM_71_Y153D114_1_1tt8_11_hydratase_1_0003_0001"
   ]
  },
  {
   "cell_type": "code",
   "execution_count": null,
   "metadata": {},
   "outputs": [],
   "source": [
    "! open UM_71_Y153D114_1_1tt8_11_hydratase_1_0003_0001.pml"
   ]
  },
  {
   "cell_type": "markdown",
   "metadata": {},
   "source": [
    "**Scaffold**: 1tt8\n",
    "\n",
    "**Mutation string**: T92I+E103N+L106Q+L109A+L114D+R116S+F119A+L146W+L151A+L153Y\n",
    "\n",
    "**Mutations**: \n",
    "\n",
    "  1. T92I\n",
    "  1. E103N\n",
    "  1. L106Q\n",
    "  1. L109A\n",
    "  1. L114D\n",
    "  1. R116S\n",
    "  1. F119A\n",
    "  1. L146W\n",
    "  1. L151A\n",
    "  1. L153Y\n",
    "\n",
    "**Scores**: \n",
    "\n",
    "\n",
    "  + `total_score`: -349.02\n",
    "  + Tyrosine `total_score`: -2.01\n",
    "  + Glu/Asp `total_score`: -1.4\n",
    "  + Ligand `total_score`: -2.01\n",
    "\n",
    "**Notes**: \n",
    "\n",
    " --- \n"
   ]
  }
 ],
 "metadata": {},
 "nbformat": 4,
 "nbformat_minor": 0
}