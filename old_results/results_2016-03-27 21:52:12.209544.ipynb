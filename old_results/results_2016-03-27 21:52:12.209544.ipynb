{
 "cells": [
  {
   "cell_type": "markdown",
   "metadata": {},
   "source": [
    "# Design notes\n",
    "\n",
    " 6 designs"
   ]
  },
  {
   "cell_type": "markdown",
   "metadata": {},
   "source": [
    "---\n",
    "\n",
    "### UM_1_Y27E253_1_1p4c_11_hydratase_1_0000_0001"
   ]
  },
  {
   "cell_type": "code",
   "execution_count": 1,
   "metadata": {
    "collapsed": true
   },
   "outputs": [],
   "source": [
    "! open UM_1_Y27E253_1_1p4c_11_hydratase_1_0000_0001.pml"
   ]
  },
  {
   "cell_type": "markdown",
   "metadata": {},
   "source": [
    "**Scaffold**: 1p4c\n",
    "\n",
    "**Mutation string**: G27Y+V34G+R38N+G253E+R285S+R305T+Y309A\n",
    "\n",
    "**Mutations**: \n",
    "\n",
    "  1. G27Y\n",
    "  1. V34G\n",
    "  1. R38N\n",
    "  1. G253E\n",
    "  1. R285S\n",
    "  1. R305T\n",
    "  1. Y309A\n",
    "\n",
    "**Scores**: \n",
    "\n",
    "\n",
    "  + `total_score`: -355.04\n",
    "  + Tyrosine `total_score`: -1.3\n",
    "  + Glu/Asp `total_score`: -1.01\n",
    "  + Ligand `total_score`: -1.3\n",
    "\n",
    "**Notes**: \n",
    "\n",
    " --- \n"
   ]
  },
  {
   "cell_type": "markdown",
   "metadata": {},
   "source": [
    "---\n",
    "\n",
    "### UM_21_Y93D143_1_1r5l_11_hydratase_1_0000_0001"
   ]
  },
  {
   "cell_type": "code",
   "execution_count": 2,
   "metadata": {
    "collapsed": true
   },
   "outputs": [],
   "source": [
    "! open UM_21_Y93D143_1_1r5l_11_hydratase_1_0000_0001.pml"
   ]
  },
  {
   "cell_type": "markdown",
   "metadata": {},
   "source": [
    "**Scaffold**: 1r5l\n",
    "\n",
    "**Mutation string**: L71A+Y76S+I95A+W98A+V102K+V108G+H143D\n",
    "\n",
    "**Mutations**: \n",
    "\n",
    "  1. L71A\n",
    "  1. Y76S\n",
    "  1. I95A\n",
    "  1. W98A\n",
    "  1. V102K\n",
    "  1. V108G\n",
    "  1. H143D\n",
    "\n",
    "**Scores**: \n",
    "\n",
    "\n",
    "  + `total_score`: -413.44\n",
    "  + Tyrosine `total_score`: -1.93\n",
    "  + Glu/Asp `total_score`: -1.49\n",
    "  + Ligand `total_score`: -1.93\n",
    "\n",
    "**Notes**: \n",
    "\n",
    " --- \n"
   ]
  },
  {
   "cell_type": "markdown",
   "metadata": {},
   "source": [
    "---\n",
    "\n",
    "### UM_4_Y3D45_1_1ikt_11_hydratase_1_0001_0001"
   ]
  },
  {
   "cell_type": "code",
   "execution_count": 3,
   "metadata": {
    "collapsed": true
   },
   "outputs": [],
   "source": [
    "! open UM_4_Y3D45_1_1ikt_11_hydratase_1_0001_0001.pml"
   ]
  },
  {
   "cell_type": "markdown",
   "metadata": {},
   "source": [
    "**Scaffold**: 1ikt\n",
    "\n",
    "**Mutation string**: S3Y+F7A+W31V+I45D+F74A+V77I\n",
    "\n",
    "**Mutations**: \n",
    "\n",
    "  1. S3Y\n",
    "  1. F7A\n",
    "  1. W31V\n",
    "  1. I45D\n",
    "  1. F74A\n",
    "  1. V77I\n",
    "\n",
    "**Scores**: \n",
    "\n",
    "\n",
    "  + `total_score`: -252.0\n",
    "  + Tyrosine `total_score`: -2.18\n",
    "  + Glu/Asp `total_score`: -1.13\n",
    "  + Ligand `total_score`: -2.18\n",
    "\n",
    "**Notes**: \n",
    "\n",
    " --- \n"
   ]
  },
  {
   "cell_type": "markdown",
   "metadata": {},
   "source": [
    "---\n",
    "\n",
    "### UM_50_Y147D206_1_1abe_11_hydratase_1_0004_0001"
   ]
  },
  {
   "cell_type": "code",
   "execution_count": 4,
   "metadata": {
    "collapsed": true
   },
   "outputs": [],
   "source": [
    "! open UM_50_Y147D206_1_1abe_11_hydratase_1_0004_0001.pml"
   ]
  },
  {
   "cell_type": "markdown",
   "metadata": {},
   "source": [
    "**Scaffold**: 1abe\n",
    "\n",
    "**Mutation string**: V8N+K9A+Q10H+E13A+F16A+C63D+D88N+D89N+A147Y+N176P+M203G+N204A+S206D+T207I\n",
    "\n",
    "**Mutations**: \n",
    "\n",
    "  1. V8N\n",
    "  1. K9A\n",
    "  1. Q10H\n",
    "  1. E13A\n",
    "  1. F16A\n",
    "  1. C63D\n",
    "  1. D88N\n",
    "  1. D89N\n",
    "  1. A147Y\n",
    "  1. N176P\n",
    "  1. M203G\n",
    "  1. N204A\n",
    "  1. S206D\n",
    "  1. T207I\n",
    "\n",
    "**Scores**: \n",
    "\n",
    "\n",
    "  + `total_score`: -372.69\n",
    "  + Tyrosine `total_score`: -1.18\n",
    "  + Glu/Asp `total_score`: -1.13\n",
    "  + Ligand `total_score`: -1.18\n",
    "\n",
    "**Notes**: \n",
    "\n",
    " --- \n"
   ]
  },
  {
   "cell_type": "markdown",
   "metadata": {},
   "source": [
    "---\n",
    "\n",
    "### UM_69_Y144D111_1_1cjw_11_hydratase_1_0004_0001"
   ]
  },
  {
   "cell_type": "code",
   "execution_count": 5,
   "metadata": {
    "collapsed": true
   },
   "outputs": [],
   "source": [
    "! open UM_69_Y144D111_1_1cjw_11_hydratase_1_0004_0001.pml"
   ]
  },
  {
   "cell_type": "markdown",
   "metadata": {},
   "source": [
    "**Scaffold**: 1cjw\n",
    "\n",
    "**Mutation string**: I65R+H91M+L95G+L111D+Y114A+H117M+F144Y\n",
    "\n",
    "**Mutations**: \n",
    "\n",
    "  1. I65R\n",
    "  1. H91M\n",
    "  1. L95G\n",
    "  1. L111D\n",
    "  1. Y114A\n",
    "  1. H117M\n",
    "  1. F144Y\n",
    "\n",
    "**Scores**: \n",
    "\n",
    "\n",
    "  + `total_score`: -322.52\n",
    "  + Tyrosine `total_score`: -2.92\n",
    "  + Glu/Asp `total_score`: -1.16\n",
    "  + Ligand `total_score`: -2.92\n",
    "\n",
    "**Notes**: \n",
    "\n",
    " --- \n"
   ]
  },
  {
   "cell_type": "markdown",
   "metadata": {},
   "source": [
    "---\n",
    "\n",
    "### UM_71_Y153D114_1_1tt8_11_hydratase_1_0000_0001"
   ]
  },
  {
   "cell_type": "code",
   "execution_count": 6,
   "metadata": {
    "collapsed": true
   },
   "outputs": [],
   "source": [
    "! open UM_71_Y153D114_1_1tt8_11_hydratase_1_0000_0001.pml"
   ]
  },
  {
   "cell_type": "markdown",
   "metadata": {},
   "source": [
    "**Scaffold**: 1tt8\n",
    "\n",
    "**Mutation string**: E103N+L106Q+L109A+L114D+R116S+F119A+L146W+L151A+L153Y\n",
    "\n",
    "**Mutations**: \n",
    "\n",
    "  1. E103N\n",
    "  1. L106Q\n",
    "  1. L109A\n",
    "  1. L114D\n",
    "  1. R116S\n",
    "  1. F119A\n",
    "  1. L146W\n",
    "  1. L151A\n",
    "  1. L153Y\n",
    "\n",
    "**Scores**: \n",
    "\n",
    "\n",
    "  + `total_score`: -345.8\n",
    "  + Tyrosine `total_score`: -1.62\n",
    "  + Glu/Asp `total_score`: -1.22\n",
    "  + Ligand `total_score`: -1.62\n",
    "\n",
    "**Notes**: \n",
    "\n",
    " --- \n"
   ]
  }
 ],
 "metadata": {
  "kernelspec": {
   "display_name": "Python 2",
   "language": "python",
   "name": "python2"
  },
  "language_info": {
   "codemirror_mode": {
    "name": "ipython",
    "version": 2
   },
   "file_extension": ".py",
   "mimetype": "text/x-python",
   "name": "python",
   "nbconvert_exporter": "python",
   "pygments_lexer": "ipython2",
   "version": "2.7.11"
  }
 },
 "nbformat": 4,
 "nbformat_minor": 0
}
