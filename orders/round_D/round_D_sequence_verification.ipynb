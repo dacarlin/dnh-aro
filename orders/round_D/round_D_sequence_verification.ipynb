{
 "cells": [
  {
   "cell_type": "code",
   "execution_count": 13,
   "metadata": {
    "collapsed": true
   },
   "outputs": [],
   "source": [
    "from Bio import SeqIO\n",
    "from glob import glob \n",
    "from subprocess import call, check_output\n",
    "from itertools import product"
   ]
  },
  {
   "cell_type": "code",
   "execution_count": 14,
   "metadata": {
    "collapsed": false
   },
   "outputs": [],
   "source": [
    "# params and paths\n",
    "\n",
    "read_dir = '191641_dna_seq_rep_8927223_zip/'\n",
    "my_sample_names = [ 'Alex{}-{}'.format( i, j ) for i, j in product( range( 1, 13 ), range( 1, 4 ) ) ]\n",
    "wt_pep = 'order_peptide_sequences.fasta' "
   ]
  },
  {
   "cell_type": "code",
   "execution_count": 15,
   "metadata": {
    "collapsed": false
   },
   "outputs": [],
   "source": [
    "# convert all the reads to FASTQ\n",
    "\n",
    "for read in glob( '{}/*ab1'.format( read_dir ) ):\n",
    "    SeqIO.convert( read, 'abi', read.replace( 'ab1', 'fastq' ), 'fastq' )"
   ]
  },
  {
   "cell_type": "code",
   "execution_count": 16,
   "metadata": {
    "collapsed": false,
    "scrolled": false
   },
   "outputs": [
    {
     "name": "stdout",
     "output_type": "stream",
     "text": [
      "['191641_dna_seq_rep_8927223_zip/A01_U0619BF170-1_Alex1-1_T7.fastq'] ['191641_dna_seq_rep_8927223_zip/A01_U0619BF170-67_Alex1-1_T7-Ter.fastq']\n",
      "['191641_dna_seq_rep_8927223_zip/A02_U0619BF170-2_Alex1-2_T7.fastq', '191641_dna_seq_rep_8927223_zip/B01_U0619BF170-2_Alex1-2_T7.fastq'] ['191641_dna_seq_rep_8927223_zip/A02_U0619BF170-68_Alex1-2_T7-Ter.fastq', '191641_dna_seq_rep_8927223_zip/B01_U0619BF170-68_Alex1-2_T7-Ter.fastq']\n",
      "['191641_dna_seq_rep_8927223_zip/A03_U0619BF170-3_Alex1-3_T7.fastq', '191641_dna_seq_rep_8927223_zip/C01_U0619BF170-3_Alex1-3_T7.fastq'] ['191641_dna_seq_rep_8927223_zip/A03_U0619BF170-69_Alex1-3_T7-Ter.fastq', '191641_dna_seq_rep_8927223_zip/C01_U0619BF170-69_Alex1-3_T7-Ter.fastq']\n",
      "['191641_dna_seq_rep_8927223_zip/B01_U0619BF170-4_Alex2-1_T7.fastq', '191641_dna_seq_rep_8927223_zip/D01_U0619BF170-4_Alex2-1_T7.fastq'] ['191641_dna_seq_rep_8927223_zip/B01_U0619BF170-70_Alex2-1_T7-Ter.fastq', '191641_dna_seq_rep_8927223_zip/D01_U0619BF170-70_Alex2-1_T7-Ter.fastq']\n",
      "['191641_dna_seq_rep_8927223_zip/B02_U0619BF170-5_Alex2-2_T7.fastq', '191641_dna_seq_rep_8927223_zip/E01_U0619BF170-5_Alex2-2_T7.fastq'] ['191641_dna_seq_rep_8927223_zip/B02_U0619BF170-71_Alex2-2_T7-Ter.fastq', '191641_dna_seq_rep_8927223_zip/E01_U0619BF170-71_Alex2-2_T7-Ter.fastq']\n",
      "['191641_dna_seq_rep_8927223_zip/B03_U0619BF170-6_Alex2-3_T7.fastq', '191641_dna_seq_rep_8927223_zip/F01_U0619BF170-6_Alex2-3_T7.fastq'] ['191641_dna_seq_rep_8927223_zip/B03_U0619BF170-72_Alex2-3_T7-Ter.fastq', '191641_dna_seq_rep_8927223_zip/F01_U0619BF170-72_Alex2-3_T7-Ter.fastq']\n",
      "['191641_dna_seq_rep_8927223_zip/C01_U0619BF170-7_Alex3-1_T7.fastq', '191641_dna_seq_rep_8927223_zip/G01_U0619BF170-7_Alex3-1_T7.fastq'] ['191641_dna_seq_rep_8927223_zip/C01_U0619BF170-73_Alex3-1_T7-Ter.fastq', '191641_dna_seq_rep_8927223_zip/G01_U0619BF170-73_Alex3-1_T7-Ter.fastq']\n",
      "['191641_dna_seq_rep_8927223_zip/C02_U0619BF170-8_Alex3-2_T7.fastq', '191641_dna_seq_rep_8927223_zip/H01_U0619BF170-8_Alex3-2_T7.fastq'] ['191641_dna_seq_rep_8927223_zip/C02_U0619BF170-74_Alex3-2_T7-Ter.fastq', '191641_dna_seq_rep_8927223_zip/H01_U0619BF170-74_Alex3-2_T7-Ter.fastq']\n",
      "['191641_dna_seq_rep_8927223_zip/A02_U0619BF170-9_Alex3-3_T7.fastq', '191641_dna_seq_rep_8927223_zip/C03_U0619BF170-9_Alex3-3_T7.fastq'] ['191641_dna_seq_rep_8927223_zip/A02_U0619BF170-75_Alex3-3_T7-Ter.fastq', '191641_dna_seq_rep_8927223_zip/C03_U0619BF170-75_Alex3-3_T7-Ter.fastq']\n",
      "['191641_dna_seq_rep_8927223_zip/B02_U0619BF170-10_Alex4-1_T7.fastq', '191641_dna_seq_rep_8927223_zip/D01_U0619BF170-10_Alex4-1_T7.fastq'] ['191641_dna_seq_rep_8927223_zip/B02_U0619BF170-76_Alex4-1_T7-Ter.fastq', '191641_dna_seq_rep_8927223_zip/D01_U0619BF170-76_Alex4-1_T7-Ter.fastq']\n",
      "['191641_dna_seq_rep_8927223_zip/C02_U0619BF170-11_Alex4-2_T7.fastq', '191641_dna_seq_rep_8927223_zip/D02_U0619BF170-11_Alex4-2_T7.fastq'] ['191641_dna_seq_rep_8927223_zip/C02_U0619BF170-77_Alex4-2_T7-Ter.fastq', '191641_dna_seq_rep_8927223_zip/D02_U0619BF170-77_Alex4-2_T7-Ter.fastq']\n",
      "['191641_dna_seq_rep_8927223_zip/D02_U0619BF170-12_Alex4-3_T7.fastq', '191641_dna_seq_rep_8927223_zip/D03_U0619BF170-12_Alex4-3_T7.fastq'] ['191641_dna_seq_rep_8927223_zip/D02_U0619BF170-78_Alex4-3_T7-Ter.fastq', '191641_dna_seq_rep_8927223_zip/D03_U0619BF170-78_Alex4-3_T7-Ter.fastq']\n",
      "['191641_dna_seq_rep_8927223_zip/E01_U0619BF170-13_Alex5-1_T7.fastq', '191641_dna_seq_rep_8927223_zip/E02_U0619BF170-13_Alex5-1_T7.fastq'] ['191641_dna_seq_rep_8927223_zip/E01_U0619BF170-79_Alex5-1_T7-Ter.fastq', '191641_dna_seq_rep_8927223_zip/E02_U0619BF170-79_Alex5-1_T7-Ter.fastq']\n",
      "['191641_dna_seq_rep_8927223_zip/E02_U0619BF170-14_Alex5-2_T7.fastq', '191641_dna_seq_rep_8927223_zip/F02_U0619BF170-14_Alex5-2_T7.fastq'] ['191641_dna_seq_rep_8927223_zip/E02_U0619BF170-80_Alex5-2_T7-Ter.fastq', '191641_dna_seq_rep_8927223_zip/F02_U0619BF170-80_Alex5-2_T7-Ter.fastq']\n",
      "['191641_dna_seq_rep_8927223_zip/E03_U0619BF170-15_Alex5-3_T7.fastq', '191641_dna_seq_rep_8927223_zip/G02_U0619BF170-15_Alex5-3_T7.fastq'] ['191641_dna_seq_rep_8927223_zip/E03_U0619BF170-81_Alex5-3_T7-Ter.fastq', '191641_dna_seq_rep_8927223_zip/G02_U0619BF170-81_Alex5-3_T7-Ter.fastq']\n",
      "['191641_dna_seq_rep_8927223_zip/F01_U0619BF170-16_Alex6-1_T7.fastq', '191641_dna_seq_rep_8927223_zip/H02_U0619BF170-16_Alex6-1_T7.fastq'] ['191641_dna_seq_rep_8927223_zip/F01_U0619BF170-82_Alex6-1_T7-Ter.fastq', '191641_dna_seq_rep_8927223_zip/H02_U0619BF170-82_Alex6-1_T7-Ter.fastq']\n",
      "['191641_dna_seq_rep_8927223_zip/A03_U0619BF170-17_Alex6-2_T7.fastq', '191641_dna_seq_rep_8927223_zip/F02_U0619BF170-17_Alex6-2_T7.fastq'] ['191641_dna_seq_rep_8927223_zip/A03_U0619BF170-83_Alex6-2_T7-Ter.fastq', '191641_dna_seq_rep_8927223_zip/F02_U0619BF170-83_Alex6-2_T7-Ter.fastq']\n",
      "['191641_dna_seq_rep_8927223_zip/B03_U0619BF170-18_Alex6-3_T7.fastq', '191641_dna_seq_rep_8927223_zip/F03_U0619BF170-18_Alex6-3_T7.fastq'] ['191641_dna_seq_rep_8927223_zip/B03_U0619BF170-84_Alex6-3_T7-Ter.fastq', '191641_dna_seq_rep_8927223_zip/F03_U0619BF170-84_Alex6-3_T7-Ter.fastq']\n",
      "['191641_dna_seq_rep_8927223_zip/C03_U0619BF170-19_Alex7-1_T7.fastq', '191641_dna_seq_rep_8927223_zip/G01_U0619BF170-19_Alex7-1_T7.fastq'] ['191641_dna_seq_rep_8927223_zip/C03_U0619BF170-85_Alex7-1_T7-Ter.fastq', '191641_dna_seq_rep_8927223_zip/G01_U0619BF170-85_Alex7-1_T7-Ter.fastq']\n",
      "['191641_dna_seq_rep_8927223_zip/D03_U0619BF170-20_Alex7-2_T7.fastq', '191641_dna_seq_rep_8927223_zip/G02_U0619BF170-20_Alex7-2_T7.fastq'] ['191641_dna_seq_rep_8927223_zip/D03_U0619BF170-86_Alex7-2_T7-Ter.fastq', '191641_dna_seq_rep_8927223_zip/G02_U0619BF170-86_Alex7-2_T7-Ter.fastq']\n",
      "['191641_dna_seq_rep_8927223_zip/E03_U0619BF170-21_Alex7-3_T7.fastq', '191641_dna_seq_rep_8927223_zip/G03_U0619BF170-21_Alex7-3_T7.fastq'] ['191641_dna_seq_rep_8927223_zip/E03_U0619BF170-87_Alex7-3_T7-Ter.fastq', '191641_dna_seq_rep_8927223_zip/G03_U0619BF170-87_Alex7-3_T7-Ter.fastq']\n",
      "['191641_dna_seq_rep_8927223_zip/F03_U0619BF170-22_Alex8-1_T7.fastq', '191641_dna_seq_rep_8927223_zip/H01_U0619BF170-22_Alex8-1_T7.fastq'] ['191641_dna_seq_rep_8927223_zip/F03_U0619BF170-88_Alex8-1_T7-Ter.fastq', '191641_dna_seq_rep_8927223_zip/H01_U0619BF170-88_Alex8-1_T7-Ter.fastq']\n",
      "['191641_dna_seq_rep_8927223_zip/G03_U0619BF170-23_Alex8-2_T7.fastq', '191641_dna_seq_rep_8927223_zip/H02_U0619BF170-23_Alex8-2_T7.fastq'] ['191641_dna_seq_rep_8927223_zip/G03_U0619BF170-89_Alex8-2_T7-Ter.fastq', '191641_dna_seq_rep_8927223_zip/H02_U0619BF170-89_Alex8-2_T7-Ter.fastq']\n",
      "['191641_dna_seq_rep_8927223_zip/H03_U0619BF170-24_Alex8-3_T7.fastq'] ['191641_dna_seq_rep_8927223_zip/H03_U0619BF170-90_Alex8-3_T7-Ter.fastq']\n",
      "['191641_dna_seq_rep_8927223_zip/A04_U0619BF170-25_Alex9-1_T7.fastq'] ['191641_dna_seq_rep_8927223_zip/A04_U0619BF170-91_Alex9-1_T7-Ter.fastq']\n",
      "['191641_dna_seq_rep_8927223_zip/A05_U0619BF170-26_Alex9-2_T7.fastq', '191641_dna_seq_rep_8927223_zip/B04_U0619BF170-26_Alex9-2_T7.fastq'] ['191641_dna_seq_rep_8927223_zip/A05_U0619BF170-92_Alex9-2_T7-Ter.fastq', '191641_dna_seq_rep_8927223_zip/B04_U0619BF170-92_Alex9-2_T7-Ter.fastq']\n",
      "['191641_dna_seq_rep_8927223_zip/A06_U0619BF170-27_Alex9-3_T7.fastq', '191641_dna_seq_rep_8927223_zip/C04_U0619BF170-27_Alex9-3_T7.fastq'] ['191641_dna_seq_rep_8927223_zip/A06_U0619BF170-93_Alex9-3_T7-Ter.fastq', '191641_dna_seq_rep_8927223_zip/C04_U0619BF170-93_Alex9-3_T7-Ter.fastq']\n",
      "['191641_dna_seq_rep_8927223_zip/B04_U0619BF170-28_Alex10-1_T7.fastq', '191641_dna_seq_rep_8927223_zip/D04_U0619BF170-28_Alex10-1_T7.fastq'] ['191641_dna_seq_rep_8927223_zip/B04_U0619BF170-94_Alex10-1_T7-Ter.fastq', '191641_dna_seq_rep_8927223_zip/D04_U0619BF170-94_Alex10-1_T7-Ter.fastq']\n",
      "['191641_dna_seq_rep_8927223_zip/B05_U0619BF170-29_Alex10-2_T7.fastq', '191641_dna_seq_rep_8927223_zip/E04_U0619BF170-29_Alex10-2_T7.fastq'] ['191641_dna_seq_rep_8927223_zip/B05_U0619BF170-95_Alex10-2_T7-Ter.fastq', '191641_dna_seq_rep_8927223_zip/E04_U0619BF170-95_Alex10-2_T7-Ter.fastq']\n",
      "['191641_dna_seq_rep_8927223_zip/B06_U0619BF170-30_Alex10-3_T7.fastq', '191641_dna_seq_rep_8927223_zip/F04_U0619BF170-30_Alex10-3_T7.fastq'] ['191641_dna_seq_rep_8927223_zip/B06_U0619BF170-96_Alex10-3_T7-Ter.fastq', '191641_dna_seq_rep_8927223_zip/F04_U0619BF170-96_Alex10-3_T7-Ter.fastq']\n",
      "['191641_dna_seq_rep_8927223_zip/C04_U0619BF170-31_Alex11-1_T7.fastq', '191641_dna_seq_rep_8927223_zip/G04_U0619BF170-31_Alex11-1_T7.fastq'] ['191641_dna_seq_rep_8927223_zip/C04_U0619BF170-97_Alex11-1_T7-Ter.fastq', '191641_dna_seq_rep_8927223_zip/G04_U0619BF170-97_Alex11-1_T7-Ter.fastq']\n",
      "['191641_dna_seq_rep_8927223_zip/C05_U0619BF170-32_Alex11-2_T7.fastq', '191641_dna_seq_rep_8927223_zip/H04_U0619BF170-32_Alex11-2_T7.fastq'] ['191641_dna_seq_rep_8927223_zip/C05_U0619BF170-98_Alex11-2_T7-Ter.fastq', '191641_dna_seq_rep_8927223_zip/H04_U0619BF170-98_Alex11-2_T7-Ter.fastq']\n",
      "['191641_dna_seq_rep_8927223_zip/A05_U0619BF170-33_Alex11-3_T7.fastq', '191641_dna_seq_rep_8927223_zip/C06_U0619BF170-33_Alex11-3_T7.fastq'] ['191641_dna_seq_rep_8927223_zip/A05_U0619BF170-99_Alex11-3_T7-Ter.fastq', '191641_dna_seq_rep_8927223_zip/C06_U0619BF170-99_Alex11-3_T7-Ter.fastq']\n",
      "['191641_dna_seq_rep_8927223_zip/B05_U0619BF170-34_Alex12-1_T7.fastq', '191641_dna_seq_rep_8927223_zip/D04_U0619BF170-34_Alex12-1_T7.fastq'] ['191641_dna_seq_rep_8927223_zip/B05_U0619BF170-100_Alex12-1_T7-Ter.fastq', '191641_dna_seq_rep_8927223_zip/D04_U0619BF170-100_Alex12-1_T7-Ter.fastq']\n",
      "['191641_dna_seq_rep_8927223_zip/C05_U0619BF170-35_Alex12-2_T7.fastq', '191641_dna_seq_rep_8927223_zip/D05_U0619BF170-35_Alex12-2_T7.fastq'] ['191641_dna_seq_rep_8927223_zip/C05_U0619BF170-101_Alex12-2_T7-Ter.fastq', '191641_dna_seq_rep_8927223_zip/D05_U0619BF170-101_Alex12-2_T7-Ter.fastq']\n",
      "['191641_dna_seq_rep_8927223_zip/D05_U0619BF170-36_Alex12-3_T7.fastq', '191641_dna_seq_rep_8927223_zip/D06_U0619BF170-36_Alex12-3_T7.fastq'] ['191641_dna_seq_rep_8927223_zip/D05_U0619BF170-102_Alex12-3_T7-Ter.fastq', '191641_dna_seq_rep_8927223_zip/D06_U0619BF170-102_Alex12-3_T7-Ter.fastq']\n"
     ]
    }
   ],
   "source": [
    "# pair and merge the reads \n",
    "\n",
    "expect = 0\n",
    "for sample_name in my_sample_names:\n",
    "    fwd = glob( '{}/*_{}_T7.fastq'.format( read_dir, sample_name ) ) \n",
    "    rev = glob( '{}/*_{}_T7-Ter.fastq'.format( read_dir, sample_name ) )\n",
    "    print fwd, rev\n",
    "    if len( fwd ) == len( rev ) == 1:\n",
    "        my_sample = '{}/{}'.format( read_dir, sample_name )\n",
    "        cmd = [ 'pear', '-f', fwd[0], '-r', rev[0], '-o', my_sample ]\n",
    "        call( cmd )\n",
    "        expect += 1 "
   ]
  },
  {
   "cell_type": "code",
   "execution_count": 17,
   "metadata": {
    "collapsed": false
   },
   "outputs": [],
   "source": [
    "# convert all the assemblies to FASTA\n",
    "\n",
    "for assembly in glob( '{}/*.assembled.fastq'.format( read_dir ) ):\n",
    "    SeqIO.convert( assembly, 'fastq', assembly.replace( 'fastq', 'fasta' ), 'fasta' )"
   ]
  },
  {
   "cell_type": "code",
   "execution_count": 18,
   "metadata": {
    "collapsed": false,
    "scrolled": false
   },
   "outputs": [
    {
     "name": "stdout",
     "output_type": "stream",
     "text": [
      "cat: sanger_reads/*assembled.fasta: No such file or directory\n",
      "Warning: [blastn] Query is Empty!\n",
      "Warning: [blastx] Query is Empty!\n"
     ]
    }
   ],
   "source": [
    "! cat sanger_reads/*assembled.fasta > my_reads.fa \n",
    "! blastn -subject order_nucleotide_sequences.fasta -query my_reads.fa\n",
    "! blastx -subject order_peptide_sequences.fasta -query my_reads.fa"
   ]
  },
  {
   "cell_type": "markdown",
   "metadata": {
    "collapsed": true
   },
   "source": [
    "### Sequencing results  \n",
    "\n"
   ]
  },
  {
   "cell_type": "code",
   "execution_count": null,
   "metadata": {
    "collapsed": true
   },
   "outputs": [],
   "source": []
  }
 ],
 "metadata": {
  "kernelspec": {
   "display_name": "Python 2",
   "language": "python",
   "name": "python2"
  },
  "language_info": {
   "codemirror_mode": {
    "name": "ipython",
    "version": 2
   },
   "file_extension": ".py",
   "mimetype": "text/x-python",
   "name": "python",
   "nbconvert_exporter": "python",
   "pygments_lexer": "ipython2",
   "version": "2.7.11"
  }
 },
 "nbformat": 4,
 "nbformat_minor": 0
}
